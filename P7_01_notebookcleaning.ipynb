{
 "cells": [
  {
   "cell_type": "markdown",
   "metadata": {
    "id": "WI4jn1Uq-RCr"
   },
   "source": [
    "# Cleaning and exploration"
   ]
  },
  {
   "cell_type": "code",
   "execution_count": 1,
   "metadata": {
    "id": "QRbeT5sj-RCu"
   },
   "outputs": [
    {
     "ename": "ModuleNotFoundError",
     "evalue": "No module named 'pandas'",
     "output_type": "error",
     "traceback": [
      "\u001b[0;31m---------------------------------------------------------------------------\u001b[0m",
      "\u001b[0;31mModuleNotFoundError\u001b[0m                       Traceback (most recent call last)",
      "\u001b[0;32m<ipython-input-1-3a00a96680a7>\u001b[0m in \u001b[0;36m<module>\u001b[0;34m\u001b[0m\n\u001b[0;32m----> 1\u001b[0;31m \u001b[0;32mimport\u001b[0m \u001b[0mpandas\u001b[0m \u001b[0;32mas\u001b[0m \u001b[0mpd\u001b[0m\u001b[0;34m\u001b[0m\u001b[0;34m\u001b[0m\u001b[0m\n\u001b[0m\u001b[1;32m      2\u001b[0m \u001b[0;32mimport\u001b[0m \u001b[0mnumpy\u001b[0m \u001b[0;32mas\u001b[0m \u001b[0mnp\u001b[0m\u001b[0;34m\u001b[0m\u001b[0;34m\u001b[0m\u001b[0m\n\u001b[1;32m      3\u001b[0m \u001b[0;32mimport\u001b[0m \u001b[0mmatplotlib\u001b[0m\u001b[0;34m.\u001b[0m\u001b[0mpyplot\u001b[0m \u001b[0;32mas\u001b[0m \u001b[0mplt\u001b[0m\u001b[0;34m\u001b[0m\u001b[0;34m\u001b[0m\u001b[0m\n\u001b[1;32m      4\u001b[0m \u001b[0;32mimport\u001b[0m \u001b[0mglob\u001b[0m\u001b[0;34m\u001b[0m\u001b[0;34m\u001b[0m\u001b[0m\n\u001b[1;32m      5\u001b[0m \u001b[0;32mimport\u001b[0m \u001b[0mmissingno\u001b[0m \u001b[0;32mas\u001b[0m \u001b[0mmsno\u001b[0m\u001b[0;34m\u001b[0m\u001b[0;34m\u001b[0m\u001b[0m\n",
      "\u001b[0;31mModuleNotFoundError\u001b[0m: No module named 'pandas'"
     ]
    }
   ],
   "source": [
    "import pandas as pd\n",
    "import numpy as np\n",
    "import matplotlib.pyplot as plt\n",
    "import glob\n",
    "import missingno as msno\n",
    "import seaborn as sns\n",
    "from wordcloud import WordCloud, STOPWORDS\n",
    "import gc\n",
    "\n",
    "import sys\n",
    "sys.path.append(\"Modules/\")\n",
    "\n",
    "import nlp_module as nlp"
   ]
  },
  {
   "cell_type": "code",
   "execution_count": null,
   "metadata": {
    "id": "jIhqyG7s-RCw"
   },
   "outputs": [],
   "source": [
    "sns.set_theme(style=\"ticks\",\n",
    "              palette=\"Pastel2\")"
   ]
  },
  {
   "cell_type": "markdown",
   "metadata": {
    "id": "3Ndfem0m-RCx"
   },
   "source": [
    "## 1) Exploring the books datasets"
   ]
  },
  {
   "cell_type": "code",
   "execution_count": null,
   "metadata": {
    "colab": {
     "base_uri": "https://localhost:8080/",
     "height": 791
    },
    "id": "D2xpublA-RCy",
    "outputId": "8ae7ea45-11f7-4473-f4ec-33c905a82de6"
   },
   "outputs": [],
   "source": [
    "# importing different files and \n",
    "# concatenating in one dataset\n",
    "filepath = 'Datasets/'\n",
    "\n",
    "all_files = glob.glob(filepath + \"books/*.csv\")\n",
    "\n",
    "li = []\n",
    "\n",
    "for filename in all_files:\n",
    "    df = pd.read_csv(filename)\n",
    "    li.append(df)\n",
    "\n",
    "merged_books = pd.concat(li,\n",
    "                        axis=0,\n",
    "                        ignore_index=True)\n",
    "merged_books.head()"
   ]
  },
  {
   "cell_type": "code",
   "execution_count": null,
   "metadata": {
    "colab": {
     "base_uri": "https://localhost:8080/",
     "height": 744
    },
    "id": "zDhNh2cG-RC0",
    "outputId": "b72e7a4b-b4d4-4084-80b7-e9526b97d2c2"
   },
   "outputs": [],
   "source": [
    "# Identify missing values\n",
    "msno.matrix(merged_books)"
   ]
  },
  {
   "cell_type": "code",
   "execution_count": null,
   "metadata": {
    "id": "bb5aBcAf-RC1"
   },
   "outputs": [],
   "source": [
    "merged_books[\"NumberOfPages\"] = merged_books[\"PagesNumber\"].fillna(0)\\\n",
    "                              + merged_books[\"pagesNumber\"].fillna(0)"
   ]
  },
  {
   "cell_type": "code",
   "execution_count": null,
   "metadata": {
    "id": "-bBniXYg-RC2"
   },
   "outputs": [],
   "source": [
    "# deleting columns about publish day, month and ratingdists\n",
    "merged_books.drop([\"PublishMonth\", \"PublishDay\",\n",
    "                   \"RatingDist5\", \"RatingDist4\",\n",
    "                   \"RatingDist3\", \"RatingDist3\",\n",
    "                   \"RatingDist2\", \"RatingDist1\",\n",
    "                   \"RatingDistTotal\", \"Count of text reviews\",\n",
    "                   \"PagesNumber\", \"pagesNumber\"], axis=1,\n",
    "                   inplace=True)"
   ]
  },
  {
   "cell_type": "code",
   "execution_count": null,
   "metadata": {
    "colab": {
     "base_uri": "https://localhost:8080/",
     "height": 206
    },
    "id": "VlWleZKd-RC4",
    "outputId": "ce5a1ca9-288d-40cc-fcd3-7543bf715f01"
   },
   "outputs": [],
   "source": [
    "merged_books.head()"
   ]
  },
  {
   "cell_type": "code",
   "execution_count": null,
   "metadata": {
    "id": "M-TcqOCERNKk"
   },
   "outputs": [],
   "source": [
    "merged_books.dropna(inplace=True)"
   ]
  },
  {
   "cell_type": "code",
   "execution_count": null,
   "metadata": {
    "colab": {
     "base_uri": "https://localhost:8080/",
     "height": 716
    },
    "id": "5_ZTXAEOKIHJ",
    "outputId": "04945805-9868-46b9-e02f-4ed2ef3b8aea"
   },
   "outputs": [],
   "source": [
    "msno.matrix(merged_books)"
   ]
  },
  {
   "cell_type": "code",
   "execution_count": null,
   "metadata": {
    "colab": {
     "base_uri": "https://localhost:8080/"
    },
    "id": "NZsmIONNRREQ",
    "outputId": "2c9668a2-4ca5-4754-ab69-e60d70830c49"
   },
   "outputs": [],
   "source": [
    "merged_books.shape"
   ]
  },
  {
   "cell_type": "code",
   "execution_count": null,
   "metadata": {
    "colab": {
     "base_uri": "https://localhost:8080/"
    },
    "id": "I9Fx6-FpLAQ4",
    "outputId": "e9118b6d-4448-4a97-80b3-b1729d3263c9"
   },
   "outputs": [],
   "source": [
    "merged_books.isnull().mean() * 100"
   ]
  },
  {
   "cell_type": "markdown",
   "metadata": {
    "id": "QZrYEP5c-RC6"
   },
   "source": [
    "### a) Numerical variables"
   ]
  },
  {
   "cell_type": "markdown",
   "metadata": {
    "id": "Hi4BHU-p-RC7"
   },
   "source": [
    "In this part, we explore informations about numerical variables. These variables are the year of publication, the average ratings of each books, the number of ratings, the number of pages and the number of reviews."
   ]
  },
  {
   "cell_type": "code",
   "execution_count": null,
   "metadata": {
    "colab": {
     "base_uri": "https://localhost:8080/",
     "height": 285
    },
    "id": "NpbkP6Mj-RC8",
    "outputId": "09b0ffe1-039d-4cf9-aac2-241e5cc9329b"
   },
   "outputs": [],
   "source": [
    "sns.boxplot(x=\"PublishYear\",\n",
    "            data=merged_books)\n",
    "plt.show()"
   ]
  },
  {
   "cell_type": "code",
   "execution_count": null,
   "metadata": {
    "id": "WNyhmifh-RC9"
   },
   "outputs": [],
   "source": [
    "# dropping data where year of publication is \n",
    "# less than 1820 & more than 2019\n",
    "ind = merged_books.loc[(merged_books[\"PublishYear\"] <= 1820)\\\n",
    "                       | (merged_books[\"PublishYear\"] >= 2019)].index\\\n",
    "                       .to_list()\n",
    "merged_books.drop(index=ind,\n",
    "                  inplace=True)"
   ]
  },
  {
   "cell_type": "code",
   "execution_count": null,
   "metadata": {
    "colab": {
     "base_uri": "https://localhost:8080/",
     "height": 375
    },
    "id": "88egkfYv-RC-",
    "outputId": "acee0a54-27fd-4144-9a26-15e8ab9cae43"
   },
   "outputs": [],
   "source": [
    "fig, axes = plt.subplots(1, 2,\n",
    "                         figsize=(15, 5),\n",
    "                         sharex=True)\n",
    "fig.suptitle('Description of the year of publication of each book')\n",
    "\n",
    "sns.histplot(ax=axes[0],\n",
    "             x=\"PublishYear\",\n",
    "             data=merged_books,\n",
    "             kde=True)\n",
    "axes[0].set_title(\"Distribution of the year of publication\")\n",
    "\n",
    "sns.boxplot(ax=axes[1],\n",
    "            x=\"PublishYear\",\n",
    "            data=merged_books)\n",
    "axes[1].set_title(\"Boxplot of the year of publication\")\n",
    "\n",
    "plt.show()"
   ]
  },
  {
   "cell_type": "markdown",
   "metadata": {
    "id": "-ndDvLLY-RC_"
   },
   "source": [
    "After cleaning, only books with a year of publication between 1820 and 2019 were conserved. The majority of the books had been published between 1980 and 2019. The average is around 2000. "
   ]
  },
  {
   "cell_type": "code",
   "execution_count": null,
   "metadata": {
    "id": "Zs5UUUYjMeA8"
   },
   "outputs": [],
   "source": [
    "fig, axes = plt.subplots(1, 2,\n",
    "                         figsize=(15, 5),\n",
    "                         sharex=True)\n",
    "fig.suptitle('Description of the number of reviews of each book')\n",
    "\n",
    "sns.histplot(ax=axes[0],\n",
    "             x=\"CountsOfReview\",\n",
    "             data=merged_books, kde=True)\n",
    "axes[0].set_title(\"Distribution of the number of reviews\")\n",
    "\n",
    "sns.boxplot(ax=axes[1],\n",
    "            x=\"CountsOfReview\",\n",
    "            data=merged_books)\n",
    "axes[1].set_title(\"Boxplot of the number of reviews\")\n",
    "\n",
    "plt.show()"
   ]
  },
  {
   "cell_type": "code",
   "execution_count": null,
   "metadata": {
    "id": "DmTdTSKt-RDA"
   },
   "outputs": [],
   "source": [
    "fig, axes = plt.subplots(1, 2, figsize=(15, 5), sharex=True)\n",
    "fig.suptitle('Description of the average ratings of each book')\n",
    "\n",
    "sns.histplot(ax=axes[0],\n",
    "             x=\"Rating\",\n",
    "             data=merged_books,\n",
    "             kde=True)\n",
    "axes[0].set_title(\"Distribution of the average ratings\")\n",
    "\n",
    "sns.boxplot(ax=axes[1],\n",
    "            x=\"Rating\",\n",
    "            data=merged_books)\n",
    "axes[1].set_title(\"Boxplot of the average ratings\")\n",
    "\n",
    "plt.show()"
   ]
  },
  {
   "cell_type": "markdown",
   "metadata": {
    "id": "hyM-0RGOMyYF"
   },
   "source": [
    "### b) Categorical variables"
   ]
  },
  {
   "cell_type": "code",
   "execution_count": null,
   "metadata": {
    "id": "IxiaGylYM1U9"
   },
   "outputs": [],
   "source": [
    "sns.countplot(y=\"Authors\",\n",
    "              data=merged_books,\n",
    "              order=merged_books[\"Authors\"]\\\n",
    "              .value_counts()\\\n",
    "              .index[:15])\n",
    "\n",
    "plt.title(\"Top 15 of the most read authors\")\n",
    "plt.show()"
   ]
  },
  {
   "cell_type": "code",
   "execution_count": null,
   "metadata": {
    "id": "21EjFtoYPKKW"
   },
   "outputs": [],
   "source": [
    "sns.countplot(y=\"Publisher\",\n",
    "              data=merged_books,\n",
    "              order=merged_books[\"Publisher\"]\\\n",
    "              .value_counts()\\\n",
    "              .index[:15])\n",
    "plt.title(\"Top 15 of the most present publishers\")\n",
    "plt.show()"
   ]
  },
  {
   "cell_type": "code",
   "execution_count": null,
   "metadata": {
    "id": "5NAUuU77PT0N"
   },
   "outputs": [],
   "source": [
    "sns.countplot(y=\"Language\",\n",
    "              data=merged_books,\n",
    "              order=merged_books[\"Language\"]\\\n",
    "              .value_counts()\\\n",
    "              .index[:15])\n",
    "plt.title(\"Top 15 of the most represented languages\")\n",
    "plt.show()"
   ]
  },
  {
   "cell_type": "code",
   "execution_count": null,
   "metadata": {
    "id": "F7__oHQVWdKq"
   },
   "outputs": [],
   "source": [
    "lang = {\n",
    "    \"en-US\" : \"eng\",\n",
    "    \"en-GB\" : \"eng\",\n",
    "    \"en-CA\" : \"eng\"\n",
    "}"
   ]
  },
  {
   "cell_type": "code",
   "execution_count": 2,
   "metadata": {
    "id": "X-FGIwKfREdK"
   },
   "outputs": [
    {
     "ename": "NameError",
     "evalue": "name 'lang' is not defined",
     "output_type": "error",
     "traceback": [
      "\u001b[0;31m---------------------------------------------------------------------------\u001b[0m",
      "\u001b[0;31mNameError\u001b[0m                                 Traceback (most recent call last)",
      "\u001b[0;32m<ipython-input-2-4b4dd8beb07a>\u001b[0m in \u001b[0;36m<module>\u001b[0;34m\u001b[0m\n\u001b[0;32m----> 1\u001b[0;31m \u001b[0;32mfor\u001b[0m \u001b[0mkey\u001b[0m\u001b[0;34m,\u001b[0m \u001b[0mvalue\u001b[0m \u001b[0;32min\u001b[0m \u001b[0mlang\u001b[0m\u001b[0;34m.\u001b[0m\u001b[0mitems\u001b[0m\u001b[0;34m(\u001b[0m\u001b[0;34m)\u001b[0m\u001b[0;34m:\u001b[0m\u001b[0;34m\u001b[0m\u001b[0;34m\u001b[0m\u001b[0m\n\u001b[0m\u001b[1;32m      2\u001b[0m     \u001b[0mmerged_books\u001b[0m\u001b[0;34m[\u001b[0m\u001b[0;34m\"Language\"\u001b[0m\u001b[0;34m]\u001b[0m\u001b[0;31m\\\u001b[0m\u001b[0;34m\u001b[0m\u001b[0;34m\u001b[0m\u001b[0m\n\u001b[1;32m      3\u001b[0m     .loc[merged_books[\"Language\"]\\\n\u001b[1;32m      4\u001b[0m     .str.contains(key, \n\u001b[1;32m      5\u001b[0m                   \u001b[0mcase\u001b[0m\u001b[0;34m=\u001b[0m\u001b[0;32mFalse\u001b[0m\u001b[0;34m,\u001b[0m\u001b[0;34m\u001b[0m\u001b[0;34m\u001b[0m\u001b[0m\n",
      "\u001b[0;31mNameError\u001b[0m: name 'lang' is not defined"
     ]
    }
   ],
   "source": [
    "for key, value in lang.items():\n",
    "    merged_books[\"Language\"]\\\n",
    "    .loc[merged_books[\"Language\"]\\\n",
    "    .str.contains(key, \n",
    "                  case=False,\n",
    "                  regex=False)] = value"
   ]
  },
  {
   "cell_type": "code",
   "execution_count": null,
   "metadata": {
    "id": "h1uyTD24Wr4I"
   },
   "outputs": [],
   "source": [
    "sns.countplot(y=\"Language\",\n",
    "              data=merged_books,\n",
    "              order=merged_books[\"Language\"]\\\n",
    "              .value_counts()\\\n",
    "              .index[:15])\n",
    "plt.title(\"Top 15 of the most represented languages\")\n",
    "plt.show()"
   ]
  },
  {
   "cell_type": "code",
   "execution_count": null,
   "metadata": {},
   "outputs": [],
   "source": [
    "merged_books_en = merged_books[merged_books[\"Language\"] == \"eng\"]\n",
    "merged_books_en.head()"
   ]
  },
  {
   "cell_type": "markdown",
   "metadata": {},
   "source": [
    "### c) Description of books analysis"
   ]
  },
  {
   "cell_type": "code",
   "execution_count": null,
   "metadata": {},
   "outputs": [],
   "source": [
    "desc = merged_books_en[[\"Id\", \"Description\"]]\n",
    "desc.head(3)"
   ]
  },
  {
   "cell_type": "code",
   "execution_count": null,
   "metadata": {},
   "outputs": [],
   "source": [
    "desc[\"Description\"] = nlp.normalize_corpus(desc[\"Description\"])"
   ]
  },
  {
   "cell_type": "code",
   "execution_count": null,
   "metadata": {},
   "outputs": [],
   "source": [
    "desc.head(3)"
   ]
  },
  {
   "cell_type": "code",
   "execution_count": null,
   "metadata": {},
   "outputs": [],
   "source": [
    "desc.to_csv(\"Datasets/description.csv\")\n",
    "desc.to_parquet(\"Datasets/description.parquet.gzip\",\n",
    "                compression=\"gzip\",\n",
    "                index=False)"
   ]
  },
  {
   "cell_type": "code",
   "execution_count": null,
   "metadata": {},
   "outputs": [],
   "source": [
    "stopwords = set(STOPWORDS)\n",
    "wordcloud = WordCloud(width = 800, height = 1000,\n",
    "                max_words=1000,\n",
    "                background_color ='white',\n",
    "                stopwords = stopwords,\n",
    "                min_font_size = 12,\n",
    "                colormap=\"Set2\").generate(str(desc[\"Description\"]))\n",
    " \n",
    "# plot the WordCloud image                      \n",
    "plt.figure(figsize = (8, 8),\n",
    "           facecolor = None)\n",
    "plt.imshow(wordcloud)\n",
    "plt.axis(\"off\")\n",
    "plt.tight_layout(pad = 0)"
   ]
  },
  {
   "cell_type": "code",
   "execution_count": null,
   "metadata": {},
   "outputs": [],
   "source": [
    "merged_books_en.drop(\"Description\",\n",
    "                     axis=1,\n",
    "                     inplace=True)\n",
    "data = pd.merge(merged_books_en, desc, on=\"Id\")\n",
    "data.head(3)"
   ]
  },
  {
   "cell_type": "code",
   "execution_count": null,
   "metadata": {},
   "outputs": [],
   "source": [
    "data.drop(\"Language\",\n",
    "          axis=1,\n",
    "          inplace=True)"
   ]
  },
  {
   "cell_type": "code",
   "execution_count": null,
   "metadata": {},
   "outputs": [],
   "source": [
    "data.to_csv(\"Datasets/books_data_cleaning.csv\")\n",
    "data.to_parquet(\"Datasets/books_data_cleaning.parquet.gzip\",\n",
    "                compression=\"gzip\",\n",
    "                index=False)"
   ]
  },
  {
   "cell_type": "code",
   "execution_count": null,
   "metadata": {},
   "outputs": [],
   "source": [
    "del data\n",
    "del merged_books\n",
    "del merged_books_en\n",
    "gc.collect()"
   ]
  },
  {
   "cell_type": "markdown",
   "metadata": {},
   "source": [
    "## 2) Exploring the users datasets"
   ]
  },
  {
   "cell_type": "code",
   "execution_count": null,
   "metadata": {},
   "outputs": [],
   "source": [
    "book_data = pd.read_parquet(\"Datasets/books_data_cleaning.parquet.gzip\")"
   ]
  },
  {
   "cell_type": "code",
   "execution_count": null,
   "metadata": {},
   "outputs": [],
   "source": [
    "# importing different files and \n",
    "# concatenating in one dataset\n",
    "filepath = 'Datasets/'\n",
    "\n",
    "all_files = glob.glob(filepath + \"users_ratings/*.csv\")\n",
    "\n",
    "li = []\n",
    "\n",
    "for filename in all_files:\n",
    "    df = pd.read_csv(filename)\n",
    "    li.append(df)\n",
    "\n",
    "merged_users = pd.concat(li,\n",
    "                        axis=0,\n",
    "                        ignore_index=True)\n",
    "merged_users.head()"
   ]
  },
  {
   "cell_type": "code",
   "execution_count": null,
   "metadata": {},
   "outputs": [],
   "source": [
    "# Identify missing values\n",
    "msno.matrix(merged_users)"
   ]
  },
  {
   "cell_type": "code",
   "execution_count": null,
   "metadata": {},
   "outputs": [],
   "source": [
    "merged_users[\"Rating\"].unique()"
   ]
  },
  {
   "cell_type": "code",
   "execution_count": null,
   "metadata": {},
   "outputs": [],
   "source": [
    "new_ratings ={\n",
    "    \"This user doesn't have any rating\" : np.nan,\n",
    "    \"did not like it\" : 1,\n",
    "    \"it was ok\" : 2,\n",
    "    \"liked it\" : 3,\n",
    "    \"really liked it\" : 4,\n",
    "    \"it was amazing\" : 5\n",
    "}\n",
    "\n",
    "merged_users[\"Rating\"] = merged_users[\"Rating\"].map(new_ratings)"
   ]
  },
  {
   "cell_type": "code",
   "execution_count": null,
   "metadata": {},
   "outputs": [],
   "source": [
    "merged_users.columns = ['User_Id', \"Name\", \"Rating\"]"
   ]
  },
  {
   "cell_type": "code",
   "execution_count": null,
   "metadata": {},
   "outputs": [],
   "source": [
    "# Identify missing values\n",
    "msno.matrix(merged_users)"
   ]
  },
  {
   "cell_type": "code",
   "execution_count": null,
   "metadata": {},
   "outputs": [],
   "source": [
    "merged_users.dropna(inplace=True)"
   ]
  },
  {
   "cell_type": "code",
   "execution_count": null,
   "metadata": {},
   "outputs": [],
   "source": [
    "sns.countplot(y=\"User_Id\",\n",
    "              data=merged_users,\n",
    "              order=merged_users[\"User_Id\"].value_counts().index[:15])\n",
    "plt.title(\"Top 15 of the users that made the most ratings\")\n",
    "plt.show()"
   ]
  },
  {
   "cell_type": "code",
   "execution_count": null,
   "metadata": {},
   "outputs": [],
   "source": [
    "sns.countplot(y=\"Name\",\n",
    "              data=merged_users,\n",
    "              order=merged_users[\"Name\"].value_counts().index[:15])\n",
    "plt.ylabel(\"Title of the book\")\n",
    "plt.title(\"Top 15 of the books that had the most ratings\")\n",
    "plt.show()"
   ]
  },
  {
   "cell_type": "code",
   "execution_count": null,
   "metadata": {},
   "outputs": [],
   "source": [
    "book_data = book_data[[\"Id\",\"Name\", \"Authors\"]]"
   ]
  },
  {
   "cell_type": "code",
   "execution_count": null,
   "metadata": {},
   "outputs": [],
   "source": [
    "rating_merged = pd.merge(merged_users, book_data, on = \"Name\")\n",
    "rating_merged.head()"
   ]
  },
  {
   "cell_type": "code",
   "execution_count": null,
   "metadata": {},
   "outputs": [],
   "source": [
    "rating_merged.drop([\"Name\", \"Authors\"],\n",
    "                    axis=1, \n",
    "                    inplace=True, )"
   ]
  },
  {
   "cell_type": "code",
   "execution_count": null,
   "metadata": {},
   "outputs": [],
   "source": [
    "rating_merged.to_csv(\"Datasets/users_data_cleaning.csv\")\n",
    "rating_merged.to_parquet(\"Datasets/users_data_cleaning.parquet.gzip\",\n",
    "                compression=\"gzip\",\n",
    "                index=False)"
   ]
  }
 ],
 "metadata": {
  "colab": {
   "collapsed_sections": [],
   "machine_shape": "hm",
   "name": "P7_01_notebookcleaning.ipynb",
   "provenance": []
  },
  "interpreter": {
   "hash": "be0846b0ba60c2cf01a50fb6433786aab22b4544ed8c60bd4d5eada00a9d07ea"
  },
  "kernelspec": {
   "display_name": "Python 3",
   "language": "python",
   "name": "python3"
  },
  "language_info": {
   "codemirror_mode": {
    "name": "ipython",
    "version": 3
   },
   "file_extension": ".py",
   "mimetype": "text/x-python",
   "name": "python",
   "nbconvert_exporter": "python",
   "pygments_lexer": "ipython3",
   "version": "3.9.7"
  }
 },
 "nbformat": 4,
 "nbformat_minor": 1
}
