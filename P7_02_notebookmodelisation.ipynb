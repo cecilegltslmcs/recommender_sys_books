{
 "cells": [
  {
   "cell_type": "markdown",
   "metadata": {},
   "source": [
    "# Recommender system for books: Modelisation"
   ]
  },
  {
   "cell_type": "code",
   "execution_count": 1,
   "metadata": {},
   "outputs": [],
   "source": [
    "# Data manipulation\n",
    "import pandas as pd \n",
    "import numpy as np \n",
    "import gc\n",
    "\n",
    "# Graphical libraries\n",
    "import matplotlib.pyplot as plt\n",
    "import seaborn as sns\n",
    "\n",
    "# Modelisation libraries\n",
    "from surprise import BaselineOnly, SVD, NMF, KNNBasic, KNNWithMeans, KNNWithZScore\n",
    "from surprise import accuracy\n",
    "from surprise.model_selection import train_test_split, GridSearchCV\n",
    "from surprise import Dataset\n",
    "from surprise import Reader\n",
    "\n",
    "from sklearn.metrics.pairwise import cosine_similarity, linear_kernel\n",
    "from sklearn.metrics import mean_squared_error\n",
    "from sklearn.feature_extraction.text import TfidfVectorizer"
   ]
  },
  {
   "cell_type": "code",
   "execution_count": 2,
   "metadata": {},
   "outputs": [],
   "source": [
    "# Importing data about users and books \n",
    "users = pd.read_parquet(\"Datasets/users_data_cleaning.parquet.gzip\")\n",
    "books = pd.read_parquet(\"Datasets/books_data_cleaning.parquet.gzip\")"
   ]
  },
  {
   "cell_type": "markdown",
   "metadata": {},
   "source": [
    "It exists different kinds of recommender engines. In this proof of concept, simple recommender, user based collaborative filtering, content-based recommender and hybrid methods will be testing to find the best recommender engines. "
   ]
  },
  {
   "cell_type": "markdown",
   "metadata": {},
   "source": [
    "## 1) Simple recommender"
   ]
  },
  {
   "cell_type": "markdown",
   "metadata": {},
   "source": [
    "Simple recommender is the most basic recommender engines. It based on popularity. To calcule it, rating and number of reviews are used. The formula used in the following is the formula used by the IMDB website to calcule.  \n",
    "\n",
    "*Source:* https://www.datacamp.com/community/tutorials/recommender-systems-python"
   ]
  },
  {
   "cell_type": "code",
   "execution_count": 3,
   "metadata": {},
   "outputs": [
    {
     "data": {
      "text/html": [
       "<div>\n",
       "<style scoped>\n",
       "    .dataframe tbody tr th:only-of-type {\n",
       "        vertical-align: middle;\n",
       "    }\n",
       "\n",
       "    .dataframe tbody tr th {\n",
       "        vertical-align: top;\n",
       "    }\n",
       "\n",
       "    .dataframe thead th {\n",
       "        text-align: right;\n",
       "    }\n",
       "</style>\n",
       "<table border=\"1\" class=\"dataframe\">\n",
       "  <thead>\n",
       "    <tr style=\"text-align: right;\">\n",
       "      <th></th>\n",
       "      <th>Id</th>\n",
       "      <th>Name</th>\n",
       "      <th>Authors</th>\n",
       "      <th>Rating</th>\n",
       "      <th>CountsOfReview</th>\n",
       "    </tr>\n",
       "  </thead>\n",
       "  <tbody>\n",
       "    <tr>\n",
       "      <th>0</th>\n",
       "      <td>4000063</td>\n",
       "      <td>The Flintstones in Viva Rock Vegas</td>\n",
       "      <td>Ellen Miles</td>\n",
       "      <td>3.82</td>\n",
       "      <td>1</td>\n",
       "    </tr>\n",
       "    <tr>\n",
       "      <th>1</th>\n",
       "      <td>4000100</td>\n",
       "      <td>Little Rhody</td>\n",
       "      <td>Neta Lohnes Frazier</td>\n",
       "      <td>4.33</td>\n",
       "      <td>1</td>\n",
       "    </tr>\n",
       "    <tr>\n",
       "      <th>2</th>\n",
       "      <td>4000228</td>\n",
       "      <td>Finance And Investments Using The Wall Street ...</td>\n",
       "      <td>Peter R. Crabb</td>\n",
       "      <td>0.00</td>\n",
       "      <td>0</td>\n",
       "    </tr>\n",
       "    <tr>\n",
       "      <th>3</th>\n",
       "      <td>4000366</td>\n",
       "      <td>Shorty McCabe Looks 'Em Over</td>\n",
       "      <td>Sewell Ford</td>\n",
       "      <td>0.00</td>\n",
       "      <td>0</td>\n",
       "    </tr>\n",
       "    <tr>\n",
       "      <th>4</th>\n",
       "      <td>4000441</td>\n",
       "      <td>Plant Pathology</td>\n",
       "      <td>George N. Agrios</td>\n",
       "      <td>4.52</td>\n",
       "      <td>0</td>\n",
       "    </tr>\n",
       "  </tbody>\n",
       "</table>\n",
       "</div>"
      ],
      "text/plain": [
       "        Id                                               Name  \\\n",
       "0  4000063                 The Flintstones in Viva Rock Vegas   \n",
       "1  4000100                                       Little Rhody   \n",
       "2  4000228  Finance And Investments Using The Wall Street ...   \n",
       "3  4000366                       Shorty McCabe Looks 'Em Over   \n",
       "4  4000441                                    Plant Pathology   \n",
       "\n",
       "               Authors  Rating  CountsOfReview  \n",
       "0          Ellen Miles    3.82               1  \n",
       "1  Neta Lohnes Frazier    4.33               1  \n",
       "2       Peter R. Crabb    0.00               0  \n",
       "3          Sewell Ford    0.00               0  \n",
       "4     George N. Agrios    4.52               0  "
      ]
     },
     "execution_count": 3,
     "metadata": {},
     "output_type": "execute_result"
    }
   ],
   "source": [
    "# creating a new dataset for the calculus\n",
    "simple_reco = books.copy()\n",
    "simple_reco = simple_reco[[\"Id\", \"Name\", \"Authors\",\n",
    "                           \"Rating\", \"CountsOfReview\"]]\n",
    "simple_reco.head()"
   ]
  },
  {
   "cell_type": "code",
   "execution_count": 4,
   "metadata": {},
   "outputs": [
    {
     "name": "stdout",
     "output_type": "stream",
     "text": [
      "3.7320950652695215\n"
     ]
    }
   ],
   "source": [
    "# calculating the average rating\n",
    "C = simple_reco['Rating'].mean()\n",
    "print(C)"
   ]
  },
  {
   "cell_type": "code",
   "execution_count": 5,
   "metadata": {},
   "outputs": [
    {
     "name": "stdout",
     "output_type": "stream",
     "text": [
      "41.0\n"
     ]
    }
   ],
   "source": [
    "# calculating and keeping\n",
    "# books with the 90th percentile\n",
    "m = simple_reco['CountsOfReview'].quantile(0.90)\n",
    "print(m)"
   ]
  },
  {
   "cell_type": "code",
   "execution_count": 6,
   "metadata": {},
   "outputs": [
    {
     "data": {
      "text/plain": [
       "(12116, 5)"
      ]
     },
     "execution_count": 6,
     "metadata": {},
     "output_type": "execute_result"
    }
   ],
   "source": [
    "# selecting only books with at least 41 reviews\n",
    "q_books = simple_reco.copy().loc[simple_reco['CountsOfReview'] >= m]\n",
    "q_books.shape"
   ]
  },
  {
   "cell_type": "code",
   "execution_count": 7,
   "metadata": {},
   "outputs": [],
   "source": [
    "def weighted_rating(x, m=m, C=C):\n",
    "    v = x['CountsOfReview']\n",
    "    R = x['Rating']\n",
    "    return (v/(v+m) * R) + (m/(m+v) * C)"
   ]
  },
  {
   "cell_type": "code",
   "execution_count": 8,
   "metadata": {},
   "outputs": [],
   "source": [
    "q_books['score'] = q_books.apply(weighted_rating, axis=1)"
   ]
  },
  {
   "cell_type": "code",
   "execution_count": 9,
   "metadata": {},
   "outputs": [
    {
     "data": {
      "text/html": [
       "<div>\n",
       "<style scoped>\n",
       "    .dataframe tbody tr th:only-of-type {\n",
       "        vertical-align: middle;\n",
       "    }\n",
       "\n",
       "    .dataframe tbody tr th {\n",
       "        vertical-align: top;\n",
       "    }\n",
       "\n",
       "    .dataframe thead th {\n",
       "        text-align: right;\n",
       "    }\n",
       "</style>\n",
       "<table border=\"1\" class=\"dataframe\">\n",
       "  <thead>\n",
       "    <tr style=\"text-align: right;\">\n",
       "      <th></th>\n",
       "      <th>Id</th>\n",
       "      <th>Name</th>\n",
       "      <th>Authors</th>\n",
       "      <th>CountsOfReview</th>\n",
       "      <th>Rating</th>\n",
       "      <th>score</th>\n",
       "    </tr>\n",
       "  </thead>\n",
       "  <tbody>\n",
       "    <tr>\n",
       "      <th>44289</th>\n",
       "      <td>862041</td>\n",
       "      <td>Harry Potter Series Box Set (Harry Potter, #1-7)</td>\n",
       "      <td>J.K. Rowling</td>\n",
       "      <td>6522</td>\n",
       "      <td>4.74</td>\n",
       "      <td>4.733703</td>\n",
       "    </tr>\n",
       "    <tr>\n",
       "      <th>40413</th>\n",
       "      <td>818056</td>\n",
       "      <td>Harry Potter and the Deathly Hallows (Harry Po...</td>\n",
       "      <td>J.K. Rowling</td>\n",
       "      <td>952</td>\n",
       "      <td>4.62</td>\n",
       "      <td>4.583339</td>\n",
       "    </tr>\n",
       "    <tr>\n",
       "      <th>115327</th>\n",
       "      <td>1215032</td>\n",
       "      <td>The Wise Man's Fear (The Kingkiller Chronicle,...</td>\n",
       "      <td>Patrick Rothfuss</td>\n",
       "      <td>16523</td>\n",
       "      <td>4.57</td>\n",
       "      <td>4.567926</td>\n",
       "    </tr>\n",
       "    <tr>\n",
       "      <th>61446</th>\n",
       "      <td>3165162</td>\n",
       "      <td>Percy Jackson and the Olympians (Percy Jackson...</td>\n",
       "      <td>Rick Riordan</td>\n",
       "      <td>546</td>\n",
       "      <td>4.59</td>\n",
       "      <td>4.530078</td>\n",
       "    </tr>\n",
       "    <tr>\n",
       "      <th>72565</th>\n",
       "      <td>1025685</td>\n",
       "      <td>The Absolute Sandman, Volume Two</td>\n",
       "      <td>Neil Gaiman</td>\n",
       "      <td>198</td>\n",
       "      <td>4.69</td>\n",
       "      <td>4.525673</td>\n",
       "    </tr>\n",
       "    <tr>\n",
       "      <th>91715</th>\n",
       "      <td>2495562</td>\n",
       "      <td>The Wise Man's Fear  (The Kingkiller Chronicle...</td>\n",
       "      <td>Patrick Rothfuss</td>\n",
       "      <td>488</td>\n",
       "      <td>4.56</td>\n",
       "      <td>4.495833</td>\n",
       "    </tr>\n",
       "    <tr>\n",
       "      <th>82953</th>\n",
       "      <td>2186848</td>\n",
       "      <td>The Absolute Sandman, Volume Three</td>\n",
       "      <td>Neil Gaiman</td>\n",
       "      <td>140</td>\n",
       "      <td>4.71</td>\n",
       "      <td>4.488486</td>\n",
       "    </tr>\n",
       "    <tr>\n",
       "      <th>98149</th>\n",
       "      <td>2767793</td>\n",
       "      <td>The Hero of Ages (Mistborn, #3)</td>\n",
       "      <td>Brandon Sanderson</td>\n",
       "      <td>10101</td>\n",
       "      <td>4.49</td>\n",
       "      <td>4.486936</td>\n",
       "    </tr>\n",
       "    <tr>\n",
       "      <th>30441</th>\n",
       "      <td>1179967</td>\n",
       "      <td>A Storm of Swords (A Song of Ice and Fire, #3)</td>\n",
       "      <td>George R.R. Martin</td>\n",
       "      <td>583</td>\n",
       "      <td>4.54</td>\n",
       "      <td>4.486917</td>\n",
       "    </tr>\n",
       "    <tr>\n",
       "      <th>66035</th>\n",
       "      <td>3362870</td>\n",
       "      <td>The Hero of Ages (Mistborn, #3)</td>\n",
       "      <td>Brandon Sanderson</td>\n",
       "      <td>1289</td>\n",
       "      <td>4.49</td>\n",
       "      <td>4.466636</td>\n",
       "    </tr>\n",
       "    <tr>\n",
       "      <th>66298</th>\n",
       "      <td>3375878</td>\n",
       "      <td>The Absolute Sandman, Volume Four</td>\n",
       "      <td>Neil Gaiman</td>\n",
       "      <td>134</td>\n",
       "      <td>4.69</td>\n",
       "      <td>4.465577</td>\n",
       "    </tr>\n",
       "    <tr>\n",
       "      <th>42591</th>\n",
       "      <td>840699</td>\n",
       "      <td>Harry Potter and the Half-Blood Prince (Harry ...</td>\n",
       "      <td>J.K. Rowling</td>\n",
       "      <td>283</td>\n",
       "      <td>4.57</td>\n",
       "      <td>4.463969</td>\n",
       "    </tr>\n",
       "    <tr>\n",
       "      <th>23843</th>\n",
       "      <td>768889</td>\n",
       "      <td>A Storm of Swords: Steel and Snow (A Song of I...</td>\n",
       "      <td>George R.R. Martin</td>\n",
       "      <td>1303</td>\n",
       "      <td>4.48</td>\n",
       "      <td>4.457184</td>\n",
       "    </tr>\n",
       "    <tr>\n",
       "      <th>45355</th>\n",
       "      <td>875441</td>\n",
       "      <td>Someone Knows My Name</td>\n",
       "      <td>Lawrence Hill</td>\n",
       "      <td>3019</td>\n",
       "      <td>4.46</td>\n",
       "      <td>4.450247</td>\n",
       "    </tr>\n",
       "    <tr>\n",
       "      <th>79723</th>\n",
       "      <td>2088385</td>\n",
       "      <td>The Book of Negroes</td>\n",
       "      <td>Lawrence Hill</td>\n",
       "      <td>1152</td>\n",
       "      <td>4.47</td>\n",
       "      <td>4.444640</td>\n",
       "    </tr>\n",
       "    <tr>\n",
       "      <th>33384</th>\n",
       "      <td>620121</td>\n",
       "      <td>Harry Potter and the Prisoner of Azkaban (Harr...</td>\n",
       "      <td>J.K. Rowling</td>\n",
       "      <td>233</td>\n",
       "      <td>4.57</td>\n",
       "      <td>4.444620</td>\n",
       "    </tr>\n",
       "    <tr>\n",
       "      <th>36160</th>\n",
       "      <td>659469</td>\n",
       "      <td>The Hobbit: Graphic Novel</td>\n",
       "      <td>Chuck Dixon</td>\n",
       "      <td>793</td>\n",
       "      <td>4.48</td>\n",
       "      <td>4.443232</td>\n",
       "    </tr>\n",
       "    <tr>\n",
       "      <th>99576</th>\n",
       "      <td>2832909</td>\n",
       "      <td>An Echo in the Bone (Outlander, #7)</td>\n",
       "      <td>Diana Gabaldon</td>\n",
       "      <td>4442</td>\n",
       "      <td>4.44</td>\n",
       "      <td>4.433526</td>\n",
       "    </tr>\n",
       "    <tr>\n",
       "      <th>19797</th>\n",
       "      <td>708921</td>\n",
       "      <td>Stand a Little Taller</td>\n",
       "      <td>Gordon B. Hinckley</td>\n",
       "      <td>141</td>\n",
       "      <td>4.63</td>\n",
       "      <td>4.427725</td>\n",
       "    </tr>\n",
       "    <tr>\n",
       "      <th>18320</th>\n",
       "      <td>1670602</td>\n",
       "      <td>Those Shoes</td>\n",
       "      <td>Maribeth Boelts</td>\n",
       "      <td>667</td>\n",
       "      <td>4.47</td>\n",
       "      <td>4.427268</td>\n",
       "    </tr>\n",
       "  </tbody>\n",
       "</table>\n",
       "</div>"
      ],
      "text/plain": [
       "             Id                                               Name  \\\n",
       "44289    862041   Harry Potter Series Box Set (Harry Potter, #1-7)   \n",
       "40413    818056  Harry Potter and the Deathly Hallows (Harry Po...   \n",
       "115327  1215032  The Wise Man's Fear (The Kingkiller Chronicle,...   \n",
       "61446   3165162  Percy Jackson and the Olympians (Percy Jackson...   \n",
       "72565   1025685                   The Absolute Sandman, Volume Two   \n",
       "91715   2495562  The Wise Man's Fear  (The Kingkiller Chronicle...   \n",
       "82953   2186848                 The Absolute Sandman, Volume Three   \n",
       "98149   2767793                    The Hero of Ages (Mistborn, #3)   \n",
       "30441   1179967     A Storm of Swords (A Song of Ice and Fire, #3)   \n",
       "66035   3362870                    The Hero of Ages (Mistborn, #3)   \n",
       "66298   3375878                  The Absolute Sandman, Volume Four   \n",
       "42591    840699  Harry Potter and the Half-Blood Prince (Harry ...   \n",
       "23843    768889  A Storm of Swords: Steel and Snow (A Song of I...   \n",
       "45355    875441                              Someone Knows My Name   \n",
       "79723   2088385                                The Book of Negroes   \n",
       "33384    620121  Harry Potter and the Prisoner of Azkaban (Harr...   \n",
       "36160    659469                          The Hobbit: Graphic Novel   \n",
       "99576   2832909                An Echo in the Bone (Outlander, #7)   \n",
       "19797    708921                              Stand a Little Taller   \n",
       "18320   1670602                                        Those Shoes   \n",
       "\n",
       "                   Authors  CountsOfReview  Rating     score  \n",
       "44289         J.K. Rowling            6522    4.74  4.733703  \n",
       "40413         J.K. Rowling             952    4.62  4.583339  \n",
       "115327    Patrick Rothfuss           16523    4.57  4.567926  \n",
       "61446         Rick Riordan             546    4.59  4.530078  \n",
       "72565          Neil Gaiman             198    4.69  4.525673  \n",
       "91715     Patrick Rothfuss             488    4.56  4.495833  \n",
       "82953          Neil Gaiman             140    4.71  4.488486  \n",
       "98149    Brandon Sanderson           10101    4.49  4.486936  \n",
       "30441   George R.R. Martin             583    4.54  4.486917  \n",
       "66035    Brandon Sanderson            1289    4.49  4.466636  \n",
       "66298          Neil Gaiman             134    4.69  4.465577  \n",
       "42591         J.K. Rowling             283    4.57  4.463969  \n",
       "23843   George R.R. Martin            1303    4.48  4.457184  \n",
       "45355        Lawrence Hill            3019    4.46  4.450247  \n",
       "79723        Lawrence Hill            1152    4.47  4.444640  \n",
       "33384         J.K. Rowling             233    4.57  4.444620  \n",
       "36160          Chuck Dixon             793    4.48  4.443232  \n",
       "99576       Diana Gabaldon            4442    4.44  4.433526  \n",
       "19797   Gordon B. Hinckley             141    4.63  4.427725  \n",
       "18320      Maribeth Boelts             667    4.47  4.427268  "
      ]
     },
     "execution_count": 9,
     "metadata": {},
     "output_type": "execute_result"
    }
   ],
   "source": [
    "#Sort movies based on score calculated above\n",
    "q_books = q_books.sort_values('score', ascending=False)\n",
    "\n",
    "#Print the top 15 books\n",
    "q_books[[\"Id\",'Name', \"Authors\", 'CountsOfReview', 'Rating', 'score']].head(20)"
   ]
  },
  {
   "cell_type": "code",
   "execution_count": 10,
   "metadata": {},
   "outputs": [
    {
     "name": "stdout",
     "output_type": "stream",
     "text": [
      "0.10848119654754877\n"
     ]
    }
   ],
   "source": [
    "print(np.sqrt(mean_squared_error(q_books['Rating'],\n",
    "                                 q_books[\"score\"])))"
   ]
  },
  {
   "cell_type": "code",
   "execution_count": 11,
   "metadata": {},
   "outputs": [
    {
     "data": {
      "text/plain": [
       "0"
      ]
     },
     "execution_count": 11,
     "metadata": {},
     "output_type": "execute_result"
    }
   ],
   "source": [
    "del q_books, simple_reco\n",
    "gc.collect()"
   ]
  },
  {
   "cell_type": "markdown",
   "metadata": {},
   "source": [
    "## 2) User-based collaborative filtering"
   ]
  },
  {
   "cell_type": "markdown",
   "metadata": {},
   "source": [
    "### a) Preparing the data for Surprise library"
   ]
  },
  {
   "cell_type": "code",
   "execution_count": 12,
   "metadata": {},
   "outputs": [],
   "source": [
    "reader = Reader(rating_scale=(1, 5))\n",
    "data_surprise = Dataset.load_from_df(users[['User_Id', 'Id', 'Rating']], reader)"
   ]
  },
  {
   "cell_type": "code",
   "execution_count": 13,
   "metadata": {},
   "outputs": [],
   "source": [
    "trainset, testset = train_test_split(data_surprise, test_size=.2)"
   ]
  },
  {
   "cell_type": "code",
   "execution_count": 14,
   "metadata": {},
   "outputs": [
    {
     "name": "stdout",
     "output_type": "stream",
     "text": [
      "Estimating biases using als...\n"
     ]
    }
   ],
   "source": [
    "bsl_options = {'method': 'als',\n",
    "               'n_epochs': 5,\n",
    "               'reg_u': 12,\n",
    "               'reg_i': 5\n",
    "               }\n",
    "base_als = BaselineOnly(bsl_options=bsl_options)\n",
    "predictions = base_als.fit(trainset).test(testset)"
   ]
  },
  {
   "cell_type": "code",
   "execution_count": 15,
   "metadata": {},
   "outputs": [
    {
     "data": {
      "text/plain": [
       "0"
      ]
     },
     "execution_count": 15,
     "metadata": {},
     "output_type": "execute_result"
    }
   ],
   "source": [
    "del predictions\n",
    "gc.collect()"
   ]
  },
  {
   "cell_type": "code",
   "execution_count": 16,
   "metadata": {},
   "outputs": [
    {
     "name": "stdout",
     "output_type": "stream",
     "text": [
      "Estimating biases using sgd...\n"
     ]
    }
   ],
   "source": [
    "bsl_options = {'method': 'sgd',\n",
    "               'learning_rate': .00005,\n",
    "               }\n",
    "base_sgd = BaselineOnly(bsl_options=bsl_options)\n",
    "predictions = base_sgd.fit(trainset).test(testset)"
   ]
  },
  {
   "cell_type": "code",
   "execution_count": 17,
   "metadata": {},
   "outputs": [
    {
     "data": {
      "text/plain": [
       "0"
      ]
     },
     "execution_count": 17,
     "metadata": {},
     "output_type": "execute_result"
    }
   ],
   "source": [
    "del predictions\n",
    "gc.collect()"
   ]
  },
  {
   "cell_type": "markdown",
   "metadata": {},
   "source": [
    "### b) Matrix Factorization based algorithms"
   ]
  },
  {
   "cell_type": "code",
   "execution_count": 18,
   "metadata": {},
   "outputs": [],
   "source": [
    "svd = SVD()\n",
    "nmf = NMF()"
   ]
  },
  {
   "cell_type": "code",
   "execution_count": 19,
   "metadata": {},
   "outputs": [
    {
     "name": "stdout",
     "output_type": "stream",
     "text": [
      "RMSE: 0.7692\n",
      "RMSE: 0.8741\n",
      "{<surprise.prediction_algorithms.matrix_factorization.SVD object at 0x7faec4da7ac0>: 0.769, <surprise.prediction_algorithms.matrix_factorization.NMF object at 0x7faec4da7910>: 0.874}\n"
     ]
    }
   ],
   "source": [
    "model = [svd, nmf]\n",
    "dict_model = {}\n",
    "\n",
    "for model in model:\n",
    "    y_pred = model.fit(trainset).test(testset)\n",
    "    rmse = accuracy.rmse(y_pred)\n",
    "    dict_model[model] = rmse.round(3)\n",
    "\n",
    "print(dict_model)"
   ]
  },
  {
   "cell_type": "code",
   "execution_count": null,
   "metadata": {},
   "outputs": [],
   "source": [
    "param_grid = {'n_factors': [25, 50, 75, 100, 125],\n",
    "              'n_epochs': [5, 10, 15, 20, 25], \n",
    "              'lr_all': [0.001, 0.002, 0.005, 0.1],\n",
    "              'reg_all': [0.1, 0.2, 0.4, 0.6],\n",
    "              'random_state' : [42]\n",
    "}\n",
    "\n",
    "gs = GridSearchCV(SVD,\n",
    "                  param_grid,\n",
    "                  measures=['rmse', 'mae'],\n",
    "                  cv=5)\n",
    "\n",
    "gs.fit(data_surprise)\n",
    "\n",
    "# best RMSE score\n",
    "print(gs.best_score['rmse'])\n",
    "\n",
    "# combination of parameters that gave the best RMSE score\n",
    "print(gs.best_params['rmse'])"
   ]
  },
  {
   "cell_type": "code",
   "execution_count": null,
   "metadata": {},
   "outputs": [],
   "source": [
    "svd_gs = gs.best_estimator['rmse']\n",
    "predictions = svd_gs.fit(trainset).test(testset)\n",
    "accuracy.rmse(predictions)"
   ]
  },
  {
   "cell_type": "code",
   "execution_count": null,
   "metadata": {},
   "outputs": [],
   "source": [
    "del predictions, gs, dict_model\n",
    "gc.collect()"
   ]
  },
  {
   "cell_type": "markdown",
   "metadata": {},
   "source": [
    "### c) K-NN based models"
   ]
  },
  {
   "cell_type": "code",
   "execution_count": 20,
   "metadata": {},
   "outputs": [],
   "source": [
    "# Initializing similarities options\n",
    "sim_options = {'name': 'cosine',\n",
    "               'user_based': True  # compute  similarities between users\n",
    "               }"
   ]
  },
  {
   "cell_type": "code",
   "execution_count": 21,
   "metadata": {},
   "outputs": [],
   "source": [
    "knnbasic = KNNBasic()\n",
    "knnmeans = KNNWithMeans()\n",
    "knnzscore = KNNWithZScore()"
   ]
  },
  {
   "cell_type": "code",
   "execution_count": 22,
   "metadata": {},
   "outputs": [
    {
     "name": "stdout",
     "output_type": "stream",
     "text": [
      "Computing the msd similarity matrix...\n",
      "Done computing similarity matrix.\n",
      "RMSE: 0.7747\n",
      "Computing the msd similarity matrix...\n",
      "Done computing similarity matrix.\n",
      "RMSE: 0.7740\n",
      "Computing the msd similarity matrix...\n",
      "Done computing similarity matrix.\n",
      "RMSE: 0.7670\n",
      "{<surprise.prediction_algorithms.knns.KNNBasic object at 0x7faec4da7640>: 0.775, <surprise.prediction_algorithms.knns.KNNWithMeans object at 0x7faec4da7370>: 0.774, <surprise.prediction_algorithms.knns.KNNWithZScore object at 0x7faec4da7dc0>: 0.767}\n"
     ]
    }
   ],
   "source": [
    "model = [knnbasic, knnmeans, knnzscore]\n",
    "dict_model = {}\n",
    "\n",
    "for model in model:\n",
    "    y_pred = model.fit(trainset).test(testset)\n",
    "    rmse = accuracy.rmse(y_pred)\n",
    "    dict_model[model] = rmse.round(3)\n",
    "\n",
    "print(dict_model)"
   ]
  },
  {
   "cell_type": "code",
   "execution_count": 23,
   "metadata": {},
   "outputs": [
    {
     "name": "stdout",
     "output_type": "stream",
     "text": [
      "Computing the msd similarity matrix...\n",
      "Done computing similarity matrix.\n",
      "Computing the msd similarity matrix...\n",
      "Done computing similarity matrix.\n",
      "Computing the msd similarity matrix...\n",
      "Done computing similarity matrix.\n",
      "Computing the msd similarity matrix...\n",
      "Done computing similarity matrix.\n",
      "Computing the msd similarity matrix...\n",
      "Done computing similarity matrix.\n",
      "Computing the msd similarity matrix...\n",
      "Done computing similarity matrix.\n",
      "Computing the msd similarity matrix...\n",
      "Done computing similarity matrix.\n",
      "Computing the msd similarity matrix...\n",
      "Done computing similarity matrix.\n",
      "Computing the msd similarity matrix...\n",
      "Done computing similarity matrix.\n",
      "Computing the msd similarity matrix...\n",
      "Done computing similarity matrix.\n",
      "Computing the msd similarity matrix...\n",
      "Done computing similarity matrix.\n",
      "Computing the msd similarity matrix...\n",
      "Done computing similarity matrix.\n",
      "Computing the msd similarity matrix...\n",
      "Done computing similarity matrix.\n",
      "Computing the msd similarity matrix...\n",
      "Done computing similarity matrix.\n",
      "Computing the msd similarity matrix...\n",
      "Done computing similarity matrix.\n",
      "Computing the msd similarity matrix...\n",
      "Done computing similarity matrix.\n",
      "Computing the msd similarity matrix...\n",
      "Done computing similarity matrix.\n",
      "Computing the msd similarity matrix...\n",
      "Done computing similarity matrix.\n",
      "Computing the msd similarity matrix...\n",
      "Done computing similarity matrix.\n",
      "Computing the msd similarity matrix...\n",
      "Done computing similarity matrix.\n",
      "Computing the msd similarity matrix...\n",
      "Done computing similarity matrix.\n",
      "Computing the msd similarity matrix...\n",
      "Done computing similarity matrix.\n",
      "Computing the msd similarity matrix...\n",
      "Done computing similarity matrix.\n",
      "Computing the msd similarity matrix...\n",
      "Done computing similarity matrix.\n",
      "Computing the msd similarity matrix...\n",
      "Done computing similarity matrix.\n",
      "Computing the msd similarity matrix...\n",
      "Done computing similarity matrix.\n",
      "Computing the msd similarity matrix...\n",
      "Done computing similarity matrix.\n",
      "Computing the msd similarity matrix...\n",
      "Done computing similarity matrix.\n",
      "Computing the msd similarity matrix...\n",
      "Done computing similarity matrix.\n",
      "Computing the msd similarity matrix...\n",
      "Done computing similarity matrix.\n",
      "Computing the msd similarity matrix...\n",
      "Done computing similarity matrix.\n",
      "Computing the msd similarity matrix...\n",
      "Done computing similarity matrix.\n",
      "Computing the msd similarity matrix...\n",
      "Done computing similarity matrix.\n",
      "Computing the msd similarity matrix...\n",
      "Done computing similarity matrix.\n",
      "Computing the msd similarity matrix...\n",
      "Done computing similarity matrix.\n",
      "0.7435923893876242\n",
      "{'k': 20}\n"
     ]
    }
   ],
   "source": [
    "param_grid = {'k': [20, 30, 40, 50, 60, 70, 80]}\n",
    "\n",
    "gs = GridSearchCV(KNNWithZScore,\n",
    "                  param_grid,\n",
    "                  measures=['rmse', 'mae'],\n",
    "                  cv=5)\n",
    "\n",
    "gs.fit(data_surprise)\n",
    "\n",
    "# best RMSE score\n",
    "print(gs.best_score['rmse'])\n",
    "\n",
    "# combination of parameters that gave the best RMSE score\n",
    "print(gs.best_params['rmse'])"
   ]
  },
  {
   "cell_type": "code",
   "execution_count": 25,
   "metadata": {},
   "outputs": [
    {
     "data": {
      "text/plain": [
       "24"
      ]
     },
     "execution_count": 25,
     "metadata": {},
     "output_type": "execute_result"
    }
   ],
   "source": [
    "del gs, dict_model\n",
    "gc.collect()"
   ]
  },
  {
   "cell_type": "markdown",
   "metadata": {},
   "source": [
    "## 3) Content-based algorithms"
   ]
  },
  {
   "cell_type": "markdown",
   "metadata": {},
   "source": [
    "https://medium.com/analytics-vidhya/content-based-recommender-systems-in-python-2b330e01eb80"
   ]
  },
  {
   "cell_type": "code",
   "execution_count": 26,
   "metadata": {},
   "outputs": [],
   "source": [
    "desc = books.copy()\n",
    "desc = desc[[\"Id\", \"Name\", \"Authors\", \"Description\"]]"
   ]
  },
  {
   "cell_type": "code",
   "execution_count": 27,
   "metadata": {},
   "outputs": [
    {
     "data": {
      "text/plain": [
       "(119581, 215465)"
      ]
     },
     "execution_count": 27,
     "metadata": {},
     "output_type": "execute_result"
    }
   ],
   "source": [
    "tfidf = TfidfVectorizer(stop_words='english')\n",
    "desc['Description'] = desc['Description'].fillna(\"\")\n",
    "\n",
    "descr_matrix = tfidf.fit_transform(desc['Description'])\n",
    "descr_matrix.shape"
   ]
  },
  {
   "cell_type": "code",
   "execution_count": null,
   "metadata": {},
   "outputs": [],
   "source": [
    "similarity_matrix = linear_kernel(descr_matrix, descr_matrix)"
   ]
  },
  {
   "cell_type": "code",
   "execution_count": 30,
   "metadata": {},
   "outputs": [],
   "source": [
    "mapping = pd.Series(desc.index,\n",
    "          index = desc['Name'])\n",
    "print(mapping)"
   ]
  },
  {
   "cell_type": "code",
   "execution_count": null,
   "metadata": {},
   "outputs": [],
   "source": [
    "def recommend_books_based_on_description(book_input):\n",
    "    book_index = mapping[book_input]\n",
    "    #get similarity values with other movies\n",
    "    #similarity_score is the list of index and similarity matrix\n",
    "    similarity_score = list(enumerate(similarity_matrix[book_index]))\n",
    "    #sort in descending order the similarity score of movie inputted with all the other movies\n",
    "    similarity_score = sorted(similarity_score, key=lambda x: x[1], reverse=True)\n",
    "    \n",
    "    # Get the scores of the 15 most similar movies. Ignore the first movie.\n",
    "    similarity_score = similarity_score[1:15]\n",
    "    \n",
    "    #return movie names using the mapping series\n",
    "    book_indices = [i[0] for i in similarity_score]\n",
    "    return (descr['Title'].iloc[book_indices])"
   ]
  },
  {
   "cell_type": "code",
   "execution_count": null,
   "metadata": {},
   "outputs": [],
   "source": [
    "recommend_books_based_on_description(\"\")"
   ]
  }
 ],
 "metadata": {
  "interpreter": {
   "hash": "ee493cea8a9059eddf8f922ba27d7b6585c0a98c31cf1c0366dab9037c7fbdac"
  },
  "kernelspec": {
   "display_name": "Python 3.9.7 64-bit ('nlpenv': conda)",
   "language": "python",
   "name": "python3"
  },
  "language_info": {
   "codemirror_mode": {
    "name": "ipython",
    "version": 3
   },
   "file_extension": ".py",
   "mimetype": "text/x-python",
   "name": "python",
   "nbconvert_exporter": "python",
   "pygments_lexer": "ipython3",
   "version": "3.9.7"
  },
  "orig_nbformat": 4
 },
 "nbformat": 4,
 "nbformat_minor": 2
}
