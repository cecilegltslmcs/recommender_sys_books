{
 "cells": [
  {
   "cell_type": "markdown",
   "metadata": {
    "id": "Lsv5IJAqqBe0"
   },
   "source": [
    "# Recommender system for books: Modelisation"
   ]
  },
  {
   "cell_type": "code",
   "execution_count": null,
   "metadata": {
    "id": "kVxVO53SqBe4"
   },
   "outputs": [],
   "source": [
    "# Data manipulation\n",
    "import pandas as pd \n",
    "import numpy as np \n",
    "import gc\n",
    "\n",
    "# Graphical libraries\n",
    "import matplotlib.pyplot as plt\n",
    "import seaborn as sns\n",
    "\n",
    "# Modelisation libraries\n",
    "from surprise import BaselineOnly, SVD, NMF, KNNBasic, KNNWithMeans, KNNWithZScore\n",
    "from surprise import accuracy\n",
    "from surprise.model_selection import train_test_split, GridSearchCV\n",
    "from surprise import Dataset\n",
    "from surprise import Reader\n",
    "\n",
    "from sklearn.metrics.pairwise import cosine_similarity, linear_kernel\n",
    "from sklearn.metrics import mean_squared_error\n",
    "from sklearn.feature_extraction.text import TfidfVectorizer"
   ]
  },
  {
   "cell_type": "code",
   "execution_count": null,
   "metadata": {
    "id": "ketvHS6eq03T"
   },
   "outputs": [],
   "source": [
    "path = 'Datasets/'"
   ]
  },
  {
   "cell_type": "code",
   "execution_count": null,
   "metadata": {
    "id": "sugB78puqBe7"
   },
   "outputs": [],
   "source": [
    "# Importing data about users and books \n",
    "users = pd.read_parquet(path+\"users_data_cleaning.parquet.gzip\")\n",
    "books = pd.read_parquet(path+\"books_data_cleaning.parquet.gzip\")"
   ]
  },
  {
   "cell_type": "markdown",
   "metadata": {
    "id": "4X_yt-SiqBe8"
   },
   "source": [
    "It exists different kinds of recommender engines. In this proof of concept, simple recommender, user based collaborative filtering, content-based recommender and hybrid methods will be testing to find the best recommender engines. "
   ]
  },
  {
   "cell_type": "markdown",
   "metadata": {
    "id": "XC0Z-AnjqBe-"
   },
   "source": [
    "## 1) Simple recommender"
   ]
  },
  {
   "cell_type": "markdown",
   "metadata": {
    "id": "mFczN4BvqBe_"
   },
   "source": [
    "Simple recommender is the most basic recommender engines. It based on popularity. To calcule it, rating and number of reviews are used. The formula used in the following is the formula used by the IMDB website to calcule.  \n",
    "\n",
    "*Source:* https://www.datacamp.com/community/tutorials/recommender-systems-python"
   ]
  },
  {
   "cell_type": "code",
   "execution_count": null,
   "metadata": {
    "colab": {
     "base_uri": "https://localhost:8080/",
     "height": 206
    },
    "id": "hSYcwxP1qBfA",
    "outputId": "a7b5b166-b55e-4ff0-918d-6382ac250054"
   },
   "outputs": [
    {
     "data": {
      "text/html": [
       "\n",
       "  <div id=\"df-aa8c1aaa-5486-4408-b078-a2e38aabd675\">\n",
       "    <div class=\"colab-df-container\">\n",
       "      <div>\n",
       "<style scoped>\n",
       "    .dataframe tbody tr th:only-of-type {\n",
       "        vertical-align: middle;\n",
       "    }\n",
       "\n",
       "    .dataframe tbody tr th {\n",
       "        vertical-align: top;\n",
       "    }\n",
       "\n",
       "    .dataframe thead th {\n",
       "        text-align: right;\n",
       "    }\n",
       "</style>\n",
       "<table border=\"1\" class=\"dataframe\">\n",
       "  <thead>\n",
       "    <tr style=\"text-align: right;\">\n",
       "      <th></th>\n",
       "      <th>Id</th>\n",
       "      <th>Name</th>\n",
       "      <th>Authors</th>\n",
       "      <th>Rating</th>\n",
       "      <th>RatingDistTotal</th>\n",
       "    </tr>\n",
       "  </thead>\n",
       "  <tbody>\n",
       "    <tr>\n",
       "      <th>0</th>\n",
       "      <td>4000063</td>\n",
       "      <td>The Flintstones in Viva Rock Vegas</td>\n",
       "      <td>Ellen Miles</td>\n",
       "      <td>3.82</td>\n",
       "      <td>11</td>\n",
       "    </tr>\n",
       "    <tr>\n",
       "      <th>1</th>\n",
       "      <td>4000100</td>\n",
       "      <td>Little Rhody</td>\n",
       "      <td>Neta Lohnes Frazier</td>\n",
       "      <td>4.33</td>\n",
       "      <td>9</td>\n",
       "    </tr>\n",
       "    <tr>\n",
       "      <th>2</th>\n",
       "      <td>4000228</td>\n",
       "      <td>Finance And Investments Using The Wall Street ...</td>\n",
       "      <td>Peter R. Crabb</td>\n",
       "      <td>0.00</td>\n",
       "      <td>0</td>\n",
       "    </tr>\n",
       "    <tr>\n",
       "      <th>3</th>\n",
       "      <td>4000366</td>\n",
       "      <td>Shorty McCabe Looks 'Em Over</td>\n",
       "      <td>Sewell Ford</td>\n",
       "      <td>0.00</td>\n",
       "      <td>0</td>\n",
       "    </tr>\n",
       "    <tr>\n",
       "      <th>4</th>\n",
       "      <td>4000441</td>\n",
       "      <td>Plant Pathology</td>\n",
       "      <td>George N. Agrios</td>\n",
       "      <td>4.52</td>\n",
       "      <td>84</td>\n",
       "    </tr>\n",
       "  </tbody>\n",
       "</table>\n",
       "</div>\n",
       "      <button class=\"colab-df-convert\" onclick=\"convertToInteractive('df-aa8c1aaa-5486-4408-b078-a2e38aabd675')\"\n",
       "              title=\"Convert this dataframe to an interactive table.\"\n",
       "              style=\"display:none;\">\n",
       "        \n",
       "  <svg xmlns=\"http://www.w3.org/2000/svg\" height=\"24px\"viewBox=\"0 0 24 24\"\n",
       "       width=\"24px\">\n",
       "    <path d=\"M0 0h24v24H0V0z\" fill=\"none\"/>\n",
       "    <path d=\"M18.56 5.44l.94 2.06.94-2.06 2.06-.94-2.06-.94-.94-2.06-.94 2.06-2.06.94zm-11 1L8.5 8.5l.94-2.06 2.06-.94-2.06-.94L8.5 2.5l-.94 2.06-2.06.94zm10 10l.94 2.06.94-2.06 2.06-.94-2.06-.94-.94-2.06-.94 2.06-2.06.94z\"/><path d=\"M17.41 7.96l-1.37-1.37c-.4-.4-.92-.59-1.43-.59-.52 0-1.04.2-1.43.59L10.3 9.45l-7.72 7.72c-.78.78-.78 2.05 0 2.83L4 21.41c.39.39.9.59 1.41.59.51 0 1.02-.2 1.41-.59l7.78-7.78 2.81-2.81c.8-.78.8-2.07 0-2.86zM5.41 20L4 18.59l7.72-7.72 1.47 1.35L5.41 20z\"/>\n",
       "  </svg>\n",
       "      </button>\n",
       "      \n",
       "  <style>\n",
       "    .colab-df-container {\n",
       "      display:flex;\n",
       "      flex-wrap:wrap;\n",
       "      gap: 12px;\n",
       "    }\n",
       "\n",
       "    .colab-df-convert {\n",
       "      background-color: #E8F0FE;\n",
       "      border: none;\n",
       "      border-radius: 50%;\n",
       "      cursor: pointer;\n",
       "      display: none;\n",
       "      fill: #1967D2;\n",
       "      height: 32px;\n",
       "      padding: 0 0 0 0;\n",
       "      width: 32px;\n",
       "    }\n",
       "\n",
       "    .colab-df-convert:hover {\n",
       "      background-color: #E2EBFA;\n",
       "      box-shadow: 0px 1px 2px rgba(60, 64, 67, 0.3), 0px 1px 3px 1px rgba(60, 64, 67, 0.15);\n",
       "      fill: #174EA6;\n",
       "    }\n",
       "\n",
       "    [theme=dark] .colab-df-convert {\n",
       "      background-color: #3B4455;\n",
       "      fill: #D2E3FC;\n",
       "    }\n",
       "\n",
       "    [theme=dark] .colab-df-convert:hover {\n",
       "      background-color: #434B5C;\n",
       "      box-shadow: 0px 1px 3px 1px rgba(0, 0, 0, 0.15);\n",
       "      filter: drop-shadow(0px 1px 2px rgba(0, 0, 0, 0.3));\n",
       "      fill: #FFFFFF;\n",
       "    }\n",
       "  </style>\n",
       "\n",
       "      <script>\n",
       "        const buttonEl =\n",
       "          document.querySelector('#df-aa8c1aaa-5486-4408-b078-a2e38aabd675 button.colab-df-convert');\n",
       "        buttonEl.style.display =\n",
       "          google.colab.kernel.accessAllowed ? 'block' : 'none';\n",
       "\n",
       "        async function convertToInteractive(key) {\n",
       "          const element = document.querySelector('#df-aa8c1aaa-5486-4408-b078-a2e38aabd675');\n",
       "          const dataTable =\n",
       "            await google.colab.kernel.invokeFunction('convertToInteractive',\n",
       "                                                     [key], {});\n",
       "          if (!dataTable) return;\n",
       "\n",
       "          const docLinkHtml = 'Like what you see? Visit the ' +\n",
       "            '<a target=\"_blank\" href=https://colab.research.google.com/notebooks/data_table.ipynb>data table notebook</a>'\n",
       "            + ' to learn more about interactive tables.';\n",
       "          element.innerHTML = '';\n",
       "          dataTable['output_type'] = 'display_data';\n",
       "          await google.colab.output.renderOutput(dataTable, element);\n",
       "          const docLink = document.createElement('div');\n",
       "          docLink.innerHTML = docLinkHtml;\n",
       "          element.appendChild(docLink);\n",
       "        }\n",
       "      </script>\n",
       "    </div>\n",
       "  </div>\n",
       "  "
      ],
      "text/plain": [
       "        Id  ... RatingDistTotal\n",
       "0  4000063  ...              11\n",
       "1  4000100  ...               9\n",
       "2  4000228  ...               0\n",
       "3  4000366  ...               0\n",
       "4  4000441  ...              84\n",
       "\n",
       "[5 rows x 5 columns]"
      ]
     },
     "execution_count": 6,
     "metadata": {},
     "output_type": "execute_result"
    }
   ],
   "source": [
    "# creating a new dataset for the calculus\n",
    "simple_reco = books.copy()\n",
    "simple_reco = simple_reco[[\"Id\", \"Name\", \"Authors\",\n",
    "                           \"Rating\", \"CountsOfReview\"]]\n",
    "simple_reco.head()"
   ]
  },
  {
   "cell_type": "code",
   "execution_count": null,
   "metadata": {
    "colab": {
     "base_uri": "https://localhost:8080/"
    },
    "id": "8tth_VhfqBfB",
    "outputId": "19a65052-3409-4d28-82f5-75b15d16b3b0"
   },
   "outputs": [
    {
     "name": "stdout",
     "output_type": "stream",
     "text": [
      "3.7320950652695215\n"
     ]
    }
   ],
   "source": [
    "# calculating the average rating\n",
    "C = simple_reco['Rating'].mean()\n",
    "print(C)"
   ]
  },
  {
   "cell_type": "code",
   "execution_count": null,
   "metadata": {
    "colab": {
     "base_uri": "https://localhost:8080/"
    },
    "id": "hxsTtTd-qBfB",
    "outputId": "ef78d3d2-c592-4f5b-fdec-700e7796ecad"
   },
   "outputs": [
    {
     "name": "stdout",
     "output_type": "stream",
     "text": [
      "8029.0\n"
     ]
    }
   ],
   "source": [
    "# calculating and keeping\n",
    "# books with the 90th percentile\n",
    "m = simple_reco['CountsOfReview'].quantile(0.90)\n",
    "print(m)"
   ]
  },
  {
   "cell_type": "code",
   "execution_count": null,
   "metadata": {
    "colab": {
     "base_uri": "https://localhost:8080/"
    },
    "id": "UkbxqfeqqBfE",
    "outputId": "9dbf18c0-d7aa-49c3-d392-9c24a701ae0d"
   },
   "outputs": [
    {
     "data": {
      "text/plain": [
       "(11959, 5)"
      ]
     },
     "execution_count": 9,
     "metadata": {},
     "output_type": "execute_result"
    }
   ],
   "source": [
    "# selecting only books with at least 41 reviews\n",
    "q_books = simple_reco.copy().loc[simple_reco['CountsOfReview'] >= m]\n",
    "q_books.shape"
   ]
  },
  {
   "cell_type": "code",
   "execution_count": null,
   "metadata": {
    "id": "RBGp_JGIqBfE"
   },
   "outputs": [],
   "source": [
    "def weighted_rating(x, m=m, C=C):\n",
    "    v = x['CountsOfReview']\n",
    "    R = x['Rating']\n",
    "    return (v/(v+m) * R) + (m/(m+v) * C)"
   ]
  },
  {
   "cell_type": "code",
   "execution_count": null,
   "metadata": {
    "id": "iB1bz_TvqBfG"
   },
   "outputs": [],
   "source": [
    "q_books['score'] = q_books.apply(weighted_rating, axis=1)"
   ]
  },
  {
   "cell_type": "code",
   "execution_count": null,
   "metadata": {
    "colab": {
     "base_uri": "https://localhost:8080/",
     "height": 677
    },
    "id": "9xPk-ZP4qBfG",
    "outputId": "496c79de-8493-4861-eb45-52fa3f803382"
   },
   "outputs": [
    {
     "data": {
      "text/html": [
       "\n",
       "  <div id=\"df-21aa2e66-82c7-4a9f-84a3-6415f2ca5459\">\n",
       "    <div class=\"colab-df-container\">\n",
       "      <div>\n",
       "<style scoped>\n",
       "    .dataframe tbody tr th:only-of-type {\n",
       "        vertical-align: middle;\n",
       "    }\n",
       "\n",
       "    .dataframe tbody tr th {\n",
       "        vertical-align: top;\n",
       "    }\n",
       "\n",
       "    .dataframe thead th {\n",
       "        text-align: right;\n",
       "    }\n",
       "</style>\n",
       "<table border=\"1\" class=\"dataframe\">\n",
       "  <thead>\n",
       "    <tr style=\"text-align: right;\">\n",
       "      <th></th>\n",
       "      <th>Id</th>\n",
       "      <th>Name</th>\n",
       "      <th>Authors</th>\n",
       "      <th>RatingDistTotal</th>\n",
       "      <th>Rating</th>\n",
       "      <th>score</th>\n",
       "    </tr>\n",
       "  </thead>\n",
       "  <tbody>\n",
       "    <tr>\n",
       "      <th>81070</th>\n",
       "      <td>2132220</td>\n",
       "      <td>Harry Potter Audio Collection (Harry Potter, #...</td>\n",
       "      <td>J.K. Rowling</td>\n",
       "      <td>247506</td>\n",
       "      <td>4.74</td>\n",
       "      <td>4.708331</td>\n",
       "    </tr>\n",
       "    <tr>\n",
       "      <th>18260</th>\n",
       "      <td>1668766</td>\n",
       "      <td>Harry Potter Boxed Set (Harry Potter, #1-7)</td>\n",
       "      <td>J.K. Rowling</td>\n",
       "      <td>245916</td>\n",
       "      <td>4.74</td>\n",
       "      <td>4.708133</td>\n",
       "    </tr>\n",
       "    <tr>\n",
       "      <th>18259</th>\n",
       "      <td>1668764</td>\n",
       "      <td>The Complete Harry Potter Collection Box Set (...</td>\n",
       "      <td>J.K. Rowling</td>\n",
       "      <td>245916</td>\n",
       "      <td>4.74</td>\n",
       "      <td>4.708133</td>\n",
       "    </tr>\n",
       "    <tr>\n",
       "      <th>56556</th>\n",
       "      <td>988373</td>\n",
       "      <td>Complete Harry Potter Boxed Set</td>\n",
       "      <td>J.K. Rowling</td>\n",
       "      <td>244668</td>\n",
       "      <td>4.74</td>\n",
       "      <td>4.707976</td>\n",
       "    </tr>\n",
       "    <tr>\n",
       "      <th>44289</th>\n",
       "      <td>862041</td>\n",
       "      <td>Harry Potter Series Box Set (Harry Potter, #1-7)</td>\n",
       "      <td>J.K. Rowling</td>\n",
       "      <td>244331</td>\n",
       "      <td>4.74</td>\n",
       "      <td>4.707933</td>\n",
       "    </tr>\n",
       "    <tr>\n",
       "      <th>7450</th>\n",
       "      <td>4744747</td>\n",
       "      <td>Harry Potter Adult Boxed Set (Harry Potter, #1-7)</td>\n",
       "      <td>J.K. Rowling</td>\n",
       "      <td>253300</td>\n",
       "      <td>4.73</td>\n",
       "      <td>4.699341</td>\n",
       "    </tr>\n",
       "    <tr>\n",
       "      <th>82708</th>\n",
       "      <td>2181379</td>\n",
       "      <td>Harry Potter and the Deathly Hallows (Harry Po...</td>\n",
       "      <td>J.K. Rowling</td>\n",
       "      <td>2758202</td>\n",
       "      <td>4.62</td>\n",
       "      <td>4.617423</td>\n",
       "    </tr>\n",
       "    <tr>\n",
       "      <th>51691</th>\n",
       "      <td>912224</td>\n",
       "      <td>Harry Potter and the Deathly Hallows (Harry Po...</td>\n",
       "      <td>J.K. Rowling</td>\n",
       "      <td>2708152</td>\n",
       "      <td>4.62</td>\n",
       "      <td>4.617375</td>\n",
       "    </tr>\n",
       "    <tr>\n",
       "      <th>40413</th>\n",
       "      <td>818056</td>\n",
       "      <td>Harry Potter and the Deathly Hallows (Harry Po...</td>\n",
       "      <td>J.K. Rowling</td>\n",
       "      <td>2704487</td>\n",
       "      <td>4.62</td>\n",
       "      <td>4.617372</td>\n",
       "    </tr>\n",
       "    <tr>\n",
       "      <th>60053</th>\n",
       "      <td>3106176</td>\n",
       "      <td>Harry Potter and the Prisoner of Azkaban</td>\n",
       "      <td>J.K. Rowling</td>\n",
       "      <td>2774928</td>\n",
       "      <td>4.57</td>\n",
       "      <td>4.567583</td>\n",
       "    </tr>\n",
       "    <tr>\n",
       "      <th>118866</th>\n",
       "      <td>1286752</td>\n",
       "      <td>Harry Potter and the Prisoner of Azkaban (Harr...</td>\n",
       "      <td>J.K. Rowling</td>\n",
       "      <td>2694831</td>\n",
       "      <td>4.57</td>\n",
       "      <td>4.567511</td>\n",
       "    </tr>\n",
       "    <tr>\n",
       "      <th>40525</th>\n",
       "      <td>819073</td>\n",
       "      <td>Harry Potter and the Prisoner of Azkaban (Harr...</td>\n",
       "      <td>J.K. Rowling</td>\n",
       "      <td>2674609</td>\n",
       "      <td>4.57</td>\n",
       "      <td>4.567492</td>\n",
       "    </tr>\n",
       "    <tr>\n",
       "      <th>33384</th>\n",
       "      <td>620121</td>\n",
       "      <td>Harry Potter and the Prisoner of Azkaban (Harr...</td>\n",
       "      <td>J.K. Rowling</td>\n",
       "      <td>2667343</td>\n",
       "      <td>4.57</td>\n",
       "      <td>4.567485</td>\n",
       "    </tr>\n",
       "    <tr>\n",
       "      <th>79225</th>\n",
       "      <td>2073648</td>\n",
       "      <td>Harry Potter and the Half-Blood Prince (Harry ...</td>\n",
       "      <td>J.K. Rowling</td>\n",
       "      <td>2392520</td>\n",
       "      <td>4.57</td>\n",
       "      <td>4.567197</td>\n",
       "    </tr>\n",
       "    <tr>\n",
       "      <th>115401</th>\n",
       "      <td>1216023</td>\n",
       "      <td>Harry Potter and the Half-Blood Prince (Harry ...</td>\n",
       "      <td>J.K. Rowling</td>\n",
       "      <td>2355560</td>\n",
       "      <td>4.57</td>\n",
       "      <td>4.567154</td>\n",
       "    </tr>\n",
       "    <tr>\n",
       "      <th>42591</th>\n",
       "      <td>840699</td>\n",
       "      <td>Harry Potter and the Half-Blood Prince (Harry ...</td>\n",
       "      <td>J.K. Rowling</td>\n",
       "      <td>2343492</td>\n",
       "      <td>4.57</td>\n",
       "      <td>4.567139</td>\n",
       "    </tr>\n",
       "    <tr>\n",
       "      <th>34336</th>\n",
       "      <td>633308</td>\n",
       "      <td>Harry Potter and the Half-Blood Prince (Harry ...</td>\n",
       "      <td>J.K. Rowling</td>\n",
       "      <td>2338049</td>\n",
       "      <td>4.57</td>\n",
       "      <td>4.567132</td>\n",
       "    </tr>\n",
       "    <tr>\n",
       "      <th>108638</th>\n",
       "      <td>1750622</td>\n",
       "      <td>Harry Potter and the Goblet of Fire (Harry Pot...</td>\n",
       "      <td>J.K. Rowling</td>\n",
       "      <td>2516303</td>\n",
       "      <td>4.56</td>\n",
       "      <td>4.557367</td>\n",
       "    </tr>\n",
       "    <tr>\n",
       "      <th>29822</th>\n",
       "      <td>1167666</td>\n",
       "      <td>Harry Potter and the Goblet of Fire (Harry Pot...</td>\n",
       "      <td>J.K. Rowling</td>\n",
       "      <td>2498856</td>\n",
       "      <td>4.56</td>\n",
       "      <td>4.557348</td>\n",
       "    </tr>\n",
       "    <tr>\n",
       "      <th>44351</th>\n",
       "      <td>862710</td>\n",
       "      <td>Harry Potter and the Goblet of Fire (Harry Pot...</td>\n",
       "      <td>J.K. Rowling</td>\n",
       "      <td>2486014</td>\n",
       "      <td>4.56</td>\n",
       "      <td>4.557335</td>\n",
       "    </tr>\n",
       "  </tbody>\n",
       "</table>\n",
       "</div>\n",
       "      <button class=\"colab-df-convert\" onclick=\"convertToInteractive('df-21aa2e66-82c7-4a9f-84a3-6415f2ca5459')\"\n",
       "              title=\"Convert this dataframe to an interactive table.\"\n",
       "              style=\"display:none;\">\n",
       "        \n",
       "  <svg xmlns=\"http://www.w3.org/2000/svg\" height=\"24px\"viewBox=\"0 0 24 24\"\n",
       "       width=\"24px\">\n",
       "    <path d=\"M0 0h24v24H0V0z\" fill=\"none\"/>\n",
       "    <path d=\"M18.56 5.44l.94 2.06.94-2.06 2.06-.94-2.06-.94-.94-2.06-.94 2.06-2.06.94zm-11 1L8.5 8.5l.94-2.06 2.06-.94-2.06-.94L8.5 2.5l-.94 2.06-2.06.94zm10 10l.94 2.06.94-2.06 2.06-.94-2.06-.94-.94-2.06-.94 2.06-2.06.94z\"/><path d=\"M17.41 7.96l-1.37-1.37c-.4-.4-.92-.59-1.43-.59-.52 0-1.04.2-1.43.59L10.3 9.45l-7.72 7.72c-.78.78-.78 2.05 0 2.83L4 21.41c.39.39.9.59 1.41.59.51 0 1.02-.2 1.41-.59l7.78-7.78 2.81-2.81c.8-.78.8-2.07 0-2.86zM5.41 20L4 18.59l7.72-7.72 1.47 1.35L5.41 20z\"/>\n",
       "  </svg>\n",
       "      </button>\n",
       "      \n",
       "  <style>\n",
       "    .colab-df-container {\n",
       "      display:flex;\n",
       "      flex-wrap:wrap;\n",
       "      gap: 12px;\n",
       "    }\n",
       "\n",
       "    .colab-df-convert {\n",
       "      background-color: #E8F0FE;\n",
       "      border: none;\n",
       "      border-radius: 50%;\n",
       "      cursor: pointer;\n",
       "      display: none;\n",
       "      fill: #1967D2;\n",
       "      height: 32px;\n",
       "      padding: 0 0 0 0;\n",
       "      width: 32px;\n",
       "    }\n",
       "\n",
       "    .colab-df-convert:hover {\n",
       "      background-color: #E2EBFA;\n",
       "      box-shadow: 0px 1px 2px rgba(60, 64, 67, 0.3), 0px 1px 3px 1px rgba(60, 64, 67, 0.15);\n",
       "      fill: #174EA6;\n",
       "    }\n",
       "\n",
       "    [theme=dark] .colab-df-convert {\n",
       "      background-color: #3B4455;\n",
       "      fill: #D2E3FC;\n",
       "    }\n",
       "\n",
       "    [theme=dark] .colab-df-convert:hover {\n",
       "      background-color: #434B5C;\n",
       "      box-shadow: 0px 1px 3px 1px rgba(0, 0, 0, 0.15);\n",
       "      filter: drop-shadow(0px 1px 2px rgba(0, 0, 0, 0.3));\n",
       "      fill: #FFFFFF;\n",
       "    }\n",
       "  </style>\n",
       "\n",
       "      <script>\n",
       "        const buttonEl =\n",
       "          document.querySelector('#df-21aa2e66-82c7-4a9f-84a3-6415f2ca5459 button.colab-df-convert');\n",
       "        buttonEl.style.display =\n",
       "          google.colab.kernel.accessAllowed ? 'block' : 'none';\n",
       "\n",
       "        async function convertToInteractive(key) {\n",
       "          const element = document.querySelector('#df-21aa2e66-82c7-4a9f-84a3-6415f2ca5459');\n",
       "          const dataTable =\n",
       "            await google.colab.kernel.invokeFunction('convertToInteractive',\n",
       "                                                     [key], {});\n",
       "          if (!dataTable) return;\n",
       "\n",
       "          const docLinkHtml = 'Like what you see? Visit the ' +\n",
       "            '<a target=\"_blank\" href=https://colab.research.google.com/notebooks/data_table.ipynb>data table notebook</a>'\n",
       "            + ' to learn more about interactive tables.';\n",
       "          element.innerHTML = '';\n",
       "          dataTable['output_type'] = 'display_data';\n",
       "          await google.colab.output.renderOutput(dataTable, element);\n",
       "          const docLink = document.createElement('div');\n",
       "          docLink.innerHTML = docLinkHtml;\n",
       "          element.appendChild(docLink);\n",
       "        }\n",
       "      </script>\n",
       "    </div>\n",
       "  </div>\n",
       "  "
      ],
      "text/plain": [
       "             Id  ...     score\n",
       "81070   2132220  ...  4.708331\n",
       "18260   1668766  ...  4.708133\n",
       "18259   1668764  ...  4.708133\n",
       "56556    988373  ...  4.707976\n",
       "44289    862041  ...  4.707933\n",
       "7450    4744747  ...  4.699341\n",
       "82708   2181379  ...  4.617423\n",
       "51691    912224  ...  4.617375\n",
       "40413    818056  ...  4.617372\n",
       "60053   3106176  ...  4.567583\n",
       "118866  1286752  ...  4.567511\n",
       "40525    819073  ...  4.567492\n",
       "33384    620121  ...  4.567485\n",
       "79225   2073648  ...  4.567197\n",
       "115401  1216023  ...  4.567154\n",
       "42591    840699  ...  4.567139\n",
       "34336    633308  ...  4.567132\n",
       "108638  1750622  ...  4.557367\n",
       "29822   1167666  ...  4.557348\n",
       "44351    862710  ...  4.557335\n",
       "\n",
       "[20 rows x 6 columns]"
      ]
     },
     "execution_count": 12,
     "metadata": {},
     "output_type": "execute_result"
    }
   ],
   "source": [
    "#Sort movies based on score calculated above\n",
    "q_books = q_books.sort_values('score', ascending=False)\n",
    "\n",
    "#Print the top 15 books\n",
    "q_books[[\"Id\",'Name', \"Authors\", 'CountsOfReview', 'Rating', 'score']].head(20)"
   ]
  },
  {
   "cell_type": "code",
   "execution_count": null,
   "metadata": {
    "colab": {
     "base_uri": "https://localhost:8080/"
    },
    "id": "7k9-KTF0qBfG",
    "outputId": "93528cc5-d33d-4721-f680-6b2dbd023a10"
   },
   "outputs": [
    {
     "name": "stdout",
     "output_type": "stream",
     "text": [
      "0.09449245640671797\n"
     ]
    }
   ],
   "source": [
    "print(np.sqrt(mean_squared_error(q_books['Rating'],\n",
    "                                 q_books[\"score\"])))"
   ]
  },
  {
   "cell_type": "code",
   "execution_count": null,
   "metadata": {
    "colab": {
     "base_uri": "https://localhost:8080/"
    },
    "id": "aItBnsoLqBfH",
    "outputId": "cf49402a-0385-4835-fa74-e40739ef29f2"
   },
   "outputs": [
    {
     "data": {
      "text/plain": [
       "162"
      ]
     },
     "execution_count": 14,
     "metadata": {},
     "output_type": "execute_result"
    }
   ],
   "source": [
    "del q_books, simple_reco\n",
    "gc.collect()"
   ]
  },
  {
   "cell_type": "markdown",
   "metadata": {
    "id": "uly3P2IZqBfI"
   },
   "source": [
    "## 2) User-based collaborative filtering"
   ]
  },
  {
   "cell_type": "markdown",
   "metadata": {
    "id": "mm6iypscqBfI"
   },
   "source": [
    "### a) Preparing the data for Surprise library"
   ]
  },
  {
   "cell_type": "code",
   "execution_count": null,
   "metadata": {
    "id": "6jgwl0oDqBfK"
   },
   "outputs": [],
   "source": [
    "reader = Reader(rating_scale=(1, 5))\n",
    "data_surprise = Dataset.load_from_df(users[['User_Id', 'Id', 'Rating']], reader)"
   ]
  },
  {
   "cell_type": "code",
   "execution_count": null,
   "metadata": {
    "id": "T3amPSIQqBfK"
   },
   "outputs": [],
   "source": [
    "trainset, testset = train_test_split(data_surprise, test_size=.2)"
   ]
  },
  {
   "cell_type": "code",
   "execution_count": null,
   "metadata": {
    "colab": {
     "base_uri": "https://localhost:8080/"
    },
    "id": "JM11pGfsqBfK",
    "outputId": "2161ee93-0170-4cb5-db3c-5fbd7e7e15a9"
   },
   "outputs": [
    {
     "name": "stdout",
     "output_type": "stream",
     "text": [
      "Estimating biases using als...\n"
     ]
    }
   ],
   "source": [
    "bsl_options = {'method': 'als',\n",
    "               'n_epochs': 5,\n",
    "               'reg_u': 12,\n",
    "               'reg_i': 5\n",
    "               }\n",
    "base_als = BaselineOnly(bsl_options=bsl_options)\n",
    "predictions = base_als.fit(trainset).test(testset)"
   ]
  },
  {
   "cell_type": "code",
   "execution_count": null,
   "metadata": {
    "colab": {
     "base_uri": "https://localhost:8080/"
    },
    "id": "FsvEb87BqBfK",
    "outputId": "27dcdc15-6133-43b9-8768-3ffbd55541e9"
   },
   "outputs": [
    {
     "data": {
      "text/plain": [
       "50"
      ]
     },
     "execution_count": 18,
     "metadata": {},
     "output_type": "execute_result"
    }
   ],
   "source": [
    "del predictions\n",
    "gc.collect()"
   ]
  },
  {
   "cell_type": "code",
   "execution_count": null,
   "metadata": {
    "colab": {
     "base_uri": "https://localhost:8080/"
    },
    "id": "LLaI_5zNqBfL",
    "outputId": "872dc6cc-e1a7-477e-a894-7f69740a2bf7"
   },
   "outputs": [
    {
     "name": "stdout",
     "output_type": "stream",
     "text": [
      "Estimating biases using sgd...\n"
     ]
    }
   ],
   "source": [
    "bsl_options = {'method': 'sgd',\n",
    "               'learning_rate': .00005,\n",
    "               }\n",
    "base_sgd = BaselineOnly(bsl_options=bsl_options)\n",
    "predictions = base_sgd.fit(trainset).test(testset)"
   ]
  },
  {
   "cell_type": "code",
   "execution_count": null,
   "metadata": {
    "colab": {
     "base_uri": "https://localhost:8080/"
    },
    "id": "YE-oT40RqBfL",
    "outputId": "c8c49be5-79b4-4016-9f87-54134eda9fea"
   },
   "outputs": [
    {
     "data": {
      "text/plain": [
       "0"
      ]
     },
     "execution_count": 20,
     "metadata": {},
     "output_type": "execute_result"
    }
   ],
   "source": [
    "del predictions\n",
    "gc.collect()"
   ]
  },
  {
   "cell_type": "markdown",
   "metadata": {
    "id": "aXnjq0_EqBfM"
   },
   "source": [
    "### b) Matrix Factorization based algorithms"
   ]
  },
  {
   "cell_type": "code",
   "execution_count": null,
   "metadata": {
    "id": "qfKyaVhVqBfN"
   },
   "outputs": [],
   "source": [
    "svd = SVD()\n",
    "nmf = NMF()"
   ]
  },
  {
   "cell_type": "code",
   "execution_count": null,
   "metadata": {
    "colab": {
     "base_uri": "https://localhost:8080/"
    },
    "id": "H9rsgC8CqBfP",
    "outputId": "5ec731e5-02f2-4ddb-a92f-982690098dd5"
   },
   "outputs": [
    {
     "name": "stdout",
     "output_type": "stream",
     "text": [
      "RMSE: 0.7623\n",
      "RMSE: 0.8669\n",
      "{<surprise.prediction_algorithms.matrix_factorization.SVD object at 0x7f3539e38650>: 0.762, <surprise.prediction_algorithms.matrix_factorization.NMF object at 0x7f3539e38710>: 0.867}\n"
     ]
    }
   ],
   "source": [
    "model = [svd, nmf]\n",
    "dict_model = {}\n",
    "\n",
    "for model in model:\n",
    "    y_pred = model.fit(trainset).test(testset)\n",
    "    rmse = accuracy.rmse(y_pred)\n",
    "    dict_model[model] = rmse.round(3)\n",
    "\n",
    "print(dict_model)"
   ]
  },
  {
   "cell_type": "code",
   "execution_count": null,
   "metadata": {
    "colab": {
     "base_uri": "https://localhost:8080/"
    },
    "id": "40BCSdP_qBfP",
    "outputId": "ec5825b1-5be0-45f3-87fa-530438475ece"
   },
   "outputs": [
    {
     "name": "stdout",
     "output_type": "stream",
     "text": [
      "0.7483085077382944\n",
      "{'n_factors': 125, 'n_epochs': 25, 'lr_all': 0.1, 'reg_all': 0.1, 'random_state': 42}\n"
     ]
    }
   ],
   "source": [
    "param_grid = {'n_factors': [50, 75, 100, 125],\n",
    "              'n_epochs': [5, 10, 15, 20, 25], \n",
    "              'lr_all': [0.001, 0.002, 0.005, 0.1],\n",
    "              'reg_all': [0.1, 0.2, 0.4, 0.6],\n",
    "              'random_state' : [42]\n",
    "}\n",
    "\n",
    "gs = GridSearchCV(SVD,\n",
    "                  param_grid,\n",
    "                  measures=['rmse', 'mae'],\n",
    "                  cv=5)\n",
    "\n",
    "gs.fit(data_surprise)\n",
    "\n",
    "# best RMSE score\n",
    "print(gs.best_score['rmse'])\n",
    "\n",
    "# combination of parameters that gave the best RMSE score\n",
    "print(gs.best_params['rmse'])"
   ]
  },
  {
   "cell_type": "markdown",
   "metadata": {
    "id": "Ux6qC16eUoKa"
   },
   "source": []
  },
  {
   "cell_type": "code",
   "execution_count": null,
   "metadata": {
    "colab": {
     "base_uri": "https://localhost:8080/"
    },
    "id": "FFv-bMYIqBfP",
    "outputId": "31f612af-bc2e-41a3-d443-797ab7a140fe"
   },
   "outputs": [
    {
     "name": "stdout",
     "output_type": "stream",
     "text": [
      "RMSE: 0.7488\n"
     ]
    },
    {
     "data": {
      "text/plain": [
       "0.7488222550781085"
      ]
     },
     "execution_count": 24,
     "metadata": {},
     "output_type": "execute_result"
    }
   ],
   "source": [
    "svd_gs = gs.best_estimator['rmse']\n",
    "predictions = svd_gs.fit(trainset).test(testset)\n",
    "accuracy.rmse(predictions)"
   ]
  },
  {
   "cell_type": "code",
   "execution_count": null,
   "metadata": {
    "colab": {
     "base_uri": "https://localhost:8080/"
    },
    "id": "dOvALK8gqBfP",
    "outputId": "f9dd787b-6fb1-4d38-8407-50c77931ec14"
   },
   "outputs": [
    {
     "data": {
      "text/plain": [
       "50"
      ]
     },
     "execution_count": 25,
     "metadata": {},
     "output_type": "execute_result"
    }
   ],
   "source": [
    "del predictions, gs, dict_model\n",
    "gc.collect()"
   ]
  },
  {
   "cell_type": "markdown",
   "metadata": {
    "id": "q1xihbNWqBfQ"
   },
   "source": [
    "### c) K-NN based models"
   ]
  },
  {
   "cell_type": "code",
   "execution_count": null,
   "metadata": {
    "id": "sGmwP4H1qBfQ"
   },
   "outputs": [],
   "source": [
    "# Initializing similarities options\n",
    "sim_options = {'name': 'cosine',\n",
    "               'user_based': True  # compute  similarities between users\n",
    "               }"
   ]
  },
  {
   "cell_type": "code",
   "execution_count": null,
   "metadata": {
    "id": "jCoBJs16qBfR"
   },
   "outputs": [],
   "source": [
    "knnbasic = KNNBasic()\n",
    "knnmeans = KNNWithMeans()\n",
    "knnzscore = KNNWithZScore()"
   ]
  },
  {
   "cell_type": "code",
   "execution_count": null,
   "metadata": {
    "colab": {
     "base_uri": "https://localhost:8080/"
    },
    "id": "_HXQGUkEqBfR",
    "outputId": "1b38ed5f-db3c-405b-9eba-3e9b1367d96c"
   },
   "outputs": [
    {
     "name": "stdout",
     "output_type": "stream",
     "text": [
      "Computing the msd similarity matrix...\n",
      "Done computing similarity matrix.\n",
      "RMSE: 0.7675\n",
      "Computing the msd similarity matrix...\n",
      "Done computing similarity matrix.\n",
      "RMSE: 0.7682\n",
      "Computing the msd similarity matrix...\n",
      "Done computing similarity matrix.\n",
      "RMSE: 0.7616\n",
      "{<surprise.prediction_algorithms.knns.KNNBasic object at 0x7f3523b7b350>: 0.768, <surprise.prediction_algorithms.knns.KNNWithMeans object at 0x7f3523b7b590>: 0.768, <surprise.prediction_algorithms.knns.KNNWithZScore object at 0x7f3523b7b1d0>: 0.762}\n"
     ]
    }
   ],
   "source": [
    "model = [knnbasic, knnmeans, knnzscore]\n",
    "dict_model = {}\n",
    "\n",
    "for model in model:\n",
    "    y_pred = model.fit(trainset).test(testset)\n",
    "    rmse = accuracy.rmse(y_pred)\n",
    "    dict_model[model] = rmse.round(3)\n",
    "\n",
    "print(dict_model)"
   ]
  },
  {
   "cell_type": "code",
   "execution_count": null,
   "metadata": {
    "colab": {
     "base_uri": "https://localhost:8080/"
    },
    "id": "u4hF8Um9qBfS",
    "outputId": "0c2c1c46-8b7c-4dac-c95f-747ce7ab7e6b"
   },
   "outputs": [
    {
     "name": "stdout",
     "output_type": "stream",
     "text": [
      "Computing the msd similarity matrix...\n",
      "Done computing similarity matrix.\n",
      "Computing the msd similarity matrix...\n",
      "Done computing similarity matrix.\n",
      "Computing the msd similarity matrix...\n",
      "Done computing similarity matrix.\n",
      "Computing the msd similarity matrix...\n",
      "Done computing similarity matrix.\n",
      "Computing the msd similarity matrix...\n",
      "Done computing similarity matrix.\n",
      "Computing the msd similarity matrix...\n",
      "Done computing similarity matrix.\n",
      "Computing the msd similarity matrix...\n",
      "Done computing similarity matrix.\n",
      "Computing the msd similarity matrix...\n",
      "Done computing similarity matrix.\n",
      "Computing the msd similarity matrix...\n",
      "Done computing similarity matrix.\n",
      "Computing the msd similarity matrix...\n",
      "Done computing similarity matrix.\n",
      "Computing the msd similarity matrix...\n",
      "Done computing similarity matrix.\n",
      "Computing the msd similarity matrix...\n",
      "Done computing similarity matrix.\n",
      "Computing the msd similarity matrix...\n",
      "Done computing similarity matrix.\n",
      "Computing the msd similarity matrix...\n",
      "Done computing similarity matrix.\n",
      "Computing the msd similarity matrix...\n",
      "Done computing similarity matrix.\n",
      "Computing the msd similarity matrix...\n",
      "Done computing similarity matrix.\n",
      "Computing the msd similarity matrix...\n",
      "Done computing similarity matrix.\n",
      "Computing the msd similarity matrix...\n",
      "Done computing similarity matrix.\n",
      "Computing the msd similarity matrix...\n",
      "Done computing similarity matrix.\n",
      "Computing the msd similarity matrix...\n",
      "Done computing similarity matrix.\n",
      "Computing the msd similarity matrix...\n",
      "Done computing similarity matrix.\n",
      "Computing the msd similarity matrix...\n",
      "Done computing similarity matrix.\n",
      "Computing the msd similarity matrix...\n",
      "Done computing similarity matrix.\n",
      "Computing the msd similarity matrix...\n",
      "Done computing similarity matrix.\n",
      "Computing the msd similarity matrix...\n",
      "Done computing similarity matrix.\n",
      "Computing the msd similarity matrix...\n",
      "Done computing similarity matrix.\n",
      "Computing the msd similarity matrix...\n",
      "Done computing similarity matrix.\n",
      "Computing the msd similarity matrix...\n",
      "Done computing similarity matrix.\n",
      "Computing the msd similarity matrix...\n",
      "Done computing similarity matrix.\n",
      "Computing the msd similarity matrix...\n",
      "Done computing similarity matrix.\n",
      "Computing the msd similarity matrix...\n",
      "Done computing similarity matrix.\n",
      "Computing the msd similarity matrix...\n",
      "Done computing similarity matrix.\n",
      "Computing the msd similarity matrix...\n",
      "Done computing similarity matrix.\n",
      "Computing the msd similarity matrix...\n",
      "Done computing similarity matrix.\n",
      "Computing the msd similarity matrix...\n",
      "Done computing similarity matrix.\n",
      "0.7433625466821054\n",
      "{'k': 20}\n"
     ]
    }
   ],
   "source": [
    "param_grid = {'k': [20, 30, 40, 50, 60, 70, 80]}\n",
    "\n",
    "gs = GridSearchCV(KNNWithZScore,\n",
    "                  param_grid,\n",
    "                  measures=['rmse', 'mae'],\n",
    "                  cv=5)\n",
    "\n",
    "gs.fit(data_surprise)\n",
    "\n",
    "# best RMSE score\n",
    "print(gs.best_score['rmse'])\n",
    "\n",
    "# combination of parameters that gave the best RMSE score\n",
    "print(gs.best_params['rmse'])"
   ]
  },
  {
   "cell_type": "code",
   "execution_count": null,
   "metadata": {
    "colab": {
     "base_uri": "https://localhost:8080/"
    },
    "id": "KtlUyZ0uUUmU",
    "outputId": "dbd57bee-c230-44cf-aecc-d50fec5aa5f5"
   },
   "outputs": [
    {
     "name": "stdout",
     "output_type": "stream",
     "text": [
      "Computing the msd similarity matrix...\n",
      "Done computing similarity matrix.\n",
      "RMSE: 0.7441\n"
     ]
    },
    {
     "data": {
      "text/plain": [
       "0.7441271782314157"
      ]
     },
     "execution_count": 31,
     "metadata": {},
     "output_type": "execute_result"
    }
   ],
   "source": [
    "knn_gs = gs.best_estimator['rmse']\n",
    "predictions = knn_gs.fit(trainset).test(testset)\n",
    "accuracy.rmse(predictions)"
   ]
  },
  {
   "cell_type": "code",
   "execution_count": null,
   "metadata": {
    "id": "G_CvFtaiqBfS"
   },
   "outputs": [],
   "source": [
    "del gs,\\\n",
    "    dict_model,\\\n",
    "    predictions\n",
    "gc.collect()"
   ]
  },
  {
   "cell_type": "markdown",
   "metadata": {
    "id": "nC_gs8GTqBfT"
   },
   "source": [
    "## 3) Content-based algorithms"
   ]
  },
  {
   "cell_type": "markdown",
   "metadata": {
    "id": "TzpW7-nnqBfT"
   },
   "source": [
    "https://medium.com/analytics-vidhya/content-based-recommender-systems-in-python-2b330e01eb80"
   ]
  },
  {
   "cell_type": "code",
   "execution_count": null,
   "metadata": {
    "id": "SAmnxgKFqBfT"
   },
   "outputs": [],
   "source": [
    "desc = books.copy()\n",
    "desc = desc[[\"Id\", \"Name\", \"Authors\", \"Description\"]]"
   ]
  },
  {
   "cell_type": "code",
   "execution_count": null,
   "metadata": {
    "id": "38ligZhkhmhD"
   },
   "outputs": [],
   "source": [
    "desc = desc.sample(frac=.3,\n",
    "                   random_state=42)"
   ]
  },
  {
   "cell_type": "code",
   "execution_count": null,
   "metadata": {
    "id": "q5X77X_TkZeI"
   },
   "outputs": [],
   "source": [
    "desc.reset_index(inplace=True)\n",
    "desc.drop(\"index\", axis=1, inplace=True)"
   ]
  },
  {
   "cell_type": "code",
   "execution_count": null,
   "metadata": {
    "colab": {
     "base_uri": "https://localhost:8080/"
    },
    "id": "eBnwCGm_qBfU",
    "outputId": "db32f9bf-f005-4307-d534-622b3f4136a8"
   },
   "outputs": [
    {
     "data": {
      "text/plain": [
       "(35874, 105600)"
      ]
     },
     "execution_count": 8,
     "metadata": {},
     "output_type": "execute_result"
    }
   ],
   "source": [
    "tfidf = TfidfVectorizer(stop_words='english')\n",
    "desc['Description'] = desc['Description'].fillna(\"\")\n",
    "\n",
    "descr_matrix = tfidf.fit_transform(desc['Description'])\n",
    "descr_matrix.shape"
   ]
  },
  {
   "cell_type": "code",
   "execution_count": null,
   "metadata": {
    "id": "RuImF-iVqBfU"
   },
   "outputs": [],
   "source": [
    "similarity_matrix = linear_kernel(descr_matrix, descr_matrix)"
   ]
  },
  {
   "cell_type": "code",
   "execution_count": null,
   "metadata": {
    "colab": {
     "base_uri": "https://localhost:8080/"
    },
    "id": "elm-9tf-qBfV",
    "outputId": "64dc15a7-6d9e-48a7-a234-edb3a525e154"
   },
   "outputs": [
    {
     "name": "stdout",
     "output_type": "stream",
     "text": [
      "Name\n",
      "On the Other Side of Mount Ararat: A Story of a Vanished City        0\n",
      "The Tall Uncut: Stories                                              1\n",
      "Heart Essence of the Vast Expanse: A Story of Transmission           2\n",
      "Don't Look a Ghost Horse in the Mouth                                3\n",
      "Turpentine                                                           4\n",
      "                                                                 ...  \n",
      "Junie B. Jones Is Not a Crook (Junie B. Jones, #9)               35869\n",
      "The Rabbits' Wedding                                             35870\n",
      "Calling the Shots (Angels Unlimited, #4)                         35871\n",
      "Crimson: Loyalty and Loss - Tome 1 (Crimson, #1)                 35872\n",
      "The Letterboxer's Companion                                      35873\n",
      "Length: 35874, dtype: int64\n"
     ]
    }
   ],
   "source": [
    "mapping = pd.Series(desc.index,\n",
    "          index = desc['Name'])\n",
    "print(mapping)"
   ]
  },
  {
   "cell_type": "code",
   "execution_count": null,
   "metadata": {
    "id": "Px88oZ6mqBfV"
   },
   "outputs": [],
   "source": [
    "def recommend_books_based_on_linear_kernel(book_input):\n",
    "    book_index = mapping[book_input]\n",
    "    #get similarity values with other books\n",
    "    #similarity_score is the list of index and similarity matrix\n",
    "    similarity_score = list(enumerate(similarity_matrix[book_index]))\n",
    "    #sort in descending order the similarity score of movie inputted with all the other books\n",
    "    similarity_score = sorted(similarity_score, key=lambda x: x[1], reverse=True)\n",
    "    \n",
    "    # Get the scores of the 20 most similar books. Ignore the first book.\n",
    "    similarity_score = similarity_score[1:20]\n",
    "    \n",
    "    #return book names using the mapping series\n",
    "    book_indices = [i[0] for i in similarity_score]\n",
    "    return (desc['Name'].iloc[book_indices])"
   ]
  },
  {
   "cell_type": "code",
   "execution_count": null,
   "metadata": {
    "colab": {
     "base_uri": "https://localhost:8080/"
    },
    "id": "rV5yvgU5kOn0",
    "outputId": "fb4a0f99-0f3d-476a-f223-e0e51b895ff0"
   },
   "outputs": [
    {
     "data": {
      "text/plain": [
       "3230                                  Black Cat, Volume 11\n",
       "15651    Glimpses of Maine's Angling Past (Images of Am...\n",
       "18878                        Oh, the Thinks You Can Think!\n",
       "29986                                   Flags of the World\n",
       "14474                           Go to the Room of the Eyes\n",
       "663      Boston and the American Revolution: Boston Nat...\n",
       "9972                                                   Ash\n",
       "10932               True Blue (Sweet Valley Jr. High, #18)\n",
       "8047     African American Life in the Rural South, 1900...\n",
       "18362                                            Bold Wolf\n",
       "24630                                       Cats from Away\n",
       "25142                                        Isis Unveiled\n",
       "7174                                       White House Q&A\n",
       "34346                                  Night Winds Calling\n",
       "30806            Among Other Things, I've Taken Up Smoking\n",
       "31803    Changing Family Values: Difference, Diversity ...\n",
       "29656                   The Funeral Makers (Mattagash, #1)\n",
       "17721                                        The Long Life\n",
       "8842     The Horizontal World: Growing Up Wild in the M...\n",
       "Name: Name, dtype: object"
      ]
     },
     "execution_count": 19,
     "metadata": {},
     "output_type": "execute_result"
    }
   ],
   "source": [
    "recommend_books_based_on_linear_kernel('Pet Sematary')"
   ]
  }
 ],
 "metadata": {
  "colab": {
   "collapsed_sections": [],
   "machine_shape": "hm",
   "name": "P7_02_notebookmodelisation.ipynb",
   "provenance": []
  },
  "interpreter": {
   "hash": "ee493cea8a9059eddf8f922ba27d7b6585c0a98c31cf1c0366dab9037c7fbdac"
  },
  "kernelspec": {
   "display_name": "Python 3",
   "language": "python",
   "name": "python3"
  },
  "language_info": {
   "codemirror_mode": {
    "name": "ipython",
    "version": 3
   },
   "file_extension": ".py",
   "mimetype": "text/x-python",
   "name": "python",
   "nbconvert_exporter": "python",
   "pygments_lexer": "ipython3",
   "version": "3.9.7"
  }
 },
 "nbformat": 4,
 "nbformat_minor": 1
}
