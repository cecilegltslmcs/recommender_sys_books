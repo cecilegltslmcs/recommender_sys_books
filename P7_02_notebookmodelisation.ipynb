{
  "cells": [
    {
      "cell_type": "markdown",
      "metadata": {
        "id": "Lsv5IJAqqBe0"
      },
      "source": [
        "# Recommender system for books: Modelisation"
      ]
    },
    {
      "cell_type": "code",
      "execution_count": 1,
      "metadata": {
        "id": "kVxVO53SqBe4"
      },
      "outputs": [],
      "source": [
        "# Data manipulation\n",
        "import pandas as pd \n",
        "import numpy as np \n",
        "import gc\n",
        "\n",
        "# Graphical libraries\n",
        "import matplotlib.pyplot as plt\n",
        "import seaborn as sns\n",
        "\n",
        "# Modelisation libraries\n",
        "from surprise import BaselineOnly, SVD, NMF, KNNBasic, KNNWithMeans, KNNWithZScore\n",
        "from surprise import accuracy\n",
        "from surprise.model_selection import train_test_split, GridSearchCV\n",
        "from surprise import Dataset\n",
        "from surprise import Reader\n",
        "\n",
        "from sklearn.metrics.pairwise import cosine_similarity, linear_kernel\n",
        "from sklearn.metrics import mean_squared_error\n",
        "from sklearn.feature_extraction.text import TfidfVectorizer\n",
        "\n",
        "# GHG Emissions\n",
        "from codecarbon import EmissionsTracker"
      ]
    },
    {
      "cell_type": "code",
      "execution_count": 2,
      "metadata": {
        "id": "ketvHS6eq03T"
      },
      "outputs": [],
      "source": [
        "path = 'Datasets/'"
      ]
    },
    {
      "cell_type": "code",
      "execution_count": 3,
      "metadata": {
        "id": "sugB78puqBe7"
      },
      "outputs": [],
      "source": [
        "# Importing data about users and books \n",
        "users = pd.read_parquet(path+\"users_data_cleaning.parquet.gzip\")\n",
        "books = pd.read_parquet(path+\"books_data_cleaning.parquet.gzip\")"
      ]
    },
    {
      "cell_type": "code",
      "execution_count": 4,
      "metadata": {
        "id": "CHPwrMphvJF4"
      },
      "outputs": [],
      "source": [
        "books.rename(columns={\"Rating\" : \"Average_Rating\"},\n",
        "             inplace=True)"
      ]
    },
    {
      "cell_type": "markdown",
      "metadata": {
        "id": "4X_yt-SiqBe8"
      },
      "source": [
        "It exists different kinds of recommender engines. In this proof of concept, simple recommender, user based collaborative filtering, content-based recommender and hybrid methods will be testing to find the best recommender engines. "
      ]
    },
    {
      "cell_type": "markdown",
      "metadata": {
        "id": "XC0Z-AnjqBe-"
      },
      "source": [
        "## 1) Popularity based"
      ]
    },
    {
      "cell_type": "markdown",
      "metadata": {
        "id": "mFczN4BvqBe_"
      },
      "source": [
        "Simple recommender is the most basic recommender engines. It based on popularity. To calcule it, rating and number of reviews are used. The formula used is detailled in Bhowmick et al. (2021)."
      ]
    },
    {
      "cell_type": "code",
      "execution_count": 5,
      "metadata": {
        "colab": {
          "base_uri": "https://localhost:8080/",
          "height": 206
        },
        "id": "hSYcwxP1qBfA",
        "outputId": "5a85a497-e820-4f4b-bdca-ad595e630f1b"
      },
      "outputs": [
        {
          "data": {
            "text/html": [
              "<div>\n",
              "<style scoped>\n",
              "    .dataframe tbody tr th:only-of-type {\n",
              "        vertical-align: middle;\n",
              "    }\n",
              "\n",
              "    .dataframe tbody tr th {\n",
              "        vertical-align: top;\n",
              "    }\n",
              "\n",
              "    .dataframe thead th {\n",
              "        text-align: right;\n",
              "    }\n",
              "</style>\n",
              "<table border=\"1\" class=\"dataframe\">\n",
              "  <thead>\n",
              "    <tr style=\"text-align: right;\">\n",
              "      <th></th>\n",
              "      <th>Id</th>\n",
              "      <th>Name</th>\n",
              "      <th>Authors</th>\n",
              "      <th>Average_Rating</th>\n",
              "      <th>CountsOfReview</th>\n",
              "    </tr>\n",
              "  </thead>\n",
              "  <tbody>\n",
              "    <tr>\n",
              "      <th>0</th>\n",
              "      <td>4000063</td>\n",
              "      <td>The Flintstones in Viva Rock Vegas</td>\n",
              "      <td>Ellen Miles</td>\n",
              "      <td>3.82</td>\n",
              "      <td>1</td>\n",
              "    </tr>\n",
              "    <tr>\n",
              "      <th>1</th>\n",
              "      <td>4000100</td>\n",
              "      <td>Little Rhody</td>\n",
              "      <td>Neta Lohnes Frazier</td>\n",
              "      <td>4.33</td>\n",
              "      <td>1</td>\n",
              "    </tr>\n",
              "    <tr>\n",
              "      <th>2</th>\n",
              "      <td>4000228</td>\n",
              "      <td>Finance And Investments Using The Wall Street ...</td>\n",
              "      <td>Peter R. Crabb</td>\n",
              "      <td>0.00</td>\n",
              "      <td>0</td>\n",
              "    </tr>\n",
              "    <tr>\n",
              "      <th>3</th>\n",
              "      <td>4000366</td>\n",
              "      <td>Shorty McCabe Looks 'Em Over</td>\n",
              "      <td>Sewell Ford</td>\n",
              "      <td>0.00</td>\n",
              "      <td>0</td>\n",
              "    </tr>\n",
              "    <tr>\n",
              "      <th>4</th>\n",
              "      <td>4000441</td>\n",
              "      <td>Plant Pathology</td>\n",
              "      <td>George N. Agrios</td>\n",
              "      <td>4.52</td>\n",
              "      <td>0</td>\n",
              "    </tr>\n",
              "  </tbody>\n",
              "</table>\n",
              "</div>"
            ],
            "text/plain": [
              "        Id                                               Name  \\\n",
              "0  4000063                 The Flintstones in Viva Rock Vegas   \n",
              "1  4000100                                       Little Rhody   \n",
              "2  4000228  Finance And Investments Using The Wall Street ...   \n",
              "3  4000366                       Shorty McCabe Looks 'Em Over   \n",
              "4  4000441                                    Plant Pathology   \n",
              "\n",
              "               Authors  Average_Rating  CountsOfReview  \n",
              "0          Ellen Miles            3.82               1  \n",
              "1  Neta Lohnes Frazier            4.33               1  \n",
              "2       Peter R. Crabb            0.00               0  \n",
              "3          Sewell Ford            0.00               0  \n",
              "4     George N. Agrios            4.52               0  "
            ]
          },
          "execution_count": 5,
          "metadata": {},
          "output_type": "execute_result"
        }
      ],
      "source": [
        "# creating a new dataset for the calculus\n",
        "simple_reco = books.copy()\n",
        "simple_reco = simple_reco[[\"Id\", \"Name\", \"Authors\",\n",
        "                           \"Average_Rating\", \"CountsOfReview\"]]\n",
        "simple_reco.head()"
      ]
    },
    {
      "cell_type": "code",
      "execution_count": 6,
      "metadata": {
        "colab": {
          "base_uri": "https://localhost:8080/"
        },
        "id": "8tth_VhfqBfB",
        "outputId": "ee90def3-e4da-46aa-dbab-2a160238dba0"
      },
      "outputs": [
        {
          "name": "stdout",
          "output_type": "stream",
          "text": [
            "3.7320950652695215\n"
          ]
        }
      ],
      "source": [
        "# calculating the average rating\n",
        "C = simple_reco['Average_Rating'].mean()\n",
        "print(C)"
      ]
    },
    {
      "cell_type": "code",
      "execution_count": 7,
      "metadata": {
        "colab": {
          "base_uri": "https://localhost:8080/"
        },
        "id": "hxsTtTd-qBfB",
        "outputId": "964c5b0e-db86-491b-98ed-17f29bb34518"
      },
      "outputs": [
        {
          "name": "stdout",
          "output_type": "stream",
          "text": [
            "41.0\n"
          ]
        }
      ],
      "source": [
        "# calculating and keeping\n",
        "# books with the 90th percentile\n",
        "m = simple_reco['CountsOfReview'].quantile(0.90)\n",
        "print(m)"
      ]
    },
    {
      "cell_type": "code",
      "execution_count": 8,
      "metadata": {
        "colab": {
          "base_uri": "https://localhost:8080/"
        },
        "id": "UkbxqfeqqBfE",
        "outputId": "767b2fba-173f-4b12-e91b-61ae4a9e834f"
      },
      "outputs": [
        {
          "data": {
            "text/plain": [
              "(12116, 5)"
            ]
          },
          "execution_count": 8,
          "metadata": {},
          "output_type": "execute_result"
        }
      ],
      "source": [
        "# selecting only books with at least 41 reviews\n",
        "q_books = simple_reco.copy().loc[simple_reco['CountsOfReview'] >= m]\n",
        "q_books.shape"
      ]
    },
    {
      "cell_type": "code",
      "execution_count": 9,
      "metadata": {
        "id": "RBGp_JGIqBfE"
      },
      "outputs": [],
      "source": [
        "def weighted_rating(x, m=m, C=C):\n",
        "    v = x['CountsOfReview']\n",
        "    R = x['Average_Rating']\n",
        "    return (v/(v+m) * R) + (m/(m+v) * C)"
      ]
    },
    {
      "cell_type": "code",
      "execution_count": 10,
      "metadata": {
        "id": "iB1bz_TvqBfG"
      },
      "outputs": [],
      "source": [
        "q_books['score'] = q_books.apply(weighted_rating, axis=1)"
      ]
    },
    {
      "cell_type": "code",
      "execution_count": 11,
      "metadata": {
        "colab": {
          "base_uri": "https://localhost:8080/",
          "height": 677
        },
        "id": "9xPk-ZP4qBfG",
        "outputId": "b1263955-0b3f-4509-d0f1-5da058a1061a"
      },
      "outputs": [
        {
          "data": {
            "text/html": [
              "<div>\n",
              "<style scoped>\n",
              "    .dataframe tbody tr th:only-of-type {\n",
              "        vertical-align: middle;\n",
              "    }\n",
              "\n",
              "    .dataframe tbody tr th {\n",
              "        vertical-align: top;\n",
              "    }\n",
              "\n",
              "    .dataframe thead th {\n",
              "        text-align: right;\n",
              "    }\n",
              "</style>\n",
              "<table border=\"1\" class=\"dataframe\">\n",
              "  <thead>\n",
              "    <tr style=\"text-align: right;\">\n",
              "      <th></th>\n",
              "      <th>Id</th>\n",
              "      <th>Name</th>\n",
              "      <th>Authors</th>\n",
              "      <th>CountsOfReview</th>\n",
              "      <th>Average_Rating</th>\n",
              "      <th>score</th>\n",
              "    </tr>\n",
              "  </thead>\n",
              "  <tbody>\n",
              "    <tr>\n",
              "      <th>44289</th>\n",
              "      <td>862041</td>\n",
              "      <td>Harry Potter Series Box Set (Harry Potter, #1-7)</td>\n",
              "      <td>J.K. Rowling</td>\n",
              "      <td>6522</td>\n",
              "      <td>4.74</td>\n",
              "      <td>4.733703</td>\n",
              "    </tr>\n",
              "    <tr>\n",
              "      <th>40413</th>\n",
              "      <td>818056</td>\n",
              "      <td>Harry Potter and the Deathly Hallows (Harry Po...</td>\n",
              "      <td>J.K. Rowling</td>\n",
              "      <td>952</td>\n",
              "      <td>4.62</td>\n",
              "      <td>4.583339</td>\n",
              "    </tr>\n",
              "    <tr>\n",
              "      <th>115327</th>\n",
              "      <td>1215032</td>\n",
              "      <td>The Wise Man's Fear (The Kingkiller Chronicle,...</td>\n",
              "      <td>Patrick Rothfuss</td>\n",
              "      <td>16523</td>\n",
              "      <td>4.57</td>\n",
              "      <td>4.567926</td>\n",
              "    </tr>\n",
              "    <tr>\n",
              "      <th>61446</th>\n",
              "      <td>3165162</td>\n",
              "      <td>Percy Jackson and the Olympians (Percy Jackson...</td>\n",
              "      <td>Rick Riordan</td>\n",
              "      <td>546</td>\n",
              "      <td>4.59</td>\n",
              "      <td>4.530078</td>\n",
              "    </tr>\n",
              "    <tr>\n",
              "      <th>72565</th>\n",
              "      <td>1025685</td>\n",
              "      <td>The Absolute Sandman, Volume Two</td>\n",
              "      <td>Neil Gaiman</td>\n",
              "      <td>198</td>\n",
              "      <td>4.69</td>\n",
              "      <td>4.525673</td>\n",
              "    </tr>\n",
              "    <tr>\n",
              "      <th>91715</th>\n",
              "      <td>2495562</td>\n",
              "      <td>The Wise Man's Fear  (The Kingkiller Chronicle...</td>\n",
              "      <td>Patrick Rothfuss</td>\n",
              "      <td>488</td>\n",
              "      <td>4.56</td>\n",
              "      <td>4.495833</td>\n",
              "    </tr>\n",
              "    <tr>\n",
              "      <th>82953</th>\n",
              "      <td>2186848</td>\n",
              "      <td>The Absolute Sandman, Volume Three</td>\n",
              "      <td>Neil Gaiman</td>\n",
              "      <td>140</td>\n",
              "      <td>4.71</td>\n",
              "      <td>4.488486</td>\n",
              "    </tr>\n",
              "    <tr>\n",
              "      <th>98149</th>\n",
              "      <td>2767793</td>\n",
              "      <td>The Hero of Ages (Mistborn, #3)</td>\n",
              "      <td>Brandon Sanderson</td>\n",
              "      <td>10101</td>\n",
              "      <td>4.49</td>\n",
              "      <td>4.486936</td>\n",
              "    </tr>\n",
              "    <tr>\n",
              "      <th>30441</th>\n",
              "      <td>1179967</td>\n",
              "      <td>A Storm of Swords (A Song of Ice and Fire, #3)</td>\n",
              "      <td>George R.R. Martin</td>\n",
              "      <td>583</td>\n",
              "      <td>4.54</td>\n",
              "      <td>4.486917</td>\n",
              "    </tr>\n",
              "    <tr>\n",
              "      <th>66035</th>\n",
              "      <td>3362870</td>\n",
              "      <td>The Hero of Ages (Mistborn, #3)</td>\n",
              "      <td>Brandon Sanderson</td>\n",
              "      <td>1289</td>\n",
              "      <td>4.49</td>\n",
              "      <td>4.466636</td>\n",
              "    </tr>\n",
              "    <tr>\n",
              "      <th>66298</th>\n",
              "      <td>3375878</td>\n",
              "      <td>The Absolute Sandman, Volume Four</td>\n",
              "      <td>Neil Gaiman</td>\n",
              "      <td>134</td>\n",
              "      <td>4.69</td>\n",
              "      <td>4.465577</td>\n",
              "    </tr>\n",
              "    <tr>\n",
              "      <th>42591</th>\n",
              "      <td>840699</td>\n",
              "      <td>Harry Potter and the Half-Blood Prince (Harry ...</td>\n",
              "      <td>J.K. Rowling</td>\n",
              "      <td>283</td>\n",
              "      <td>4.57</td>\n",
              "      <td>4.463969</td>\n",
              "    </tr>\n",
              "    <tr>\n",
              "      <th>23843</th>\n",
              "      <td>768889</td>\n",
              "      <td>A Storm of Swords: Steel and Snow (A Song of I...</td>\n",
              "      <td>George R.R. Martin</td>\n",
              "      <td>1303</td>\n",
              "      <td>4.48</td>\n",
              "      <td>4.457184</td>\n",
              "    </tr>\n",
              "    <tr>\n",
              "      <th>45355</th>\n",
              "      <td>875441</td>\n",
              "      <td>Someone Knows My Name</td>\n",
              "      <td>Lawrence Hill</td>\n",
              "      <td>3019</td>\n",
              "      <td>4.46</td>\n",
              "      <td>4.450247</td>\n",
              "    </tr>\n",
              "    <tr>\n",
              "      <th>79723</th>\n",
              "      <td>2088385</td>\n",
              "      <td>The Book of Negroes</td>\n",
              "      <td>Lawrence Hill</td>\n",
              "      <td>1152</td>\n",
              "      <td>4.47</td>\n",
              "      <td>4.444640</td>\n",
              "    </tr>\n",
              "    <tr>\n",
              "      <th>33384</th>\n",
              "      <td>620121</td>\n",
              "      <td>Harry Potter and the Prisoner of Azkaban (Harr...</td>\n",
              "      <td>J.K. Rowling</td>\n",
              "      <td>233</td>\n",
              "      <td>4.57</td>\n",
              "      <td>4.444620</td>\n",
              "    </tr>\n",
              "    <tr>\n",
              "      <th>36160</th>\n",
              "      <td>659469</td>\n",
              "      <td>The Hobbit: Graphic Novel</td>\n",
              "      <td>Chuck Dixon</td>\n",
              "      <td>793</td>\n",
              "      <td>4.48</td>\n",
              "      <td>4.443232</td>\n",
              "    </tr>\n",
              "    <tr>\n",
              "      <th>99576</th>\n",
              "      <td>2832909</td>\n",
              "      <td>An Echo in the Bone (Outlander, #7)</td>\n",
              "      <td>Diana Gabaldon</td>\n",
              "      <td>4442</td>\n",
              "      <td>4.44</td>\n",
              "      <td>4.433526</td>\n",
              "    </tr>\n",
              "    <tr>\n",
              "      <th>19797</th>\n",
              "      <td>708921</td>\n",
              "      <td>Stand a Little Taller</td>\n",
              "      <td>Gordon B. Hinckley</td>\n",
              "      <td>141</td>\n",
              "      <td>4.63</td>\n",
              "      <td>4.427725</td>\n",
              "    </tr>\n",
              "    <tr>\n",
              "      <th>18320</th>\n",
              "      <td>1670602</td>\n",
              "      <td>Those Shoes</td>\n",
              "      <td>Maribeth Boelts</td>\n",
              "      <td>667</td>\n",
              "      <td>4.47</td>\n",
              "      <td>4.427268</td>\n",
              "    </tr>\n",
              "  </tbody>\n",
              "</table>\n",
              "</div>"
            ],
            "text/plain": [
              "             Id                                               Name  \\\n",
              "44289    862041   Harry Potter Series Box Set (Harry Potter, #1-7)   \n",
              "40413    818056  Harry Potter and the Deathly Hallows (Harry Po...   \n",
              "115327  1215032  The Wise Man's Fear (The Kingkiller Chronicle,...   \n",
              "61446   3165162  Percy Jackson and the Olympians (Percy Jackson...   \n",
              "72565   1025685                   The Absolute Sandman, Volume Two   \n",
              "91715   2495562  The Wise Man's Fear  (The Kingkiller Chronicle...   \n",
              "82953   2186848                 The Absolute Sandman, Volume Three   \n",
              "98149   2767793                    The Hero of Ages (Mistborn, #3)   \n",
              "30441   1179967     A Storm of Swords (A Song of Ice and Fire, #3)   \n",
              "66035   3362870                    The Hero of Ages (Mistborn, #3)   \n",
              "66298   3375878                  The Absolute Sandman, Volume Four   \n",
              "42591    840699  Harry Potter and the Half-Blood Prince (Harry ...   \n",
              "23843    768889  A Storm of Swords: Steel and Snow (A Song of I...   \n",
              "45355    875441                              Someone Knows My Name   \n",
              "79723   2088385                                The Book of Negroes   \n",
              "33384    620121  Harry Potter and the Prisoner of Azkaban (Harr...   \n",
              "36160    659469                          The Hobbit: Graphic Novel   \n",
              "99576   2832909                An Echo in the Bone (Outlander, #7)   \n",
              "19797    708921                              Stand a Little Taller   \n",
              "18320   1670602                                        Those Shoes   \n",
              "\n",
              "                   Authors  CountsOfReview  Average_Rating     score  \n",
              "44289         J.K. Rowling            6522            4.74  4.733703  \n",
              "40413         J.K. Rowling             952            4.62  4.583339  \n",
              "115327    Patrick Rothfuss           16523            4.57  4.567926  \n",
              "61446         Rick Riordan             546            4.59  4.530078  \n",
              "72565          Neil Gaiman             198            4.69  4.525673  \n",
              "91715     Patrick Rothfuss             488            4.56  4.495833  \n",
              "82953          Neil Gaiman             140            4.71  4.488486  \n",
              "98149    Brandon Sanderson           10101            4.49  4.486936  \n",
              "30441   George R.R. Martin             583            4.54  4.486917  \n",
              "66035    Brandon Sanderson            1289            4.49  4.466636  \n",
              "66298          Neil Gaiman             134            4.69  4.465577  \n",
              "42591         J.K. Rowling             283            4.57  4.463969  \n",
              "23843   George R.R. Martin            1303            4.48  4.457184  \n",
              "45355        Lawrence Hill            3019            4.46  4.450247  \n",
              "79723        Lawrence Hill            1152            4.47  4.444640  \n",
              "33384         J.K. Rowling             233            4.57  4.444620  \n",
              "36160          Chuck Dixon             793            4.48  4.443232  \n",
              "99576       Diana Gabaldon            4442            4.44  4.433526  \n",
              "19797   Gordon B. Hinckley             141            4.63  4.427725  \n",
              "18320      Maribeth Boelts             667            4.47  4.427268  "
            ]
          },
          "execution_count": 11,
          "metadata": {},
          "output_type": "execute_result"
        }
      ],
      "source": [
        "#Sort movies based on score calculated above\n",
        "q_books = q_books.sort_values('score',\n",
        "                              ascending=False)\n",
        "\n",
        "#Print the top 15 books\n",
        "q_books[[\"Id\",\n",
        "         \"Name\",\n",
        "         \"Authors\",\n",
        "         \"CountsOfReview\", \n",
        "         \"Average_Rating\", \n",
        "         \"score\"]].head(20)"
      ]
    },
    {
      "cell_type": "code",
      "execution_count": 12,
      "metadata": {
        "colab": {
          "base_uri": "https://localhost:8080/"
        },
        "id": "7k9-KTF0qBfG",
        "outputId": "860e2273-b10f-4b40-a793-0e27f91da859"
      },
      "outputs": [
        {
          "name": "stdout",
          "output_type": "stream",
          "text": [
            "0.108\n"
          ]
        }
      ],
      "source": [
        "print(round(np.sqrt(mean_squared_error(q_books['Average_Rating'],\n",
        "                                 q_books[\"score\"])), 3))"
      ]
    },
    {
      "cell_type": "code",
      "execution_count": 13,
      "metadata": {
        "colab": {
          "base_uri": "https://localhost:8080/"
        },
        "id": "aItBnsoLqBfH",
        "outputId": "b750ab5f-273a-49ff-b281-b48aa276cf9a"
      },
      "outputs": [
        {
          "data": {
            "text/plain": [
              "0"
            ]
          },
          "execution_count": 13,
          "metadata": {},
          "output_type": "execute_result"
        }
      ],
      "source": [
        "del q_books, simple_reco\n",
        "gc.collect()"
      ]
    },
    {
      "cell_type": "markdown",
      "metadata": {
        "id": "yk_PbykTtu_m"
      },
      "source": [
        "This method had disadvantage to make recommendation based on the most popular books. Books with few ratings have less change to be recommend. "
      ]
    },
    {
      "cell_type": "markdown",
      "metadata": {
        "id": "uly3P2IZqBfI"
      },
      "source": [
        "## 2) User-based collaborative filtering"
      ]
    },
    {
      "cell_type": "markdown",
      "metadata": {
        "id": "mm6iypscqBfI"
      },
      "source": [
        "### a) Preparing the data for Surprise library"
      ]
    },
    {
      "cell_type": "code",
      "execution_count": 14,
      "metadata": {
        "id": "zCNiEN1RzhwQ"
      },
      "outputs": [],
      "source": [
        "data = pd.merge(users, books, on = \"Id\")\n",
        "data.rename(columns={\"Name\" : \"Title\",\n",
        "                     \"Id\" : \"Book_Id\"}, \n",
        "                     inplace=True)"
      ]
    },
    {
      "cell_type": "code",
      "execution_count": 15,
      "metadata": {
        "id": "6jgwl0oDqBfK"
      },
      "outputs": [],
      "source": [
        "reader = Reader(rating_scale=(1, 5))\n",
        "data_surprise = Dataset.load_from_df(data[['User_Id', 'Book_Id', 'Rating']], reader)"
      ]
    },
    {
      "cell_type": "code",
      "execution_count": 16,
      "metadata": {
        "id": "T3amPSIQqBfK"
      },
      "outputs": [],
      "source": [
        "trainset, testset = train_test_split(data_surprise, test_size=.2)"
      ]
    },
    {
      "cell_type": "code",
      "execution_count": 17,
      "metadata": {
        "colab": {
          "base_uri": "https://localhost:8080/"
        },
        "id": "JM11pGfsqBfK",
        "outputId": "92a50684-b33b-4e4d-8736-d9fd0dd78657"
      },
      "outputs": [
        {
          "name": "stdout",
          "output_type": "stream",
          "text": [
            "Estimating biases using als...\n"
          ]
        }
      ],
      "source": [
        "bsl_options = {'method': 'als',\n",
        "               'n_epochs': 5,\n",
        "               'reg_u': 12,\n",
        "               'reg_i': 5\n",
        "               }\n",
        "base_als = BaselineOnly(bsl_options=bsl_options)\n",
        "predictions = base_als.fit(trainset).test(testset)"
      ]
    },
    {
      "cell_type": "code",
      "execution_count": 18,
      "metadata": {
        "colab": {
          "base_uri": "https://localhost:8080/"
        },
        "id": "FsvEb87BqBfK",
        "outputId": "c5891632-7f87-4128-9489-661762aef31c"
      },
      "outputs": [
        {
          "data": {
            "text/plain": [
              "0"
            ]
          },
          "execution_count": 18,
          "metadata": {},
          "output_type": "execute_result"
        }
      ],
      "source": [
        "del predictions\n",
        "gc.collect()"
      ]
    },
    {
      "cell_type": "code",
      "execution_count": 19,
      "metadata": {
        "colab": {
          "base_uri": "https://localhost:8080/"
        },
        "id": "LLaI_5zNqBfL",
        "outputId": "8a14f1f9-d655-4a90-b021-0e7d05ae058b"
      },
      "outputs": [
        {
          "name": "stdout",
          "output_type": "stream",
          "text": [
            "Estimating biases using sgd...\n"
          ]
        }
      ],
      "source": [
        "bsl_options = {'method': 'sgd',\n",
        "               'learning_rate': .00005,\n",
        "               }\n",
        "base_sgd = BaselineOnly(bsl_options=bsl_options)\n",
        "predictions = base_sgd.fit(trainset).test(testset)"
      ]
    },
    {
      "cell_type": "code",
      "execution_count": 20,
      "metadata": {
        "colab": {
          "base_uri": "https://localhost:8080/"
        },
        "id": "YE-oT40RqBfL",
        "outputId": "a205967d-ccce-4c2b-a87b-52fff68fba5f"
      },
      "outputs": [
        {
          "data": {
            "text/plain": [
              "0"
            ]
          },
          "execution_count": 20,
          "metadata": {},
          "output_type": "execute_result"
        }
      ],
      "source": [
        "del predictions\n",
        "gc.collect()"
      ]
    },
    {
      "cell_type": "markdown",
      "metadata": {
        "id": "aXnjq0_EqBfM"
      },
      "source": [
        "### b) Matrix Factorization based algorithms"
      ]
    },
    {
      "cell_type": "code",
      "execution_count": 21,
      "metadata": {
        "id": "qfKyaVhVqBfN"
      },
      "outputs": [],
      "source": [
        "svd = SVD()\n",
        "nmf = NMF()"
      ]
    },
    {
      "cell_type": "code",
      "execution_count": 22,
      "metadata": {
        "colab": {
          "base_uri": "https://localhost:8080/",
          "height": 400
        },
        "id": "H9rsgC8CqBfP",
        "outputId": "bf51e5a7-f429-4739-a793-6f6fdcf704f9"
      },
      "outputs": [
        {
          "name": "stdout",
          "output_type": "stream",
          "text": [
            "RMSE: 0.7622\n",
            "RMSE: 0.8725\n"
          ]
        },
        {
          "data": {
            "text/html": [
              "<div>\n",
              "<style scoped>\n",
              "    .dataframe tbody tr th:only-of-type {\n",
              "        vertical-align: middle;\n",
              "    }\n",
              "\n",
              "    .dataframe tbody tr th {\n",
              "        vertical-align: top;\n",
              "    }\n",
              "\n",
              "    .dataframe thead th {\n",
              "        text-align: right;\n",
              "    }\n",
              "</style>\n",
              "<table border=\"1\" class=\"dataframe\">\n",
              "  <thead>\n",
              "    <tr style=\"text-align: right;\">\n",
              "      <th></th>\n",
              "      <th>SVD</th>\n",
              "      <th>NMF</th>\n",
              "    </tr>\n",
              "  </thead>\n",
              "  <tbody>\n",
              "    <tr>\n",
              "      <th>RMSE</th>\n",
              "      <td>0.762</td>\n",
              "      <td>0.872</td>\n",
              "    </tr>\n",
              "  </tbody>\n",
              "</table>\n",
              "</div>"
            ],
            "text/plain": [
              "        SVD    NMF\n",
              "RMSE  0.762  0.872"
            ]
          },
          "execution_count": 22,
          "metadata": {},
          "output_type": "execute_result"
        }
      ],
      "source": [
        "model = [svd, nmf]\n",
        "dict_model = {}\n",
        "\n",
        "for model in model:\n",
        "  y_pred = model.fit(trainset).test(testset)\n",
        "  rmse = accuracy.rmse(y_pred)\n",
        "  dict_model[model] = (rmse.round(3))\n",
        "\n",
        "eval_model = pd.DataFrame(dict_model, index=[\"RMSE\"])\n",
        "eval_model.columns = [\"SVD\", \"NMF\"]\n",
        "\n",
        "eval_model"
      ]
    },
    {
      "cell_type": "code",
      "execution_count": null,
      "metadata": {
        "id": "40BCSdP_qBfP"
      },
      "outputs": [],
      "source": [
        "param_grid = {'n_factors': [50, 75, 100, 125],\n",
        "              'n_epochs': [5, 10, 15, 20, 25], \n",
        "              'lr_all': [0.001, 0.002, 0.005, 0.1],\n",
        "              'reg_all': [0.1, 0.2, 0.4, 0.6],\n",
        "              'random_state' : [42]\n",
        "}\n",
        "\n",
        "gs = GridSearchCV(SVD,\n",
        "                  param_grid,\n",
        "                  measures=['rmse', 'mae'],\n",
        "                  cv=5)\n",
        "\n",
        "gs.fit(data_surprise)\n",
        "\n",
        "# best RMSE score\n",
        "print(gs.best_score['rmse'])\n",
        "\n",
        "# combination of parameters that gave the best RMSE score\n",
        "print(gs.best_params['rmse'])"
      ]
    },
    {
      "cell_type": "code",
      "execution_count": null,
      "metadata": {
        "id": "FFv-bMYIqBfP"
      },
      "outputs": [],
      "source": [
        "tracker = EmissionsTracker()\n",
        "svd_gs = gs.best_estimator['rmse']\n",
        "\n",
        "tracker.start()\n",
        "predictions = svd_gs.fit(trainset).test(testset)\n",
        "emissions = tracker.stop()\n",
        "\n",
        "accuracy.rmse(predictions)\n",
        "print(\"GHG emission:\", emissions)"
      ]
    },
    {
      "cell_type": "code",
      "execution_count": null,
      "metadata": {
        "id": "dOvALK8gqBfP"
      },
      "outputs": [],
      "source": [
        "del predictions,\\\n",
        "    gs,\\\n",
        "    dict_model,\\\n",
        "    emissions,\\\n",
        "    tracker\n",
        "gc.collect()"
      ]
    },
    {
      "cell_type": "markdown",
      "metadata": {
        "id": "q1xihbNWqBfQ"
      },
      "source": [
        "### c) K-NN based models"
      ]
    },
    {
      "cell_type": "code",
      "execution_count": 23,
      "metadata": {
        "id": "sGmwP4H1qBfQ"
      },
      "outputs": [],
      "source": [
        "# Initializing similarities options\n",
        "sim_options = {'name': 'cosine',\n",
        "               'user_based': True\n",
        "               }"
      ]
    },
    {
      "cell_type": "code",
      "execution_count": 24,
      "metadata": {
        "id": "jCoBJs16qBfR"
      },
      "outputs": [],
      "source": [
        "knnbasic = KNNBasic()\n",
        "knnmeans = KNNWithMeans()\n",
        "knnzscore = KNNWithZScore()"
      ]
    },
    {
      "cell_type": "code",
      "execution_count": 25,
      "metadata": {
        "id": "_HXQGUkEqBfR"
      },
      "outputs": [
        {
          "name": "stdout",
          "output_type": "stream",
          "text": [
            "Computing the msd similarity matrix...\n"
          ]
        },
        {
          "name": "stderr",
          "output_type": "stream",
          "text": [
            "/home/cecile/anaconda3/envs/nlpenv/lib/python3.9/site-packages/apscheduler/util.py:95: PytzUsageWarning: The zone attribute is specific to pytz's interface; please migrate to a new time zone provider. For more details on how to do so, see https://pytz-deprecation-shim.readthedocs.io/en/latest/migration.html\n",
            "  if obj.zone == 'local':\n"
          ]
        },
        {
          "name": "stdout",
          "output_type": "stream",
          "text": [
            "Done computing similarity matrix.\n",
            "RMSE: 0.7676\n",
            "Computing the msd similarity matrix...\n",
            "Done computing similarity matrix.\n",
            "RMSE: 0.7679\n",
            "Computing the msd similarity matrix...\n",
            "Done computing similarity matrix.\n",
            "RMSE: 0.7611\n"
          ]
        },
        {
          "data": {
            "text/html": [
              "<div>\n",
              "<style scoped>\n",
              "    .dataframe tbody tr th:only-of-type {\n",
              "        vertical-align: middle;\n",
              "    }\n",
              "\n",
              "    .dataframe tbody tr th {\n",
              "        vertical-align: top;\n",
              "    }\n",
              "\n",
              "    .dataframe thead th {\n",
              "        text-align: right;\n",
              "    }\n",
              "</style>\n",
              "<table border=\"1\" class=\"dataframe\">\n",
              "  <thead>\n",
              "    <tr style=\"text-align: right;\">\n",
              "      <th></th>\n",
              "      <th>KNN Basic</th>\n",
              "      <th>KNN Means</th>\n",
              "      <th>KNN Z-Score</th>\n",
              "    </tr>\n",
              "  </thead>\n",
              "  <tbody>\n",
              "    <tr>\n",
              "      <th>RMSE</th>\n",
              "      <td>0.768</td>\n",
              "      <td>0.768</td>\n",
              "      <td>0.761</td>\n",
              "    </tr>\n",
              "  </tbody>\n",
              "</table>\n",
              "</div>"
            ],
            "text/plain": [
              "      KNN Basic  KNN Means  KNN Z-Score\n",
              "RMSE      0.768      0.768        0.761"
            ]
          },
          "execution_count": 25,
          "metadata": {},
          "output_type": "execute_result"
        }
      ],
      "source": [
        "model = [knnbasic, knnmeans, knnzscore]\n",
        "dict_model = {}\n",
        "tracker = EmissionsTracker()\n",
        "\n",
        "for model in model:\n",
        "    y_pred = model.fit(trainset).test(testset)\n",
        "    rmse = accuracy.rmse(y_pred)\n",
        "    dict_model[model] = (rmse.round(3))\n",
        "\n",
        "eval_model = pd.DataFrame(dict_model, index=[\"RMSE\"])\n",
        "eval_model.columns = [\"KNN Basic\", \"KNN Means\", \"KNN Z-Score\"]\n",
        "\n",
        "eval_model"
      ]
    },
    {
      "cell_type": "code",
      "execution_count": 26,
      "metadata": {
        "id": "u4hF8Um9qBfS"
      },
      "outputs": [
        {
          "name": "stdout",
          "output_type": "stream",
          "text": [
            "Computing the msd similarity matrix...\n",
            "Done computing similarity matrix.\n",
            "Computing the msd similarity matrix...\n",
            "Done computing similarity matrix.\n",
            "Computing the msd similarity matrix...\n",
            "Done computing similarity matrix.\n",
            "Computing the msd similarity matrix...\n",
            "Done computing similarity matrix.\n",
            "Computing the msd similarity matrix...\n",
            "Done computing similarity matrix.\n",
            "Computing the msd similarity matrix...\n",
            "Done computing similarity matrix.\n",
            "Computing the msd similarity matrix...\n",
            "Done computing similarity matrix.\n",
            "Computing the msd similarity matrix...\n",
            "Done computing similarity matrix.\n",
            "Computing the msd similarity matrix...\n",
            "Done computing similarity matrix.\n",
            "Computing the msd similarity matrix...\n",
            "Done computing similarity matrix.\n",
            "Computing the msd similarity matrix...\n",
            "Done computing similarity matrix.\n",
            "Computing the msd similarity matrix...\n",
            "Done computing similarity matrix.\n",
            "Computing the msd similarity matrix...\n",
            "Done computing similarity matrix.\n",
            "Computing the msd similarity matrix...\n",
            "Done computing similarity matrix.\n",
            "Computing the msd similarity matrix...\n",
            "Done computing similarity matrix.\n",
            "Computing the msd similarity matrix...\n",
            "Done computing similarity matrix.\n",
            "Computing the msd similarity matrix...\n",
            "Done computing similarity matrix.\n",
            "Computing the msd similarity matrix...\n",
            "Done computing similarity matrix.\n",
            "Computing the msd similarity matrix...\n",
            "Done computing similarity matrix.\n",
            "Computing the msd similarity matrix...\n",
            "Done computing similarity matrix.\n",
            "Computing the msd similarity matrix...\n",
            "Done computing similarity matrix.\n",
            "Computing the msd similarity matrix...\n",
            "Done computing similarity matrix.\n",
            "Computing the msd similarity matrix...\n",
            "Done computing similarity matrix.\n",
            "Computing the msd similarity matrix...\n",
            "Done computing similarity matrix.\n",
            "Computing the msd similarity matrix...\n",
            "Done computing similarity matrix.\n",
            "Computing the msd similarity matrix...\n",
            "Done computing similarity matrix.\n",
            "Computing the msd similarity matrix...\n",
            "Done computing similarity matrix.\n",
            "Computing the msd similarity matrix...\n",
            "Done computing similarity matrix.\n",
            "Computing the msd similarity matrix...\n",
            "Done computing similarity matrix.\n",
            "Computing the msd similarity matrix...\n",
            "Done computing similarity matrix.\n",
            "Computing the msd similarity matrix...\n",
            "Done computing similarity matrix.\n",
            "Computing the msd similarity matrix...\n",
            "Done computing similarity matrix.\n",
            "Computing the msd similarity matrix...\n",
            "Done computing similarity matrix.\n",
            "Computing the msd similarity matrix...\n",
            "Done computing similarity matrix.\n",
            "Computing the msd similarity matrix...\n",
            "Done computing similarity matrix.\n",
            "0.7417630533621425\n",
            "{'k': 20}\n"
          ]
        }
      ],
      "source": [
        "param_grid = {'k': [20, 30, 40, 50, 60, 70, 80]}\n",
        "\n",
        "gs = GridSearchCV(KNNWithZScore,\n",
        "                  param_grid,\n",
        "                  measures=['rmse', 'mae'],\n",
        "                  cv=5)\n",
        "\n",
        "gs.fit(data_surprise)\n",
        "\n",
        "# best RMSE score\n",
        "print(gs.best_score['rmse'])\n",
        "\n",
        "# combination of parameters that gave the best RMSE score\n",
        "print(gs.best_params['rmse'])"
      ]
    },
    {
      "cell_type": "code",
      "execution_count": 27,
      "metadata": {
        "id": "KtlUyZ0uUUmU"
      },
      "outputs": [
        {
          "name": "stderr",
          "output_type": "stream",
          "text": [
            "/home/cecile/anaconda3/envs/nlpenv/lib/python3.9/site-packages/apscheduler/util.py:95: PytzUsageWarning: The zone attribute is specific to pytz's interface; please migrate to a new time zone provider. For more details on how to do so, see https://pytz-deprecation-shim.readthedocs.io/en/latest/migration.html\n",
            "  if obj.zone == 'local':\n",
            "/home/cecile/anaconda3/envs/nlpenv/lib/python3.9/site-packages/apscheduler/triggers/interval.py:66: PytzUsageWarning: The normalize method is no longer necessary, as this time zone supports the fold attribute (PEP 495). For more details on migrating to a PEP 495-compliant implementation, see https://pytz-deprecation-shim.readthedocs.io/en/latest/migration.html\n",
            "  return self.timezone.normalize(next_fire_time)\n"
          ]
        },
        {
          "name": "stdout",
          "output_type": "stream",
          "text": [
            "Computing the msd similarity matrix...\n",
            "Done computing similarity matrix.\n",
            "RMSE: 0.7426\n",
            "GHG emission: 2.0916046788691988e-05\n"
          ]
        }
      ],
      "source": [
        "knn_gs = gs.best_estimator['rmse']\n",
        "\n",
        "tracker = EmissionsTracker()\n",
        "\n",
        "tracker.start()\n",
        "predictions = knn_gs.fit(trainset).test(testset)\n",
        "emissions = tracker.stop()\n",
        "\n",
        "\n",
        "accuracy.rmse(predictions)\n",
        "print(\"GHG emission:\", emissions)"
      ]
    },
    {
      "cell_type": "code",
      "execution_count": 28,
      "metadata": {
        "id": "G_CvFtaiqBfS"
      },
      "outputs": [
        {
          "data": {
            "text/plain": [
              "82"
            ]
          },
          "execution_count": 28,
          "metadata": {},
          "output_type": "execute_result"
        }
      ],
      "source": [
        "del gs,\\\n",
        "    dict_model,\\\n",
        "    predictions,\\\n",
        "    tracker,\\\n",
        "    emissions\n",
        "gc.collect()"
      ]
    },
    {
      "cell_type": "markdown",
      "metadata": {
        "id": "nC_gs8GTqBfT"
      },
      "source": [
        "## 3) Content-based algorithms"
      ]
    },
    {
      "cell_type": "markdown",
      "metadata": {
        "id": "u-32UOQn7zMW"
      },
      "source": [
        "### a) With Tfidf"
      ]
    },
    {
      "cell_type": "markdown",
      "metadata": {
        "id": "TzpW7-nnqBfT"
      },
      "source": [
        "https://medium.com/analytics-vidhya/content-based-recommender-systems-in-python-2b330e01eb80"
      ]
    },
    {
      "cell_type": "code",
      "execution_count": 29,
      "metadata": {
        "id": "SAmnxgKFqBfT"
      },
      "outputs": [],
      "source": [
        "desc = books.copy()\n",
        "desc = desc[[\"Id\", \"Name\", \"Authors\", \"Description\"]]"
      ]
    },
    {
      "cell_type": "code",
      "execution_count": 30,
      "metadata": {
        "id": "38ligZhkhmhD"
      },
      "outputs": [],
      "source": [
        "desc = desc.sample(frac=.2,\n",
        "                   random_state=42)"
      ]
    },
    {
      "cell_type": "code",
      "execution_count": 31,
      "metadata": {
        "id": "q5X77X_TkZeI"
      },
      "outputs": [],
      "source": [
        "desc.reset_index(inplace=True)\n",
        "desc.drop(\"index\", axis=1, inplace=True)"
      ]
    },
    {
      "cell_type": "code",
      "execution_count": 32,
      "metadata": {
        "id": "RuImF-iVqBfU"
      },
      "outputs": [
        {
          "name": "stdout",
          "output_type": "stream",
          "text": [
            "GHG Emissions: 2.3392958143540964e-05\n"
          ]
        }
      ],
      "source": [
        "tracker = EmissionsTracker()\n",
        "\n",
        "tracker.start()\n",
        "tfidf = TfidfVectorizer(stop_words='english')\n",
        "desc['Description'] = desc['Description'].fillna(\"\")\n",
        "descr_matrix = tfidf.fit_transform(desc['Description'])\n",
        "similarity_matrix = linear_kernel(descr_matrix, descr_matrix)\n",
        "emissions = tracker.stop()\n",
        "\n",
        "print(\"GHG Emissions:\", emissions)"
      ]
    },
    {
      "cell_type": "code",
      "execution_count": 33,
      "metadata": {
        "id": "elm-9tf-qBfV"
      },
      "outputs": [
        {
          "name": "stdout",
          "output_type": "stream",
          "text": [
            "Name\n",
            "On the Other Side of Mount Ararat: A Story of a Vanished City        0\n",
            "The Tall Uncut: Stories                                              1\n",
            "Heart Essence of the Vast Expanse: A Story of Transmission           2\n",
            "Don't Look a Ghost Horse in the Mouth                                3\n",
            "Turpentine                                                           4\n",
            "                                                                 ...  \n",
            "Infernal Revenue (The Destroyer, #96)                            23911\n",
            "Die with Me                                                      23912\n",
            "Kingyo: The Artistry of the Japanese Goldfish                    23913\n",
            "The Shadow Roads (The Swans' War, book 3)                        23914\n",
            "Roommates                                                        23915\n",
            "Length: 23916, dtype: int64\n"
          ]
        }
      ],
      "source": [
        "mapping = pd.Series(desc.index,\n",
        "          index = desc['Name'])\n",
        "print(mapping)"
      ]
    },
    {
      "cell_type": "code",
      "execution_count": 34,
      "metadata": {
        "id": "Px88oZ6mqBfV"
      },
      "outputs": [],
      "source": [
        "def recommend_books(book_input):\n",
        "    print(\"Book Read: \", book_input)\n",
        "    book_index = mapping[book_input]\n",
        "    #get similarity values with other books\n",
        "    #similarity_score is the list of index and similarity matrix\n",
        "    similarity_score = list(enumerate(similarity_matrix[book_index]))\n",
        "    #sort in descending order the similarity score of movie inputted with all the other books\n",
        "    similarity_score = sorted(similarity_score, key=lambda x: x[1], reverse=True)\n",
        "    \n",
        "    # Get the scores of the 20 most similar books. Ignore the first book.\n",
        "    similarity_score = similarity_score[1:20]\n",
        "    \n",
        "    #return book names using the mapping series\n",
        "    book_indices = [i[0] for i in similarity_score]\n",
        "    return (desc['Name'].iloc[book_indices])"
      ]
    },
    {
      "cell_type": "code",
      "execution_count": 35,
      "metadata": {
        "id": "rV5yvgU5kOn0"
      },
      "outputs": [
        {
          "name": "stdout",
          "output_type": "stream",
          "text": [
            "Book Read:  Pet Sematary\n"
          ]
        },
        {
          "data": {
            "text/plain": [
              "3230                                  Black Cat, Volume 11\n",
              "15651    Glimpses of Maine's Angling Past (Images of Am...\n",
              "18878                        Oh, the Thinks You Can Think!\n",
              "14474                           Go to the Room of the Eyes\n",
              "663      Boston and the American Revolution: Boston Nat...\n",
              "9972                                                   Ash\n",
              "10932               True Blue (Sweet Valley Jr. High, #18)\n",
              "18362                                            Bold Wolf\n",
              "8047     African American Life in the Rural South, 1900...\n",
              "7174                                       White House Q&A\n",
              "17721                                        The Long Life\n",
              "8842     The Horizontal World: Growing Up Wild in the M...\n",
              "15942                      That Yankee Cat: The Maine Coon\n",
              "6775                                        The Best Story\n",
              "22298                                       Mansfield Park\n",
              "9071                                    The Good Neighbour\n",
              "21028                                             The Well\n",
              "930                                     Frank Lloyd Wright\n",
              "13072                                 In the Haunted House\n",
              "Name: Name, dtype: object"
            ]
          },
          "execution_count": 35,
          "metadata": {},
          "output_type": "execute_result"
        }
      ],
      "source": [
        "recommend_books('Pet Sematary')"
      ]
    },
    {
      "cell_type": "code",
      "execution_count": 36,
      "metadata": {
        "id": "hoxO3u-ThCOJ"
      },
      "outputs": [
        {
          "data": {
            "text/plain": [
              "32"
            ]
          },
          "execution_count": 36,
          "metadata": {},
          "output_type": "execute_result"
        }
      ],
      "source": [
        "del tracker, emissions\n",
        "gc.collect()"
      ]
    },
    {
      "cell_type": "markdown",
      "metadata": {
        "id": "XSrLw-N57zMa"
      },
      "source": [
        "### b) Using Transformers"
      ]
    },
    {
      "cell_type": "markdown",
      "metadata": {
        "id": "49sVqr2F7zMb"
      },
      "source": [
        "https://towardsdatascience.com/hands-on-content-based-recommender-system-using-python-1d643bf314e4"
      ]
    },
    {
      "cell_type": "code",
      "execution_count": null,
      "metadata": {
        "id": "60JSOB3o7zMc"
      },
      "outputs": [],
      "source": [
        "from sentence_transformers import SentenceTransformer\n",
        "import pandas as pd\n",
        "import seaborn as sns\n",
        "from sklearn.feature_extraction.text import CountVectorizer\n",
        "from sklearn.metrics.pairwise import cosine_similarity\n",
        "from sklearn.decomposition import PCA"
      ]
    },
    {
      "cell_type": "code",
      "execution_count": null,
      "metadata": {
        "id": "pX6AEwtq7zMc"
      },
      "outputs": [],
      "source": [
        "data = pd.read_parquet(path+\"books_with_complete_description.parquet.gzip\")\n",
        "data = data[[\"Name\", \"Authors\", \"Description\"]].sample(frac=.3, random_state=42)\n",
        "data.reset_index(inplace=True)\n",
        "data.drop(\"index\", axis=1, inplace=True)\n",
        "data.head()"
      ]
    },
    {
      "cell_type": "code",
      "execution_count": null,
      "metadata": {
        "id": "1oqra0qc7zMd"
      },
      "outputs": [],
      "source": [
        "X = np.array(data[\"Description\"])"
      ]
    },
    {
      "cell_type": "code",
      "execution_count": null,
      "metadata": {
        "id": "6hgpJWq07zMd"
      },
      "outputs": [],
      "source": [
        "text_data = X\n",
        "\n",
        "tracker = EmissionsTracker()\n",
        "tracker.start()\n",
        "\n",
        "model = SentenceTransformer('distilbert-base-nli-mean-tokens')\n",
        "embeddings = model.encode(text_data, show_progress_bar=True)\n",
        "X = np.array(embeddings)\n",
        "cos_sim_data = pd.DataFrame(cosine_similarity(X))\n",
        "\n",
        "emissions = tracker.stop()\n",
        "print(\"GHG Emissions:\", emissions)"
      ]
    },
    {
      "cell_type": "code",
      "execution_count": null,
      "metadata": {
        "id": "Bbrv4XRH7zMe"
      },
      "outputs": [],
      "source": [
        "n_comp = 5\n",
        "pca = PCA(n_components=n_comp)\n",
        "pca.fit(X)\n",
        "pca_data = pd.DataFrame(pca.transform(X))\n",
        "pca_data.head()"
      ]
    },
    {
      "cell_type": "code",
      "execution_count": null,
      "metadata": {
        "id": "0io4c_W67zMe"
      },
      "outputs": [],
      "source": [
        "sns.pairplot(pca_data)"
      ]
    },
    {
      "cell_type": "code",
      "execution_count": null,
      "metadata": {
        "id": "acVGKFAeC8V5"
      },
      "outputs": [],
      "source": [
        "data.loc[data[\"Authors\"] == \"Stephen King\"]"
      ]
    },
    {
      "cell_type": "code",
      "execution_count": null,
      "metadata": {
        "id": "u-JxNz3N_QkD"
      },
      "outputs": [],
      "source": [
        "def give_recommendations(index, print_recommendation = False,print_recommendation_plots= False):\n",
        "  index_recomm =cos_sim_data.loc[index].sort_values(ascending=False).index.tolist()[1:6]\n",
        "  books_recomm =  data['Name'].loc[index_recomm].values\n",
        "  result = {'Books':books_recomm,'Index':index_recomm}\n",
        "  if print_recommendation==True:\n",
        "    print('Book Read: %s \\n'%(data['Name'].loc[index]))\n",
        "    k=1\n",
        "    for book in books_recomm:\n",
        "      print('Recommended book #%i : %s \\n'%(k, book))\n",
        "      k = k+1\n",
        "  if print_recommendation_plots==True:\n",
        "    print('Book Read - Description:\\n %s \\n'%(data['Description'].loc[index]))\n",
        "    k=1\n",
        "    for q in range(len(books_recomm)):\n",
        "      plot_q = data['Description'].loc[index_recomm[q]]\n",
        "      print('Recommended Book #%i - Description:\\n %s \\n'%(k,plot_q))\n",
        "      k=k+1\n",
        "  return result"
      ]
    },
    {
      "cell_type": "code",
      "execution_count": null,
      "metadata": {
        "id": "NnwQ6zgyB-Xi"
      },
      "outputs": [],
      "source": [
        "give_recommendations(19590, True, True)"
      ]
    },
    {
      "cell_type": "code",
      "execution_count": null,
      "metadata": {
        "id": "zW7nWh9mEgsm"
      },
      "outputs": [],
      "source": [
        "recomm_list = []\n",
        "for i in range(len(X)):\n",
        "  recomm_i = give_recommendations(i)\n",
        "  recomm_list.append(recomm_i['Books'])\n",
        "recomm_data = pd.DataFrame(recomm_list,columns=['First Recommendation','Second Recommendation','Third Recommendation','Fourth Recommendation','Fifth Recommendation'])\n",
        "recomm_data['Books Read'] = data['Name']\n",
        "recomm_data = recomm_data[['Books Read','First Recommendation','Second Recommendation','Third Recommendation','Fourth Recommendation','Fifth Recommendation']]"
      ]
    },
    {
      "cell_type": "code",
      "execution_count": null,
      "metadata": {
        "id": "3YuK65QJEo4V"
      },
      "outputs": [],
      "source": [
        "recomm_data.sample(frac=1).head()"
      ]
    },
    {
      "cell_type": "code",
      "execution_count": null,
      "metadata": {
        "id": "HQVhgDxgCwGX"
      },
      "outputs": [],
      "source": [
        "del users,\\\n",
        "    books,\\\n",
        "    data\n",
        "gc.collect()"
      ]
    }
  ],
  "metadata": {
    "accelerator": "GPU",
    "colab": {
      "collapsed_sections": [],
      "machine_shape": "hm",
      "name": "P7_02_notebookmodelisation.ipynb",
      "provenance": []
    },
    "interpreter": {
      "hash": "ee493cea8a9059eddf8f922ba27d7b6585c0a98c31cf1c0366dab9037c7fbdac"
    },
    "kernelspec": {
      "display_name": "Python 3",
      "language": "python",
      "name": "python3"
    },
    "language_info": {
      "codemirror_mode": {
        "name": "ipython",
        "version": 3
      },
      "file_extension": ".py",
      "mimetype": "text/x-python",
      "name": "python",
      "nbconvert_exporter": "python",
      "pygments_lexer": "ipython3",
      "version": "3.9.7"
    }
  },
  "nbformat": 4,
  "nbformat_minor": 0
}
