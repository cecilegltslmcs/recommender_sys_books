{
  "cells": [
    {
      "cell_type": "markdown",
      "metadata": {
        "id": "Lsv5IJAqqBe0"
      },
      "source": [
        "# Recommender system for books: Modelisation"
      ]
    },
    {
      "cell_type": "code",
      "execution_count": 1,
      "metadata": {
        "id": "kVxVO53SqBe4"
      },
      "outputs": [],
      "source": [
        "# Data manipulation\n",
        "import pandas as pd \n",
        "import numpy as np \n",
        "import gc\n",
        "\n",
        "# Graphical libraries\n",
        "import matplotlib.pyplot as plt\n",
        "import seaborn as sns\n",
        "\n",
        "# Modelisation libraries\n",
        "from surprise import BaselineOnly, SVD, NMF, KNNBasic, KNNWithMeans, KNNWithZScore, CoClustering, SlopeOne\n",
        "from surprise import accuracy\n",
        "from surprise.model_selection import train_test_split, GridSearchCV\n",
        "from surprise import Dataset\n",
        "from surprise import Reader\n",
        "\n",
        "from sklearn.metrics.pairwise import cosine_similarity, linear_kernel\n",
        "from sklearn.metrics import mean_squared_error\n",
        "from sklearn.feature_extraction.text import TfidfVectorizer\n",
        "\n",
        "# GHG Emissions tracking\n",
        "from codecarbon import EmissionsTracker"
      ]
    },
    {
      "cell_type": "code",
      "execution_count": 2,
      "metadata": {
        "id": "ketvHS6eq03T"
      },
      "outputs": [],
      "source": [
        "path = 'Datasets/'"
      ]
    },
    {
      "cell_type": "code",
      "execution_count": 3,
      "metadata": {
        "id": "sugB78puqBe7"
      },
      "outputs": [],
      "source": [
        "# Importing data about users and books \n",
        "users = pd.read_parquet(path+\"users_data_cleaning.parquet.gzip\")\n",
        "books = pd.read_parquet(path+\"books_data_cleaning.parquet.gzip\")"
      ]
    },
    {
      "cell_type": "code",
      "execution_count": 4,
      "metadata": {
        "id": "CHPwrMphvJF4"
      },
      "outputs": [],
      "source": [
        "books.rename(columns={\"Rating\" : \"Average_Rating\"},\n",
        "             inplace=True)"
      ]
    },
    {
      "cell_type": "markdown",
      "metadata": {
        "id": "4X_yt-SiqBe8"
      },
      "source": [
        "It exists different kinds of recommender engines. In this proof of concept, simple recommender, user based collaborative filtering, content-based recommender and hybrid methods will be testing to find the best recommender engines. "
      ]
    },
    {
      "cell_type": "markdown",
      "metadata": {
        "id": "XC0Z-AnjqBe-"
      },
      "source": [
        "## 1) Popularity based"
      ]
    },
    {
      "cell_type": "markdown",
      "metadata": {
        "id": "mFczN4BvqBe_"
      },
      "source": [
        "Simple recommender is the most basic recommender engines. It based on popularity. To calcule it, rating and number of reviews are used. The formula used is detailled in Bhowmick et al. (2021)."
      ]
    },
    {
      "cell_type": "code",
      "execution_count": 5,
      "metadata": {
        "colab": {
          "base_uri": "https://localhost:8080/",
          "height": 206
        },
        "id": "hSYcwxP1qBfA",
        "outputId": "bd777622-cc4c-4d82-9fde-b43a16fa0a46"
      },
      "outputs": [
        {
          "data": {
            "text/html": [
              "<div>\n",
              "<style scoped>\n",
              "    .dataframe tbody tr th:only-of-type {\n",
              "        vertical-align: middle;\n",
              "    }\n",
              "\n",
              "    .dataframe tbody tr th {\n",
              "        vertical-align: top;\n",
              "    }\n",
              "\n",
              "    .dataframe thead th {\n",
              "        text-align: right;\n",
              "    }\n",
              "</style>\n",
              "<table border=\"1\" class=\"dataframe\">\n",
              "  <thead>\n",
              "    <tr style=\"text-align: right;\">\n",
              "      <th></th>\n",
              "      <th>Id</th>\n",
              "      <th>Name</th>\n",
              "      <th>Authors</th>\n",
              "      <th>Average_Rating</th>\n",
              "      <th>CountsOfReview</th>\n",
              "    </tr>\n",
              "  </thead>\n",
              "  <tbody>\n",
              "    <tr>\n",
              "      <th>0</th>\n",
              "      <td>4000063</td>\n",
              "      <td>The Flintstones in Viva Rock Vegas</td>\n",
              "      <td>Ellen Miles</td>\n",
              "      <td>3.82</td>\n",
              "      <td>1</td>\n",
              "    </tr>\n",
              "    <tr>\n",
              "      <th>1</th>\n",
              "      <td>4000100</td>\n",
              "      <td>Little Rhody</td>\n",
              "      <td>Neta Lohnes Frazier</td>\n",
              "      <td>4.33</td>\n",
              "      <td>1</td>\n",
              "    </tr>\n",
              "    <tr>\n",
              "      <th>2</th>\n",
              "      <td>4000228</td>\n",
              "      <td>Finance And Investments Using The Wall Street ...</td>\n",
              "      <td>Peter R. Crabb</td>\n",
              "      <td>0.00</td>\n",
              "      <td>0</td>\n",
              "    </tr>\n",
              "    <tr>\n",
              "      <th>3</th>\n",
              "      <td>4000366</td>\n",
              "      <td>Shorty McCabe Looks 'Em Over</td>\n",
              "      <td>Sewell Ford</td>\n",
              "      <td>0.00</td>\n",
              "      <td>0</td>\n",
              "    </tr>\n",
              "    <tr>\n",
              "      <th>4</th>\n",
              "      <td>4000441</td>\n",
              "      <td>Plant Pathology</td>\n",
              "      <td>George N. Agrios</td>\n",
              "      <td>4.52</td>\n",
              "      <td>0</td>\n",
              "    </tr>\n",
              "  </tbody>\n",
              "</table>\n",
              "</div>"
            ],
            "text/plain": [
              "        Id                                               Name  \\\n",
              "0  4000063                 The Flintstones in Viva Rock Vegas   \n",
              "1  4000100                                       Little Rhody   \n",
              "2  4000228  Finance And Investments Using The Wall Street ...   \n",
              "3  4000366                       Shorty McCabe Looks 'Em Over   \n",
              "4  4000441                                    Plant Pathology   \n",
              "\n",
              "               Authors  Average_Rating  CountsOfReview  \n",
              "0          Ellen Miles            3.82               1  \n",
              "1  Neta Lohnes Frazier            4.33               1  \n",
              "2       Peter R. Crabb            0.00               0  \n",
              "3          Sewell Ford            0.00               0  \n",
              "4     George N. Agrios            4.52               0  "
            ]
          },
          "execution_count": 5,
          "metadata": {},
          "output_type": "execute_result"
        }
      ],
      "source": [
        "# creating a new dataset for the calculus\n",
        "simple_reco = books.copy()\n",
        "simple_reco = simple_reco[[\"Id\", \"Name\", \"Authors\",\n",
        "                           \"Average_Rating\", \"CountsOfReview\"]]\n",
        "simple_reco.head()"
      ]
    },
    {
      "cell_type": "code",
      "execution_count": 6,
      "metadata": {
        "colab": {
          "base_uri": "https://localhost:8080/"
        },
        "id": "8tth_VhfqBfB",
        "outputId": "de8def1a-4f6e-47e5-8410-7bd61ade5fab"
      },
      "outputs": [
        {
          "name": "stdout",
          "output_type": "stream",
          "text": [
            "3.7320950652695215\n"
          ]
        }
      ],
      "source": [
        "# calculating the average rating\n",
        "C = simple_reco['Average_Rating'].mean()\n",
        "print(C)"
      ]
    },
    {
      "cell_type": "code",
      "execution_count": 7,
      "metadata": {
        "colab": {
          "base_uri": "https://localhost:8080/"
        },
        "id": "hxsTtTd-qBfB",
        "outputId": "b1112e2a-830f-47a9-8639-c7196fccd8a9"
      },
      "outputs": [
        {
          "name": "stdout",
          "output_type": "stream",
          "text": [
            "41.0\n"
          ]
        }
      ],
      "source": [
        "# calculating and keeping\n",
        "# books with the 90th percentile\n",
        "m = simple_reco['CountsOfReview'].quantile(0.90)\n",
        "print(m)"
      ]
    },
    {
      "cell_type": "code",
      "execution_count": 8,
      "metadata": {
        "colab": {
          "base_uri": "https://localhost:8080/"
        },
        "id": "UkbxqfeqqBfE",
        "outputId": "f6af7ebb-e83c-4d4a-b616-f76e580f8510"
      },
      "outputs": [
        {
          "data": {
            "text/plain": [
              "(12116, 5)"
            ]
          },
          "execution_count": 8,
          "metadata": {},
          "output_type": "execute_result"
        }
      ],
      "source": [
        "# selecting only books with at least 41 reviews\n",
        "q_books = simple_reco.copy().loc[simple_reco['CountsOfReview'] >= m]\n",
        "q_books.shape"
      ]
    },
    {
      "cell_type": "code",
      "execution_count": 9,
      "metadata": {
        "id": "RBGp_JGIqBfE"
      },
      "outputs": [],
      "source": [
        "def weighted_rating(x, m=m, C=C):\n",
        "    v = x['CountsOfReview']\n",
        "    R = x['Average_Rating']\n",
        "    return (v/(v+m) * R) + (m/(m+v) * C)"
      ]
    },
    {
      "cell_type": "code",
      "execution_count": 10,
      "metadata": {
        "id": "iB1bz_TvqBfG"
      },
      "outputs": [],
      "source": [
        "q_books['score'] = q_books.apply(weighted_rating, axis=1)"
      ]
    },
    {
      "cell_type": "code",
      "execution_count": 11,
      "metadata": {
        "colab": {
          "base_uri": "https://localhost:8080/",
          "height": 206
        },
        "id": "9xPk-ZP4qBfG",
        "outputId": "d65ac07b-8b97-4fb9-87a1-ad2421a23846"
      },
      "outputs": [
        {
          "data": {
            "text/html": [
              "<div>\n",
              "<style scoped>\n",
              "    .dataframe tbody tr th:only-of-type {\n",
              "        vertical-align: middle;\n",
              "    }\n",
              "\n",
              "    .dataframe tbody tr th {\n",
              "        vertical-align: top;\n",
              "    }\n",
              "\n",
              "    .dataframe thead th {\n",
              "        text-align: right;\n",
              "    }\n",
              "</style>\n",
              "<table border=\"1\" class=\"dataframe\">\n",
              "  <thead>\n",
              "    <tr style=\"text-align: right;\">\n",
              "      <th></th>\n",
              "      <th>Id</th>\n",
              "      <th>Name</th>\n",
              "      <th>Authors</th>\n",
              "      <th>CountsOfReview</th>\n",
              "      <th>Average_Rating</th>\n",
              "      <th>score</th>\n",
              "    </tr>\n",
              "  </thead>\n",
              "  <tbody>\n",
              "    <tr>\n",
              "      <th>44289</th>\n",
              "      <td>862041</td>\n",
              "      <td>Harry Potter Series Box Set (Harry Potter, #1-7)</td>\n",
              "      <td>J.K. Rowling</td>\n",
              "      <td>6522</td>\n",
              "      <td>4.74</td>\n",
              "      <td>4.733703</td>\n",
              "    </tr>\n",
              "    <tr>\n",
              "      <th>40413</th>\n",
              "      <td>818056</td>\n",
              "      <td>Harry Potter and the Deathly Hallows (Harry Po...</td>\n",
              "      <td>J.K. Rowling</td>\n",
              "      <td>952</td>\n",
              "      <td>4.62</td>\n",
              "      <td>4.583339</td>\n",
              "    </tr>\n",
              "    <tr>\n",
              "      <th>115327</th>\n",
              "      <td>1215032</td>\n",
              "      <td>The Wise Man's Fear (The Kingkiller Chronicle,...</td>\n",
              "      <td>Patrick Rothfuss</td>\n",
              "      <td>16523</td>\n",
              "      <td>4.57</td>\n",
              "      <td>4.567926</td>\n",
              "    </tr>\n",
              "    <tr>\n",
              "      <th>61446</th>\n",
              "      <td>3165162</td>\n",
              "      <td>Percy Jackson and the Olympians (Percy Jackson...</td>\n",
              "      <td>Rick Riordan</td>\n",
              "      <td>546</td>\n",
              "      <td>4.59</td>\n",
              "      <td>4.530078</td>\n",
              "    </tr>\n",
              "    <tr>\n",
              "      <th>72565</th>\n",
              "      <td>1025685</td>\n",
              "      <td>The Absolute Sandman, Volume Two</td>\n",
              "      <td>Neil Gaiman</td>\n",
              "      <td>198</td>\n",
              "      <td>4.69</td>\n",
              "      <td>4.525673</td>\n",
              "    </tr>\n",
              "  </tbody>\n",
              "</table>\n",
              "</div>"
            ],
            "text/plain": [
              "             Id                                               Name  \\\n",
              "44289    862041   Harry Potter Series Box Set (Harry Potter, #1-7)   \n",
              "40413    818056  Harry Potter and the Deathly Hallows (Harry Po...   \n",
              "115327  1215032  The Wise Man's Fear (The Kingkiller Chronicle,...   \n",
              "61446   3165162  Percy Jackson and the Olympians (Percy Jackson...   \n",
              "72565   1025685                   The Absolute Sandman, Volume Two   \n",
              "\n",
              "                 Authors  CountsOfReview  Average_Rating     score  \n",
              "44289       J.K. Rowling            6522            4.74  4.733703  \n",
              "40413       J.K. Rowling             952            4.62  4.583339  \n",
              "115327  Patrick Rothfuss           16523            4.57  4.567926  \n",
              "61446       Rick Riordan             546            4.59  4.530078  \n",
              "72565        Neil Gaiman             198            4.69  4.525673  "
            ]
          },
          "execution_count": 11,
          "metadata": {},
          "output_type": "execute_result"
        }
      ],
      "source": [
        "#Sort movies based on score calculated above\n",
        "q_books = q_books.sort_values('score',\n",
        "                              ascending=False)\n",
        "\n",
        "#Print the top 5 books\n",
        "q_books[[\"Id\",\n",
        "         \"Name\",\n",
        "         \"Authors\",\n",
        "         \"CountsOfReview\", \n",
        "         \"Average_Rating\", \n",
        "         \"score\"]].head(5)"
      ]
    },
    {
      "cell_type": "code",
      "execution_count": 12,
      "metadata": {
        "colab": {
          "base_uri": "https://localhost:8080/"
        },
        "id": "7k9-KTF0qBfG",
        "outputId": "82f0fdc3-a04a-4d33-e9ad-65c1057eece2"
      },
      "outputs": [
        {
          "name": "stdout",
          "output_type": "stream",
          "text": [
            "0.108\n"
          ]
        }
      ],
      "source": [
        "print(round(np.sqrt(mean_squared_error(q_books['Average_Rating'],\n",
        "                                 q_books[\"score\"])), 3))"
      ]
    },
    {
      "cell_type": "code",
      "execution_count": 13,
      "metadata": {
        "colab": {
          "base_uri": "https://localhost:8080/"
        },
        "id": "aItBnsoLqBfH",
        "outputId": "61ea3e89-8be5-4c95-f4db-00f6246e4e50"
      },
      "outputs": [
        {
          "data": {
            "text/plain": [
              "0"
            ]
          },
          "execution_count": 13,
          "metadata": {},
          "output_type": "execute_result"
        }
      ],
      "source": [
        "del q_books, simple_reco\n",
        "gc.collect()"
      ]
    },
    {
      "cell_type": "markdown",
      "metadata": {
        "id": "yk_PbykTtu_m"
      },
      "source": [
        "This method had disadvantage to make recommendation based on the most popular books. Books with few ratings have less change to be recommend. "
      ]
    },
    {
      "cell_type": "markdown",
      "metadata": {
        "id": "uly3P2IZqBfI"
      },
      "source": [
        "## 2) User-based collaborative filtering"
      ]
    },
    {
      "cell_type": "markdown",
      "metadata": {
        "id": "mm6iypscqBfI"
      },
      "source": [
        "### a) Preparing the data for Surprise library"
      ]
    },
    {
      "cell_type": "code",
      "execution_count": 14,
      "metadata": {
        "id": "zCNiEN1RzhwQ"
      },
      "outputs": [],
      "source": [
        "data = pd.merge(users, books, on = \"Id\")\n",
        "data.rename(columns={\"Name\" : \"Title\",\n",
        "                     \"Id\" : \"Book_Id\"}, \n",
        "                     inplace=True)"
      ]
    },
    {
      "cell_type": "code",
      "execution_count": 15,
      "metadata": {
        "id": "6jgwl0oDqBfK"
      },
      "outputs": [],
      "source": [
        "reader = Reader(rating_scale=(1, 5))\n",
        "data_surprise = Dataset.load_from_df(data[['User_Id', 'Book_Id', 'Rating']], reader)"
      ]
    },
    {
      "cell_type": "code",
      "execution_count": 16,
      "metadata": {
        "id": "T3amPSIQqBfK"
      },
      "outputs": [],
      "source": [
        "trainset, testset = train_test_split(data_surprise, test_size=.2)"
      ]
    },
    {
      "cell_type": "code",
      "execution_count": 17,
      "metadata": {
        "colab": {
          "base_uri": "https://localhost:8080/"
        },
        "id": "JM11pGfsqBfK",
        "outputId": "7ce0821b-daca-42f2-8c54-6428716c47ce"
      },
      "outputs": [
        {
          "name": "stdout",
          "output_type": "stream",
          "text": [
            "Estimating biases using als...\n"
          ]
        }
      ],
      "source": [
        "bsl_options = {'method': 'als',\n",
        "               'n_epochs': 5,\n",
        "               'reg_u': 12,\n",
        "               'reg_i': 5\n",
        "               }\n",
        "base_als = BaselineOnly(bsl_options=bsl_options)\n",
        "predictions = base_als.fit(trainset).test(testset)"
      ]
    },
    {
      "cell_type": "code",
      "execution_count": 18,
      "metadata": {
        "colab": {
          "base_uri": "https://localhost:8080/"
        },
        "id": "FsvEb87BqBfK",
        "outputId": "1b40e84e-fbd2-4a9b-a5d7-a2accdc84059"
      },
      "outputs": [
        {
          "data": {
            "text/plain": [
              "0"
            ]
          },
          "execution_count": 18,
          "metadata": {},
          "output_type": "execute_result"
        }
      ],
      "source": [
        "del predictions\n",
        "gc.collect()"
      ]
    },
    {
      "cell_type": "code",
      "execution_count": 19,
      "metadata": {
        "colab": {
          "base_uri": "https://localhost:8080/"
        },
        "id": "LLaI_5zNqBfL",
        "outputId": "3eb36a0b-f5ec-4099-fc91-e6a8b3270d6a"
      },
      "outputs": [
        {
          "name": "stdout",
          "output_type": "stream",
          "text": [
            "Estimating biases using sgd...\n"
          ]
        }
      ],
      "source": [
        "bsl_options = {'method': 'sgd',\n",
        "               'learning_rate': .00005,\n",
        "               }\n",
        "base_sgd = BaselineOnly(bsl_options=bsl_options)\n",
        "predictions = base_sgd.fit(trainset).test(testset)"
      ]
    },
    {
      "cell_type": "code",
      "execution_count": 20,
      "metadata": {
        "colab": {
          "base_uri": "https://localhost:8080/"
        },
        "id": "YE-oT40RqBfL",
        "outputId": "9972b941-7201-48c0-93cb-f7baf6ee884e"
      },
      "outputs": [
        {
          "data": {
            "text/plain": [
              "0"
            ]
          },
          "execution_count": 20,
          "metadata": {},
          "output_type": "execute_result"
        }
      ],
      "source": [
        "del predictions\n",
        "gc.collect()"
      ]
    },
    {
      "cell_type": "markdown",
      "metadata": {
        "id": "aXnjq0_EqBfM"
      },
      "source": [
        "### b) Collaborative filtering Algorithms"
      ]
    },
    {
      "cell_type": "code",
      "execution_count": 21,
      "metadata": {
        "id": "XEQiyj4nbbAg"
      },
      "outputs": [],
      "source": [
        "# Initializing similarities options\n",
        "sim_options = {'name': 'cosine',\n",
        "               'user_based': True\n",
        "               }"
      ]
    },
    {
      "cell_type": "code",
      "execution_count": 22,
      "metadata": {
        "id": "qfKyaVhVqBfN"
      },
      "outputs": [],
      "source": [
        "svd = SVD()\n",
        "nmf = NMF()\n",
        "knn = KNNBasic(random_state=42)\n",
        "slope = SlopeOne()\n",
        "cocluster = CoClustering(random_state=42)"
      ]
    },
    {
      "cell_type": "code",
      "execution_count": 23,
      "metadata": {
        "colab": {
          "base_uri": "https://localhost:8080/",
          "height": 497
        },
        "id": "H9rsgC8CqBfP",
        "outputId": "904a09da-2486-4923-e575-940c7c5dc910"
      },
      "outputs": [
        {
          "name": "stderr",
          "output_type": "stream",
          "text": [
            "/home/cecile/anaconda3/envs/nlpenv/lib/python3.9/site-packages/apscheduler/util.py:95: PytzUsageWarning: The zone attribute is specific to pytz's interface; please migrate to a new time zone provider. For more details on how to do so, see https://pytz-deprecation-shim.readthedocs.io/en/latest/migration.html\n",
            "  if obj.zone == 'local':\n",
            "/home/cecile/anaconda3/envs/nlpenv/lib/python3.9/site-packages/apscheduler/triggers/interval.py:66: PytzUsageWarning: The normalize method is no longer necessary, as this time zone supports the fold attribute (PEP 495). For more details on migrating to a PEP 495-compliant implementation, see https://pytz-deprecation-shim.readthedocs.io/en/latest/migration.html\n",
            "  return self.timezone.normalize(next_fire_time)\n"
          ]
        },
        {
          "name": "stdout",
          "output_type": "stream",
          "text": [
            "RMSE: 0.7652\n",
            "RMSE: 0.8745\n",
            "Computing the msd similarity matrix...\n",
            "Done computing similarity matrix.\n",
            "RMSE: 0.7700\n"
          ]
        },
        {
          "name": "stderr",
          "output_type": "stream",
          "text": [
            "/tmp/ipykernel_38731/4219558851.py:7: DeprecationWarning: `np.int` is a deprecated alias for the builtin `int`. To silence this warning, use `int` by itself. Doing this will not modify any behavior and is safe. When replacing `np.int`, you may wish to use e.g. `np.int64` or `np.int32` to specify the precision. If you wish to review your current use, check the release note link for additional information.\n",
            "Deprecated in NumPy 1.20; for more details and guidance: https://numpy.org/devdocs/release/1.20.0-notes.html#deprecations\n",
            "  y_pred = model.fit(trainset).test(testset)\n"
          ]
        },
        {
          "name": "stdout",
          "output_type": "stream",
          "text": [
            "RMSE: 0.8908\n",
            "RMSE: 0.8908\n"
          ]
        },
        {
          "data": {
            "text/html": [
              "<div>\n",
              "<style scoped>\n",
              "    .dataframe tbody tr th:only-of-type {\n",
              "        vertical-align: middle;\n",
              "    }\n",
              "\n",
              "    .dataframe tbody tr th {\n",
              "        vertical-align: top;\n",
              "    }\n",
              "\n",
              "    .dataframe thead th {\n",
              "        text-align: right;\n",
              "    }\n",
              "</style>\n",
              "<table border=\"1\" class=\"dataframe\">\n",
              "  <thead>\n",
              "    <tr style=\"text-align: right;\">\n",
              "      <th></th>\n",
              "      <th>SVD</th>\n",
              "      <th>NMF</th>\n",
              "      <th>KNN</th>\n",
              "      <th>SlopeOne</th>\n",
              "      <th>Co-Clustering</th>\n",
              "    </tr>\n",
              "  </thead>\n",
              "  <tbody>\n",
              "    <tr>\n",
              "      <th>RMSE</th>\n",
              "      <td>0.765000</td>\n",
              "      <td>0.875000</td>\n",
              "      <td>0.770000</td>\n",
              "      <td>0.891000</td>\n",
              "      <td>0.891000</td>\n",
              "    </tr>\n",
              "    <tr>\n",
              "      <th>GHG Emissions</th>\n",
              "      <td>0.000027</td>\n",
              "      <td>0.000029</td>\n",
              "      <td>0.000015</td>\n",
              "      <td>0.000034</td>\n",
              "      <td>0.000015</td>\n",
              "    </tr>\n",
              "  </tbody>\n",
              "</table>\n",
              "</div>"
            ],
            "text/plain": [
              "                    SVD       NMF       KNN  SlopeOne  Co-Clustering\n",
              "RMSE           0.765000  0.875000  0.770000  0.891000       0.891000\n",
              "GHG Emissions  0.000027  0.000029  0.000015  0.000034       0.000015"
            ]
          },
          "execution_count": 23,
          "metadata": {},
          "output_type": "execute_result"
        }
      ],
      "source": [
        "model = [svd, nmf, knn, slope, cocluster]\n",
        "dict_model = {}\n",
        "\n",
        "for model in model:\n",
        "    tracker = EmissionsTracker()\n",
        "    tracker.start()\n",
        "    y_pred = model.fit(trainset).test(testset)\n",
        "    emissions = tracker.stop()\n",
        "    rmse = accuracy.rmse(y_pred)\n",
        "    dict_model[model] = (rmse.round(3), emissions)\n",
        "\n",
        "eval_model = pd.DataFrame(dict_model, index=[\"RMSE\", \"GHG Emissions\"])\n",
        "eval_model.columns = [\"SVD\", \"NMF\", \"KNN\", \"SlopeOne\", \"Co-Clustering\"]\n",
        "\n",
        "eval_model"
      ]
    },
    {
      "cell_type": "code",
      "execution_count": 24,
      "metadata": {
        "colab": {
          "base_uri": "https://localhost:8080/"
        },
        "id": "dOvALK8gqBfP",
        "outputId": "827a4d77-4d0a-4ebf-96a0-9bec1821abcc"
      },
      "outputs": [
        {
          "data": {
            "text/plain": [
              "0"
            ]
          },
          "execution_count": 24,
          "metadata": {},
          "output_type": "execute_result"
        }
      ],
      "source": [
        "del dict_model,\\\n",
        "    sim_options\n",
        "gc.collect()"
      ]
    },
    {
      "cell_type": "markdown",
      "metadata": {
        "id": "q1xihbNWqBfQ"
      },
      "source": [
        "### c) Focus on K-NN based models"
      ]
    },
    {
      "cell_type": "code",
      "execution_count": 25,
      "metadata": {
        "id": "sGmwP4H1qBfQ"
      },
      "outputs": [],
      "source": [
        "# Initializing similarities options\n",
        "sim_options = {'name': 'cosine',\n",
        "               'user_based': True\n",
        "               }"
      ]
    },
    {
      "cell_type": "code",
      "execution_count": 26,
      "metadata": {
        "id": "jCoBJs16qBfR"
      },
      "outputs": [],
      "source": [
        "knnbasic = KNNBasic()\n",
        "knnmeans = KNNWithMeans()\n",
        "knnzscore = KNNWithZScore()"
      ]
    },
    {
      "cell_type": "code",
      "execution_count": 27,
      "metadata": {
        "colab": {
          "base_uri": "https://localhost:8080/",
          "height": 462
        },
        "id": "_HXQGUkEqBfR",
        "outputId": "49ddb05b-79b6-426a-b2a4-abd3be7adbc2"
      },
      "outputs": [
        {
          "name": "stderr",
          "output_type": "stream",
          "text": [
            "/home/cecile/anaconda3/envs/nlpenv/lib/python3.9/site-packages/apscheduler/util.py:95: PytzUsageWarning: The zone attribute is specific to pytz's interface; please migrate to a new time zone provider. For more details on how to do so, see https://pytz-deprecation-shim.readthedocs.io/en/latest/migration.html\n",
            "  if obj.zone == 'local':\n",
            "/home/cecile/anaconda3/envs/nlpenv/lib/python3.9/site-packages/apscheduler/triggers/interval.py:66: PytzUsageWarning: The normalize method is no longer necessary, as this time zone supports the fold attribute (PEP 495). For more details on migrating to a PEP 495-compliant implementation, see https://pytz-deprecation-shim.readthedocs.io/en/latest/migration.html\n",
            "  return self.timezone.normalize(next_fire_time)\n"
          ]
        },
        {
          "name": "stdout",
          "output_type": "stream",
          "text": [
            "Computing the msd similarity matrix...\n",
            "Done computing similarity matrix.\n",
            "RMSE: 0.7700\n",
            "Computing the msd similarity matrix...\n",
            "Done computing similarity matrix.\n",
            "RMSE: 0.7694\n",
            "Computing the msd similarity matrix...\n",
            "Done computing similarity matrix.\n",
            "RMSE: 0.7620\n"
          ]
        },
        {
          "data": {
            "text/html": [
              "<div>\n",
              "<style scoped>\n",
              "    .dataframe tbody tr th:only-of-type {\n",
              "        vertical-align: middle;\n",
              "    }\n",
              "\n",
              "    .dataframe tbody tr th {\n",
              "        vertical-align: top;\n",
              "    }\n",
              "\n",
              "    .dataframe thead th {\n",
              "        text-align: right;\n",
              "    }\n",
              "</style>\n",
              "<table border=\"1\" class=\"dataframe\">\n",
              "  <thead>\n",
              "    <tr style=\"text-align: right;\">\n",
              "      <th></th>\n",
              "      <th>KNN Basic</th>\n",
              "      <th>KNN Means</th>\n",
              "      <th>KNN Z-Score</th>\n",
              "    </tr>\n",
              "  </thead>\n",
              "  <tbody>\n",
              "    <tr>\n",
              "      <th>RMSE</th>\n",
              "      <td>0.770000</td>\n",
              "      <td>0.769000</td>\n",
              "      <td>0.762000</td>\n",
              "    </tr>\n",
              "    <tr>\n",
              "      <th>GHG Emissions</th>\n",
              "      <td>0.000022</td>\n",
              "      <td>0.000013</td>\n",
              "      <td>0.000014</td>\n",
              "    </tr>\n",
              "  </tbody>\n",
              "</table>\n",
              "</div>"
            ],
            "text/plain": [
              "               KNN Basic  KNN Means  KNN Z-Score\n",
              "RMSE            0.770000   0.769000     0.762000\n",
              "GHG Emissions   0.000022   0.000013     0.000014"
            ]
          },
          "execution_count": 27,
          "metadata": {},
          "output_type": "execute_result"
        }
      ],
      "source": [
        "model = [knnbasic, knnmeans, knnzscore]\n",
        "dict_model = {}\n",
        "\n",
        "for model in model:\n",
        "  model = [knnbasic, knnmeans, knnzscore]\n",
        "dict_model = {}\n",
        "\n",
        "for model in model:\n",
        "    tracker = EmissionsTracker()\n",
        "    tracker.start()\n",
        "    y_pred = model.fit(trainset).test(testset)\n",
        "    emissions = tracker.stop()\n",
        "    rmse = accuracy.rmse(y_pred)\n",
        "    dict_model[model] = (rmse.round(3), emissions)\n",
        "\n",
        "eval_model = pd.DataFrame(dict_model, index=[\"RMSE\", \"GHG Emissions\"])\n",
        "eval_model.columns = [\"KNN Basic\", \"KNN Means\", \"KNN Z-Score\"]\n",
        "\n",
        "eval_model"
      ]
    },
    {
      "cell_type": "code",
      "execution_count": 28,
      "metadata": {
        "colab": {
          "base_uri": "https://localhost:8080/"
        },
        "id": "u4hF8Um9qBfS",
        "outputId": "bf353bf7-948a-470c-d2d8-402fa7b78702"
      },
      "outputs": [
        {
          "name": "stdout",
          "output_type": "stream",
          "text": [
            "Computing the msd similarity matrix...\n",
            "Done computing similarity matrix.\n",
            "Computing the msd similarity matrix...\n",
            "Done computing similarity matrix.\n",
            "Computing the msd similarity matrix...\n",
            "Done computing similarity matrix.\n",
            "Computing the msd similarity matrix...\n",
            "Done computing similarity matrix.\n",
            "Computing the msd similarity matrix...\n",
            "Done computing similarity matrix.\n",
            "Computing the msd similarity matrix...\n",
            "Done computing similarity matrix.\n",
            "Computing the msd similarity matrix...\n",
            "Done computing similarity matrix.\n",
            "Computing the msd similarity matrix...\n",
            "Done computing similarity matrix.\n",
            "Computing the msd similarity matrix...\n",
            "Done computing similarity matrix.\n",
            "Computing the msd similarity matrix...\n",
            "Done computing similarity matrix.\n",
            "Computing the msd similarity matrix...\n",
            "Done computing similarity matrix.\n",
            "Computing the msd similarity matrix...\n",
            "Done computing similarity matrix.\n",
            "Computing the msd similarity matrix...\n",
            "Done computing similarity matrix.\n",
            "Computing the msd similarity matrix...\n",
            "Done computing similarity matrix.\n",
            "Computing the msd similarity matrix...\n",
            "Done computing similarity matrix.\n",
            "Computing the msd similarity matrix...\n",
            "Done computing similarity matrix.\n",
            "Computing the msd similarity matrix...\n",
            "Done computing similarity matrix.\n",
            "Computing the msd similarity matrix...\n",
            "Done computing similarity matrix.\n",
            "Computing the msd similarity matrix...\n",
            "Done computing similarity matrix.\n",
            "Computing the msd similarity matrix...\n",
            "Done computing similarity matrix.\n",
            "Computing the msd similarity matrix...\n",
            "Done computing similarity matrix.\n",
            "Computing the msd similarity matrix...\n",
            "Done computing similarity matrix.\n",
            "Computing the msd similarity matrix...\n",
            "Done computing similarity matrix.\n",
            "Computing the msd similarity matrix...\n",
            "Done computing similarity matrix.\n",
            "Computing the msd similarity matrix...\n",
            "Done computing similarity matrix.\n",
            "Computing the msd similarity matrix...\n",
            "Done computing similarity matrix.\n",
            "Computing the msd similarity matrix...\n",
            "Done computing similarity matrix.\n",
            "Computing the msd similarity matrix...\n",
            "Done computing similarity matrix.\n",
            "Computing the msd similarity matrix...\n",
            "Done computing similarity matrix.\n",
            "Computing the msd similarity matrix...\n",
            "Done computing similarity matrix.\n",
            "Computing the msd similarity matrix...\n",
            "Done computing similarity matrix.\n",
            "Computing the msd similarity matrix...\n",
            "Done computing similarity matrix.\n",
            "Computing the msd similarity matrix...\n",
            "Done computing similarity matrix.\n",
            "Computing the msd similarity matrix...\n",
            "Done computing similarity matrix.\n",
            "Computing the msd similarity matrix...\n",
            "Done computing similarity matrix.\n",
            "0.7428168591787411\n",
            "{'k': 20}\n"
          ]
        }
      ],
      "source": [
        "param_grid = {'k': [20, 30, 40, 50, 60, 70, 80]}\n",
        "\n",
        "gs = GridSearchCV(KNNWithZScore,\n",
        "                  param_grid,\n",
        "                  measures=['rmse', 'mae'],\n",
        "                  cv=5)\n",
        "\n",
        "gs.fit(data_surprise)\n",
        "\n",
        "# best RMSE score\n",
        "print(gs.best_score['rmse'])\n",
        "\n",
        "# combination of parameters that gave the best RMSE score\n",
        "print(gs.best_params['rmse'])"
      ]
    },
    {
      "cell_type": "code",
      "execution_count": 29,
      "metadata": {
        "colab": {
          "base_uri": "https://localhost:8080/"
        },
        "id": "KtlUyZ0uUUmU",
        "outputId": "096afd8c-5e4f-42c7-99a4-246f1e98580a"
      },
      "outputs": [
        {
          "name": "stderr",
          "output_type": "stream",
          "text": [
            "/home/cecile/anaconda3/envs/nlpenv/lib/python3.9/site-packages/apscheduler/util.py:95: PytzUsageWarning: The zone attribute is specific to pytz's interface; please migrate to a new time zone provider. For more details on how to do so, see https://pytz-deprecation-shim.readthedocs.io/en/latest/migration.html\n",
            "  if obj.zone == 'local':\n",
            "/home/cecile/anaconda3/envs/nlpenv/lib/python3.9/site-packages/apscheduler/triggers/interval.py:66: PytzUsageWarning: The normalize method is no longer necessary, as this time zone supports the fold attribute (PEP 495). For more details on migrating to a PEP 495-compliant implementation, see https://pytz-deprecation-shim.readthedocs.io/en/latest/migration.html\n",
            "  return self.timezone.normalize(next_fire_time)\n"
          ]
        },
        {
          "name": "stdout",
          "output_type": "stream",
          "text": [
            "Computing the msd similarity matrix...\n",
            "Done computing similarity matrix.\n",
            "RMSE: 0.7443\n",
            "GHG emission: 2.7803216914243218e-05 kg/CO2\n"
          ]
        }
      ],
      "source": [
        "knn_gs = gs.best_estimator['rmse']\n",
        "\n",
        "tracker = EmissionsTracker()\n",
        "\n",
        "tracker.start()\n",
        "predictions = knn_gs.fit(trainset).test(testset)\n",
        "emissions = tracker.stop()\n",
        "\n",
        "\n",
        "accuracy.rmse(predictions)\n",
        "print(\"GHG emission: \" + str(emissions) + \" kg/CO2\")"
      ]
    },
    {
      "cell_type": "code",
      "execution_count": 30,
      "metadata": {
        "colab": {
          "base_uri": "https://localhost:8080/"
        },
        "id": "G_CvFtaiqBfS",
        "outputId": "9d1034fe-5d32-4515-ae67-7ff728c5abc9"
      },
      "outputs": [
        {
          "data": {
            "text/plain": [
              "88"
            ]
          },
          "execution_count": 30,
          "metadata": {},
          "output_type": "execute_result"
        }
      ],
      "source": [
        "del gs,\\\n",
        "    dict_model,\\\n",
        "    predictions,\\\n",
        "    tracker,\\\n",
        "    emissions\n",
        "gc.collect()"
      ]
    },
    {
      "cell_type": "markdown",
      "metadata": {
        "id": "nC_gs8GTqBfT"
      },
      "source": [
        "## 3) Content-based algorithms"
      ]
    },
    {
      "cell_type": "markdown",
      "metadata": {
        "id": "u-32UOQn7zMW"
      },
      "source": [
        "### a) With Tfidf"
      ]
    },
    {
      "cell_type": "markdown",
      "metadata": {
        "id": "TzpW7-nnqBfT"
      },
      "source": [
        "https://medium.com/analytics-vidhya/content-based-recommender-systems-in-python-2b330e01eb80"
      ]
    },
    {
      "cell_type": "code",
      "execution_count": 33,
      "metadata": {
        "id": "SAmnxgKFqBfT"
      },
      "outputs": [],
      "source": [
        "desc = books.copy()\n",
        "desc = desc[[\"Id\", \"Name\", \"Authors\", \"Description\"]]"
      ]
    },
    {
      "cell_type": "code",
      "execution_count": 34,
      "metadata": {
        "id": "38ligZhkhmhD"
      },
      "outputs": [],
      "source": [
        "desc = desc.sample(frac=.2,\n",
        "                   random_state=42)"
      ]
    },
    {
      "cell_type": "code",
      "execution_count": 35,
      "metadata": {
        "id": "q5X77X_TkZeI"
      },
      "outputs": [],
      "source": [
        "desc.reset_index(inplace=True)\n",
        "desc.drop(\"index\", axis=1, inplace=True)"
      ]
    },
    {
      "cell_type": "code",
      "execution_count": 36,
      "metadata": {
        "colab": {
          "base_uri": "https://localhost:8080/"
        },
        "id": "RuImF-iVqBfU",
        "outputId": "9ed5f33d-69fa-4fc4-e1cf-de371c7c3b67"
      },
      "outputs": [
        {
          "name": "stderr",
          "output_type": "stream",
          "text": [
            "CODECARBON : No CPU tracking mode found. Falling back on CPU constant mode.\n",
            "CODECARBON : Failed to match CPU TDP constant. Falling back on a global constant.\n",
            "/usr/local/lib/python3.7/dist-packages/apscheduler/util.py:95: PytzUsageWarning: The zone attribute is specific to pytz's interface; please migrate to a new time zone provider. For more details on how to do so, see https://pytz-deprecation-shim.readthedocs.io/en/latest/migration.html\n",
            "  if obj.zone == 'local':\n",
            "/usr/local/lib/python3.7/dist-packages/apscheduler/triggers/interval.py:66: PytzUsageWarning: The normalize method is no longer necessary, as this time zone supports the fold attribute (PEP 495). For more details on migrating to a PEP 495-compliant implementation, see https://pytz-deprecation-shim.readthedocs.io/en/latest/migration.html\n",
            "  return self.timezone.normalize(next_fire_time)\n",
            "/usr/local/lib/python3.7/dist-packages/apscheduler/triggers/interval.py:66: PytzUsageWarning: The normalize method is no longer necessary, as this time zone supports the fold attribute (PEP 495). For more details on migrating to a PEP 495-compliant implementation, see https://pytz-deprecation-shim.readthedocs.io/en/latest/migration.html\n",
            "  return self.timezone.normalize(next_fire_time)\n"
          ]
        },
        {
          "name": "stdout",
          "output_type": "stream",
          "text": [
            "GHG Emissions: 0.0002398766175715092 kg/CO2\n"
          ]
        }
      ],
      "source": [
        "tracker = EmissionsTracker()\n",
        "\n",
        "tracker.start()\n",
        "tfidf = TfidfVectorizer(stop_words='english')\n",
        "desc['Description'] = desc['Description'].fillna(\"\")\n",
        "descr_matrix = tfidf.fit_transform(desc['Description'])\n",
        "similarity_matrix = linear_kernel(descr_matrix, descr_matrix)\n",
        "emissions = tracker.stop()\n",
        "\n",
        "print(\"GHG Emissions: \" + str(emissions) + ' kg/CO2')"
      ]
    },
    {
      "cell_type": "code",
      "execution_count": 37,
      "metadata": {
        "colab": {
          "base_uri": "https://localhost:8080/"
        },
        "id": "elm-9tf-qBfV",
        "outputId": "4f0f5262-589a-4124-e780-90e2ae58b72c"
      },
      "outputs": [
        {
          "name": "stdout",
          "output_type": "stream",
          "text": [
            "Name\n",
            "On the Other Side of Mount Ararat: A Story of a Vanished City        0\n",
            "The Tall Uncut: Stories                                              1\n",
            "Heart Essence of the Vast Expanse: A Story of Transmission           2\n",
            "Don't Look a Ghost Horse in the Mouth                                3\n",
            "Turpentine                                                           4\n",
            "                                                                 ...  \n",
            "Infernal Revenue (The Destroyer, #96)                            23911\n",
            "Die with Me                                                      23912\n",
            "Kingyo: The Artistry of the Japanese Goldfish                    23913\n",
            "The Shadow Roads (The Swans' War, book 3)                        23914\n",
            "Roommates                                                        23915\n",
            "Length: 23916, dtype: int64\n"
          ]
        }
      ],
      "source": [
        "mapping = pd.Series(desc.index,\n",
        "          index = desc['Name'])\n",
        "print(mapping)"
      ]
    },
    {
      "cell_type": "code",
      "execution_count": 38,
      "metadata": {
        "id": "Px88oZ6mqBfV"
      },
      "outputs": [],
      "source": [
        "def recommend_books(book_input):\n",
        "    print(\"Book Read: \", book_input)\n",
        "    book_index = mapping[book_input]\n",
        "    #get similarity values with other books\n",
        "    #similarity_score is the list of index and similarity matrix\n",
        "    similarity_score = list(enumerate(similarity_matrix[book_index]))\n",
        "    #sort in descending order the similarity score of movie inputted with all the other books\n",
        "    similarity_score = sorted(similarity_score, key=lambda x: x[1], reverse=True)\n",
        "    \n",
        "    # Get the scores of the 5 most similar books. Ignore the first book.\n",
        "    similarity_score = similarity_score[1:5]\n",
        "    \n",
        "    #return book names using the mapping series\n",
        "    book_indices = [i[0] for i in similarity_score]\n",
        "    return (desc['Name'].iloc[book_indices])"
      ]
    },
    {
      "cell_type": "code",
      "execution_count": 39,
      "metadata": {
        "colab": {
          "base_uri": "https://localhost:8080/"
        },
        "id": "rV5yvgU5kOn0",
        "outputId": "16802339-5621-456d-a04d-d237633c581a"
      },
      "outputs": [
        {
          "name": "stdout",
          "output_type": "stream",
          "text": [
            "Book Read:  The Shining\n"
          ]
        },
        {
          "data": {
            "text/plain": [
              "7724     Room with a Clue (Pennyfoot Hotel #1)\n",
              "20610                      Buzby to the Rescue\n",
              "2395      Maid to Murder (Pennyfoot Hotel #12)\n",
              "12329                                   Double\n",
              "Name: Name, dtype: object"
            ]
          },
          "execution_count": 39,
          "metadata": {},
          "output_type": "execute_result"
        }
      ],
      "source": [
        "recommend_books('The Shining')"
      ]
    },
    {
      "cell_type": "code",
      "execution_count": 40,
      "metadata": {
        "colab": {
          "base_uri": "https://localhost:8080/"
        },
        "id": "hoxO3u-ThCOJ",
        "outputId": "9c925837-08b9-4754-88f4-6bfa4eeaa869"
      },
      "outputs": [
        {
          "data": {
            "text/plain": [
              "75"
            ]
          },
          "execution_count": 40,
          "metadata": {},
          "output_type": "execute_result"
        }
      ],
      "source": [
        "del tracker, emissions\n",
        "gc.collect()"
      ]
    },
    {
      "cell_type": "markdown",
      "metadata": {
        "id": "XSrLw-N57zMa"
      },
      "source": [
        "### b) Using Transformers"
      ]
    },
    {
      "cell_type": "markdown",
      "metadata": {
        "id": "49sVqr2F7zMb"
      },
      "source": [
        "https://towardsdatascience.com/hands-on-content-based-recommender-system-using-python-1d643bf314e4"
      ]
    },
    {
      "cell_type": "code",
      "execution_count": 41,
      "metadata": {
        "id": "60JSOB3o7zMc"
      },
      "outputs": [],
      "source": [
        "from sentence_transformers import SentenceTransformer\n",
        "import pandas as pd\n",
        "import seaborn as sns\n",
        "from sklearn.feature_extraction.text import CountVectorizer\n",
        "from sklearn.metrics.pairwise import cosine_similarity\n",
        "from sklearn.decomposition import PCA"
      ]
    },
    {
      "cell_type": "code",
      "execution_count": 42,
      "metadata": {
        "colab": {
          "base_uri": "https://localhost:8080/",
          "height": 206
        },
        "id": "pX6AEwtq7zMc",
        "outputId": "78a91bb1-3339-419e-de1a-6d531bed260a"
      },
      "outputs": [
        {
          "data": {
            "text/html": [
              "\n",
              "  <div id=\"df-3de217ec-9f6f-4174-9b63-4477138aeaac\">\n",
              "    <div class=\"colab-df-container\">\n",
              "      <div>\n",
              "<style scoped>\n",
              "    .dataframe tbody tr th:only-of-type {\n",
              "        vertical-align: middle;\n",
              "    }\n",
              "\n",
              "    .dataframe tbody tr th {\n",
              "        vertical-align: top;\n",
              "    }\n",
              "\n",
              "    .dataframe thead th {\n",
              "        text-align: right;\n",
              "    }\n",
              "</style>\n",
              "<table border=\"1\" class=\"dataframe\">\n",
              "  <thead>\n",
              "    <tr style=\"text-align: right;\">\n",
              "      <th></th>\n",
              "      <th>Name</th>\n",
              "      <th>Authors</th>\n",
              "      <th>Description</th>\n",
              "    </tr>\n",
              "  </thead>\n",
              "  <tbody>\n",
              "    <tr>\n",
              "      <th>0</th>\n",
              "      <td>On the Other Side of Mount Ararat: A Story of ...</td>\n",
              "      <td>Mariam Manoukian</td>\n",
              "      <td>On the Other Side of Mount Ararat is the story...</td>\n",
              "    </tr>\n",
              "    <tr>\n",
              "      <th>1</th>\n",
              "      <td>The Tall Uncut: Stories</td>\n",
              "      <td>Pete Fromm</td>\n",
              "      <td>In this honest, contemporary collection of sho...</td>\n",
              "    </tr>\n",
              "    <tr>\n",
              "      <th>2</th>\n",
              "      <td>Heart Essence of the Vast Expanse: A Story of ...</td>\n",
              "      <td>Anne Carolyn Klein</td>\n",
              "      <td>Beautiful, evocative, and eminently useful, th...</td>\n",
              "    </tr>\n",
              "    <tr>\n",
              "      <th>3</th>\n",
              "      <td>Don't Look a Ghost Horse in the Mouth</td>\n",
              "      <td>George E. Stanley</td>\n",
              "      <td>The horse Emily brags about to her classmates ...</td>\n",
              "    </tr>\n",
              "    <tr>\n",
              "      <th>4</th>\n",
              "      <td>Turpentine</td>\n",
              "      <td>Spring Warren</td>\n",
              "      <td>A comic glance at the old American West and a ...</td>\n",
              "    </tr>\n",
              "  </tbody>\n",
              "</table>\n",
              "</div>\n",
              "      <button class=\"colab-df-convert\" onclick=\"convertToInteractive('df-3de217ec-9f6f-4174-9b63-4477138aeaac')\"\n",
              "              title=\"Convert this dataframe to an interactive table.\"\n",
              "              style=\"display:none;\">\n",
              "        \n",
              "  <svg xmlns=\"http://www.w3.org/2000/svg\" height=\"24px\"viewBox=\"0 0 24 24\"\n",
              "       width=\"24px\">\n",
              "    <path d=\"M0 0h24v24H0V0z\" fill=\"none\"/>\n",
              "    <path d=\"M18.56 5.44l.94 2.06.94-2.06 2.06-.94-2.06-.94-.94-2.06-.94 2.06-2.06.94zm-11 1L8.5 8.5l.94-2.06 2.06-.94-2.06-.94L8.5 2.5l-.94 2.06-2.06.94zm10 10l.94 2.06.94-2.06 2.06-.94-2.06-.94-.94-2.06-.94 2.06-2.06.94z\"/><path d=\"M17.41 7.96l-1.37-1.37c-.4-.4-.92-.59-1.43-.59-.52 0-1.04.2-1.43.59L10.3 9.45l-7.72 7.72c-.78.78-.78 2.05 0 2.83L4 21.41c.39.39.9.59 1.41.59.51 0 1.02-.2 1.41-.59l7.78-7.78 2.81-2.81c.8-.78.8-2.07 0-2.86zM5.41 20L4 18.59l7.72-7.72 1.47 1.35L5.41 20z\"/>\n",
              "  </svg>\n",
              "      </button>\n",
              "      \n",
              "  <style>\n",
              "    .colab-df-container {\n",
              "      display:flex;\n",
              "      flex-wrap:wrap;\n",
              "      gap: 12px;\n",
              "    }\n",
              "\n",
              "    .colab-df-convert {\n",
              "      background-color: #E8F0FE;\n",
              "      border: none;\n",
              "      border-radius: 50%;\n",
              "      cursor: pointer;\n",
              "      display: none;\n",
              "      fill: #1967D2;\n",
              "      height: 32px;\n",
              "      padding: 0 0 0 0;\n",
              "      width: 32px;\n",
              "    }\n",
              "\n",
              "    .colab-df-convert:hover {\n",
              "      background-color: #E2EBFA;\n",
              "      box-shadow: 0px 1px 2px rgba(60, 64, 67, 0.3), 0px 1px 3px 1px rgba(60, 64, 67, 0.15);\n",
              "      fill: #174EA6;\n",
              "    }\n",
              "\n",
              "    [theme=dark] .colab-df-convert {\n",
              "      background-color: #3B4455;\n",
              "      fill: #D2E3FC;\n",
              "    }\n",
              "\n",
              "    [theme=dark] .colab-df-convert:hover {\n",
              "      background-color: #434B5C;\n",
              "      box-shadow: 0px 1px 3px 1px rgba(0, 0, 0, 0.15);\n",
              "      filter: drop-shadow(0px 1px 2px rgba(0, 0, 0, 0.3));\n",
              "      fill: #FFFFFF;\n",
              "    }\n",
              "  </style>\n",
              "\n",
              "      <script>\n",
              "        const buttonEl =\n",
              "          document.querySelector('#df-3de217ec-9f6f-4174-9b63-4477138aeaac button.colab-df-convert');\n",
              "        buttonEl.style.display =\n",
              "          google.colab.kernel.accessAllowed ? 'block' : 'none';\n",
              "\n",
              "        async function convertToInteractive(key) {\n",
              "          const element = document.querySelector('#df-3de217ec-9f6f-4174-9b63-4477138aeaac');\n",
              "          const dataTable =\n",
              "            await google.colab.kernel.invokeFunction('convertToInteractive',\n",
              "                                                     [key], {});\n",
              "          if (!dataTable) return;\n",
              "\n",
              "          const docLinkHtml = 'Like what you see? Visit the ' +\n",
              "            '<a target=\"_blank\" href=https://colab.research.google.com/notebooks/data_table.ipynb>data table notebook</a>'\n",
              "            + ' to learn more about interactive tables.';\n",
              "          element.innerHTML = '';\n",
              "          dataTable['output_type'] = 'display_data';\n",
              "          await google.colab.output.renderOutput(dataTable, element);\n",
              "          const docLink = document.createElement('div');\n",
              "          docLink.innerHTML = docLinkHtml;\n",
              "          element.appendChild(docLink);\n",
              "        }\n",
              "      </script>\n",
              "    </div>\n",
              "  </div>\n",
              "  "
            ],
            "text/plain": [
              "                                                Name  ...                                        Description\n",
              "0  On the Other Side of Mount Ararat: A Story of ...  ...  On the Other Side of Mount Ararat is the story...\n",
              "1                            The Tall Uncut: Stories  ...  In this honest, contemporary collection of sho...\n",
              "2  Heart Essence of the Vast Expanse: A Story of ...  ...  Beautiful, evocative, and eminently useful, th...\n",
              "3              Don't Look a Ghost Horse in the Mouth  ...  The horse Emily brags about to her classmates ...\n",
              "4                                         Turpentine  ...  A comic glance at the old American West and a ...\n",
              "\n",
              "[5 rows x 3 columns]"
            ]
          },
          "execution_count": 42,
          "metadata": {},
          "output_type": "execute_result"
        }
      ],
      "source": [
        "data = pd.read_parquet(path+\"books_with_complete_description.parquet.gzip\")\n",
        "data = data[[\"Name\", \"Authors\", \"Description\"]].sample(frac=.3, random_state=42)\n",
        "data.reset_index(inplace=True)\n",
        "data.drop(\"index\", axis=1, inplace=True)\n",
        "data.head()"
      ]
    },
    {
      "cell_type": "code",
      "execution_count": 43,
      "metadata": {
        "id": "1oqra0qc7zMd"
      },
      "outputs": [],
      "source": [
        "X = np.array(data[\"Description\"])"
      ]
    },
    {
      "cell_type": "code",
      "execution_count": 44,
      "metadata": {
        "colab": {
          "base_uri": "https://localhost:8080/",
          "height": 225,
          "referenced_widgets": [
            "bd4836a616854edca05b7f65c9b3f472",
            "7b25a80ad1e448b8bcee3c66f25e6b35",
            "7d6349ee2121451b95af9023ff4e2543",
            "45e21e9892fd4fe387e4b4ca191034c2",
            "00640bf342224d60ad61b872abf8f82b",
            "7fde2f1f26d645dd8f978652c2237e6a",
            "a06a88d18d38498db17a2acdb6cf8de0",
            "be2ab15f0d7b4a61805390297ad894ba",
            "49df73ca9c444642a52b063a089c5707",
            "f96346822a2641e3bab0ace6a8c5fad3",
            "1f1881cfc7c94bbdb6e3a3432b96b1d4"
          ]
        },
        "id": "6hgpJWq07zMd",
        "outputId": "bc5e052c-ef3a-49bf-9fa8-173769727ba6"
      },
      "outputs": [
        {
          "name": "stderr",
          "output_type": "stream",
          "text": [
            "CODECARBON : No CPU tracking mode found. Falling back on CPU constant mode.\n",
            "CODECARBON : Failed to match CPU TDP constant. Falling back on a global constant.\n",
            "/usr/local/lib/python3.7/dist-packages/apscheduler/util.py:95: PytzUsageWarning: The zone attribute is specific to pytz's interface; please migrate to a new time zone provider. For more details on how to do so, see https://pytz-deprecation-shim.readthedocs.io/en/latest/migration.html\n",
            "  if obj.zone == 'local':\n",
            "/usr/local/lib/python3.7/dist-packages/apscheduler/triggers/interval.py:66: PytzUsageWarning: The normalize method is no longer necessary, as this time zone supports the fold attribute (PEP 495). For more details on migrating to a PEP 495-compliant implementation, see https://pytz-deprecation-shim.readthedocs.io/en/latest/migration.html\n",
            "  return self.timezone.normalize(next_fire_time)\n"
          ]
        },
        {
          "data": {
            "application/vnd.jupyter.widget-view+json": {
              "model_id": "bd4836a616854edca05b7f65c9b3f472",
              "version_major": 2,
              "version_minor": 0
            },
            "text/plain": [
              "Batches:   0%|          | 0/1122 [00:00<?, ?it/s]"
            ]
          },
          "metadata": {},
          "output_type": "display_data"
        },
        {
          "name": "stderr",
          "output_type": "stream",
          "text": [
            "/usr/local/lib/python3.7/dist-packages/apscheduler/triggers/interval.py:66: PytzUsageWarning: The normalize method is no longer necessary, as this time zone supports the fold attribute (PEP 495). For more details on migrating to a PEP 495-compliant implementation, see https://pytz-deprecation-shim.readthedocs.io/en/latest/migration.html\n",
            "  return self.timezone.normalize(next_fire_time)\n"
          ]
        },
        {
          "name": "stdout",
          "output_type": "stream",
          "text": [
            "GHG Emissions: 0.003380648796305687 kg/CO2\n"
          ]
        }
      ],
      "source": [
        "text_data = X\n",
        "\n",
        "tracker = EmissionsTracker()\n",
        "tracker.start()\n",
        "\n",
        "model = SentenceTransformer('distilbert-base-nli-mean-tokens')\n",
        "embeddings = model.encode(text_data, show_progress_bar=True)\n",
        "X = np.array(embeddings)\n",
        "cos_sim_data = pd.DataFrame(cosine_similarity(X))\n",
        "\n",
        "emissions = tracker.stop()\n",
        "print(\"GHG Emissions: \" + str(emissions) + \" kg/CO2\")"
      ]
    },
    {
      "cell_type": "code",
      "execution_count": 48,
      "metadata": {
        "id": "u-JxNz3N_QkD"
      },
      "outputs": [],
      "source": [
        "def give_recommendations(index, print_recommendation = False,print_recommendation_plots= False):\n",
        "  index_recomm =cos_sim_data.loc[index].sort_values(ascending=False).index.tolist()[1:6]\n",
        "  books_recomm =  data['Name'].loc[index_recomm].values\n",
        "  result = {'Books':books_recomm,'Index':index_recomm}\n",
        "  if print_recommendation==True:\n",
        "    print('Book Read: %s \\n'%(data['Name'].loc[index]))\n",
        "    k=1\n",
        "    for book in books_recomm:\n",
        "      print('Recommended book #%i : %s \\n'%(k, book))\n",
        "      k = k+1\n",
        "  if print_recommendation_plots==True:\n",
        "    print('Book Read - Description:\\n %s \\n'%(data['Description'].loc[index]))\n",
        "    k=1\n",
        "    for q in range(len(books_recomm)):\n",
        "      plot_q = data['Description'].loc[index_recomm[q]]\n",
        "      print('Recommended Book #%i - Description:\\n %s \\n'%(k,plot_q))\n",
        "      k=k+1\n",
        "  return result"
      ]
    },
    {
      "cell_type": "code",
      "execution_count": 49,
      "metadata": {
        "colab": {
          "base_uri": "https://localhost:8080/"
        },
        "id": "NnwQ6zgyB-Xi",
        "outputId": "ed6b7fc0-61cb-4b2f-e883-828dc3433671"
      },
      "outputs": [
        {
          "name": "stdout",
          "output_type": "stream",
          "text": [
            "Book Read: It \n",
            "\n",
            "Recommended book #1 : Take these Broken Wings \n",
            "\n",
            "Recommended book #2 : The Shining \n",
            "\n",
            "Recommended book #3 : The Wind Off the Sea (The Bexham Trilogy #2) \n",
            "\n",
            "Recommended book #4 : The Invisible Wall \n",
            "\n",
            "Recommended book #5 : The Knife of Never Letting Go (Chaos Walking, #1) \n",
            "\n",
            "Book Read - Description:\n",
            " To the children, the town was their whole world. To the adults, knowing better, Derry, Maine was just their home town: familiar, well-ordered for the most part. A good place to live.<br /><br />It was the children who saw - and felt - what made Derry so horribly different. In the storm drains, in the sewers, IT lurked, taking on the shape of every nightmare, each one's deepest dread. Sometimes IT reached up, seizing, tearing, killing...<br /><br />The adults, knowing better, knew nothing.<br /><br />Time passed and the children grew up, moved away. The horror of IT was deep-buried, wrapped in forgetfulness. Until they were called back, once more to confront IT as it stirred and coiled in the sullen depths of their memories, reaching up again to make their past nightmares a terrible present reality.<br /><br />\"A writer of excellence...King is one of the most fertile storytellers of the modern novel\" -<i>The Sunday Times</i><br /><br />\"One of the great storytellers of our time\" -<i>Guardian</i> \n",
            "\n",
            "Recommended Book #1 - Description:\n",
            " <b>Lyn Andrews' powerful Liverpool saga TAKE THESE BROKEN WINGS is perfect for readers of Dilly Court and Kate Thompson.</b><br /><b></b><br />Since she was six, Hannah Peckham has known how hard the world is. Thrown into the workhouse by the cousin to whom her desperate soldier father entrusted her, she emerges determined to make the most of what life has to offer, however little that might be.<br /><br />But the narrow confines of the workhouse have left Hannah ill-prepared for the hurly-burly of the Liverpool household in which she finds work. Naive and impetuous, when she loses the man she loves she rushes into a violent marriage from which there seems no escape - without terrible consequences... \n",
            "\n",
            "Recommended Book #2 - Description:\n",
            " Jack Torrance's new job at the Overlook Hotel is the perfect chance for a fresh start. As the off-season caretaker at the atmospheric old hotel, he'll have plenty of time to spend reconnecting with his family and working on his writing. But as the harsh winter weather sets in, the idyllic location feels ever more remote...and more sinister. And the only one to notice the strange and terrible forces gathering around the Overlook is Danny Torrance, a uniquely gifted five-year-old. \n",
            "\n",
            "Recommended Book #3 - Description:\n",
            " It is 1947, the worst winter in England since records began, and even the sea is frozen. For the women living in the little fishing port of Bexham, the chronic lack of everything from fuel to food has left them reeling.<br /><br />When Waldo Astley drives through thick Sussex snow into the village in his large American Buick, it is to find Bexham filled not just with grumbling residents, but frustrated wives and mothers forced back behind their stoves after the joy of the victory for which they fought so hard on the home front. Government directives have ensured that the returning men resumed the jobs their women managed so brilliantly through the gruelling years of war.<br /><br />But Waldo is no ordinary character, and while he has come to Bexham on a personal mission, his effect on all the residents is as warming as the electricity of which there is still such a shortage. For Judy, whose marriage to Walter has been badly affected by long years of separation; for Rusty, whose miscarriage has been mind-shattering; for Mathilda, whose single motherhood has put her eligibility in jeopardy, and for Meggie, still not recovered from her alter ego as a secret agent. No matter what the age or circumstances of the person, Waldo Astley is not just a breath of fresh air - but the wind off the sea. \n",
            "\n",
            "Recommended Book #4 - Description:\n",
            " There are places that I have never forgotten. A little cobbled street in a smoky mill town in the North of England has haunted me for the greater part of my life. It was inevitable that I should write about it and the people who lived on both sides of its 'Invisible Wall.' \" <br />The narrow street where Harry Bernstein grew up, in a small English mill town, was seemingly unremarkable. It was identical to countless other streets in countless other working-class neighborhoods of the early 1900s, except for the \"invisible wall\" that ran down its center, dividing Jewish families on one side from Christian families on the other. Only a few feet of cobblestones separated Jews from Gentiles, but socially, it they were miles apart. <br />On the eve of World War I, Harry's family struggles to make ends meet. His father earns little money at the Jewish tailoring shop and brings home even less, preferring to spend his wages drinking and gambling. Harry's mother, devoted to her children and fiercely resilient, survives on her dreams: new shoes that might secure Harry's admission to a fancy school; that her daughter might marry the local rabbi; that the entire family might one day be whisked off to the paradise of America. <br />Then Harry's older sister, Lily, does the unthinkable: She falls in love with Arthur, a Christian boy from across the street. <br />When Harry unwittingly discovers their secret affair, he must choose between the morals he's been taught all his life, his loyalty to his selfless mother, and what he knows to be true in his own heart. <br />A wonderfully charming memoir written when the author was ninety-three, The Invisible Wall\"\"vibrantly brings to life an all-but-forgotten time and place. It is a moving tale of working-class life, and of the boundaries that can be overcome by love. \"From the Hardcover edition. \n",
            "\n",
            "Recommended Book #5 - Description:\n",
            " Prentisstown isn't like other towns. Everyone can hear everyone else's thoughts in an overwhelming, never-ending stream of Noise. Just a month away from the birthday that will make him a man, Todd and his dog, Manchee—whose thoughts Todd can hear too, whether he wants to or not—stumble upon an area of complete silence. They find that in a town where privacy is impossible, something terrible has been hidden—a secret so awful that Todd and Manchee must run for their lives.<br /><br /><b>But how do you escape when your pursuers can hear your every thought?</b> \n",
            "\n"
          ]
        },
        {
          "data": {
            "text/plain": [
              "{'Books': array(['Take these Broken Wings', 'The Shining',\n",
              "        'The Wind Off the Sea (The Bexham Trilogy #2)',\n",
              "        'The Invisible Wall',\n",
              "        'The Knife of Never Letting Go (Chaos Walking, #1)'], dtype=object),\n",
              " 'Index': [22887, 1952, 948, 28447, 31252]}"
            ]
          },
          "execution_count": 49,
          "metadata": {},
          "output_type": "execute_result"
        }
      ],
      "source": [
        "give_recommendations(10580, True, True)"
      ]
    },
    {
      "cell_type": "code",
      "execution_count": 50,
      "metadata": {
        "id": "zW7nWh9mEgsm"
      },
      "outputs": [],
      "source": [
        "recomm_list = []\n",
        "\n",
        "for i in range(len(X)):\n",
        "  recomm_i = give_recommendations(i)\n",
        "  recomm_list.append(recomm_i['Books'])\n",
        "recomm_data = pd.DataFrame(recomm_list,columns=['First Recommendation',\n",
        "                                                'Second Recommendation',\n",
        "                                                'Third Recommendation',\n",
        "                                                'Fourth Recommendation',\n",
        "                                                'Fifth Recommendation'])\n",
        "recomm_data['Books Read'] = data['Name']\n",
        "recomm_data = recomm_data[['Books Read',\n",
        "                           'First Recommendation',\n",
        "                           'Second Recommendation',\n",
        "                           'Third Recommendation',\n",
        "                           'Fourth Recommendation',\n",
        "                           'Fifth Recommendation']]"
      ]
    },
    {
      "cell_type": "code",
      "execution_count": 51,
      "metadata": {
        "colab": {
          "base_uri": "https://localhost:8080/",
          "height": 337
        },
        "id": "3YuK65QJEo4V",
        "outputId": "8b364168-992e-4c02-c1f5-f314fd537c49"
      },
      "outputs": [
        {
          "data": {
            "text/html": [
              "\n",
              "  <div id=\"df-8406ced2-435c-4b4e-bc50-6be5fe04b338\">\n",
              "    <div class=\"colab-df-container\">\n",
              "      <div>\n",
              "<style scoped>\n",
              "    .dataframe tbody tr th:only-of-type {\n",
              "        vertical-align: middle;\n",
              "    }\n",
              "\n",
              "    .dataframe tbody tr th {\n",
              "        vertical-align: top;\n",
              "    }\n",
              "\n",
              "    .dataframe thead th {\n",
              "        text-align: right;\n",
              "    }\n",
              "</style>\n",
              "<table border=\"1\" class=\"dataframe\">\n",
              "  <thead>\n",
              "    <tr style=\"text-align: right;\">\n",
              "      <th></th>\n",
              "      <th>Books Read</th>\n",
              "      <th>First Recommendation</th>\n",
              "      <th>Second Recommendation</th>\n",
              "      <th>Third Recommendation</th>\n",
              "      <th>Fourth Recommendation</th>\n",
              "      <th>Fifth Recommendation</th>\n",
              "    </tr>\n",
              "  </thead>\n",
              "  <tbody>\n",
              "    <tr>\n",
              "      <th>11212</th>\n",
              "      <td>The First Dog</td>\n",
              "      <td>The Berenstain Bears Blaze a Trail</td>\n",
              "      <td>The Magic Gourd</td>\n",
              "      <td>Yum, Yum, Yummy! (The Giggle Club)</td>\n",
              "      <td>The Great Tug of War</td>\n",
              "      <td>What Time Is It, Mr. Crocodile?</td>\n",
              "    </tr>\n",
              "    <tr>\n",
              "      <th>2548</th>\n",
              "      <td>Revelations Cycle II: The Marches (In Nomine: ...</td>\n",
              "      <td>Bone Volume 6: Old Man's Cave</td>\n",
              "      <td>Gregor and the Code of Claw (Underland Chronic...</td>\n",
              "      <td>Midnight (Midnight)</td>\n",
              "      <td>Winterbirth (The Godless World, #1)</td>\n",
              "      <td>Destiny's Truth (Deathlands, #60)</td>\n",
              "    </tr>\n",
              "    <tr>\n",
              "      <th>6010</th>\n",
              "      <td>Methods in Cell Biology, Volume 63: Cytometry,...</td>\n",
              "      <td>Methods in Cell Biology, Volume 63: Cytometry,...</td>\n",
              "      <td>Knowledge of Life</td>\n",
              "      <td>Avery's Diseases Of The Newborn</td>\n",
              "      <td>Borderline Personality Disorder: Clinical and ...</td>\n",
              "      <td>Case Studies in Immunology: A Clinical Companion</td>\n",
              "    </tr>\n",
              "    <tr>\n",
              "      <th>25380</th>\n",
              "      <td>Oxford Atlas of the World</td>\n",
              "      <td>Emerging Powers (The Illustrated History of th...</td>\n",
              "      <td>A History of the World in the Twentieth Century</td>\n",
              "      <td>An Incomplete Education</td>\n",
              "      <td>An Incomplete Education</td>\n",
              "      <td>Roots: The Saga of an American Family</td>\n",
              "    </tr>\n",
              "    <tr>\n",
              "      <th>10621</th>\n",
              "      <td>Just Us Girls: Secrets to Feeling Good About Y...</td>\n",
              "      <td>GirlForce: Vibe: A Girl's Guidebook to Confide...</td>\n",
              "      <td>My Own Thoughts and Feelings (for Girls): A Yo...</td>\n",
              "      <td>Guys Like Girls Who . . .</td>\n",
              "      <td>Changing Your World One Diaper at a Time: A Re...</td>\n",
              "      <td>It's a Girl: Women Writers on Raising Daughters</td>\n",
              "    </tr>\n",
              "  </tbody>\n",
              "</table>\n",
              "</div>\n",
              "      <button class=\"colab-df-convert\" onclick=\"convertToInteractive('df-8406ced2-435c-4b4e-bc50-6be5fe04b338')\"\n",
              "              title=\"Convert this dataframe to an interactive table.\"\n",
              "              style=\"display:none;\">\n",
              "        \n",
              "  <svg xmlns=\"http://www.w3.org/2000/svg\" height=\"24px\"viewBox=\"0 0 24 24\"\n",
              "       width=\"24px\">\n",
              "    <path d=\"M0 0h24v24H0V0z\" fill=\"none\"/>\n",
              "    <path d=\"M18.56 5.44l.94 2.06.94-2.06 2.06-.94-2.06-.94-.94-2.06-.94 2.06-2.06.94zm-11 1L8.5 8.5l.94-2.06 2.06-.94-2.06-.94L8.5 2.5l-.94 2.06-2.06.94zm10 10l.94 2.06.94-2.06 2.06-.94-2.06-.94-.94-2.06-.94 2.06-2.06.94z\"/><path d=\"M17.41 7.96l-1.37-1.37c-.4-.4-.92-.59-1.43-.59-.52 0-1.04.2-1.43.59L10.3 9.45l-7.72 7.72c-.78.78-.78 2.05 0 2.83L4 21.41c.39.39.9.59 1.41.59.51 0 1.02-.2 1.41-.59l7.78-7.78 2.81-2.81c.8-.78.8-2.07 0-2.86zM5.41 20L4 18.59l7.72-7.72 1.47 1.35L5.41 20z\"/>\n",
              "  </svg>\n",
              "      </button>\n",
              "      \n",
              "  <style>\n",
              "    .colab-df-container {\n",
              "      display:flex;\n",
              "      flex-wrap:wrap;\n",
              "      gap: 12px;\n",
              "    }\n",
              "\n",
              "    .colab-df-convert {\n",
              "      background-color: #E8F0FE;\n",
              "      border: none;\n",
              "      border-radius: 50%;\n",
              "      cursor: pointer;\n",
              "      display: none;\n",
              "      fill: #1967D2;\n",
              "      height: 32px;\n",
              "      padding: 0 0 0 0;\n",
              "      width: 32px;\n",
              "    }\n",
              "\n",
              "    .colab-df-convert:hover {\n",
              "      background-color: #E2EBFA;\n",
              "      box-shadow: 0px 1px 2px rgba(60, 64, 67, 0.3), 0px 1px 3px 1px rgba(60, 64, 67, 0.15);\n",
              "      fill: #174EA6;\n",
              "    }\n",
              "\n",
              "    [theme=dark] .colab-df-convert {\n",
              "      background-color: #3B4455;\n",
              "      fill: #D2E3FC;\n",
              "    }\n",
              "\n",
              "    [theme=dark] .colab-df-convert:hover {\n",
              "      background-color: #434B5C;\n",
              "      box-shadow: 0px 1px 3px 1px rgba(0, 0, 0, 0.15);\n",
              "      filter: drop-shadow(0px 1px 2px rgba(0, 0, 0, 0.3));\n",
              "      fill: #FFFFFF;\n",
              "    }\n",
              "  </style>\n",
              "\n",
              "      <script>\n",
              "        const buttonEl =\n",
              "          document.querySelector('#df-8406ced2-435c-4b4e-bc50-6be5fe04b338 button.colab-df-convert');\n",
              "        buttonEl.style.display =\n",
              "          google.colab.kernel.accessAllowed ? 'block' : 'none';\n",
              "\n",
              "        async function convertToInteractive(key) {\n",
              "          const element = document.querySelector('#df-8406ced2-435c-4b4e-bc50-6be5fe04b338');\n",
              "          const dataTable =\n",
              "            await google.colab.kernel.invokeFunction('convertToInteractive',\n",
              "                                                     [key], {});\n",
              "          if (!dataTable) return;\n",
              "\n",
              "          const docLinkHtml = 'Like what you see? Visit the ' +\n",
              "            '<a target=\"_blank\" href=https://colab.research.google.com/notebooks/data_table.ipynb>data table notebook</a>'\n",
              "            + ' to learn more about interactive tables.';\n",
              "          element.innerHTML = '';\n",
              "          dataTable['output_type'] = 'display_data';\n",
              "          await google.colab.output.renderOutput(dataTable, element);\n",
              "          const docLink = document.createElement('div');\n",
              "          docLink.innerHTML = docLinkHtml;\n",
              "          element.appendChild(docLink);\n",
              "        }\n",
              "      </script>\n",
              "    </div>\n",
              "  </div>\n",
              "  "
            ],
            "text/plain": [
              "                                              Books Read  ...                              Fifth Recommendation\n",
              "11212                                      The First Dog  ...                   What Time Is It, Mr. Crocodile?\n",
              "2548   Revelations Cycle II: The Marches (In Nomine: ...  ...                 Destiny's Truth (Deathlands, #60)\n",
              "6010   Methods in Cell Biology, Volume 63: Cytometry,...  ...  Case Studies in Immunology: A Clinical Companion\n",
              "25380                          Oxford Atlas of the World  ...             Roots: The Saga of an American Family\n",
              "10621  Just Us Girls: Secrets to Feeling Good About Y...  ...   It's a Girl: Women Writers on Raising Daughters\n",
              "\n",
              "[5 rows x 6 columns]"
            ]
          },
          "execution_count": 51,
          "metadata": {},
          "output_type": "execute_result"
        }
      ],
      "source": [
        "recomm_data.sample(frac=1).head()"
      ]
    },
    {
      "cell_type": "code",
      "execution_count": 52,
      "metadata": {
        "colab": {
          "base_uri": "https://localhost:8080/"
        },
        "id": "HQVhgDxgCwGX",
        "outputId": "76c5907d-3646-419e-bc20-ba47c9f3831f"
      },
      "outputs": [
        {
          "data": {
            "text/plain": [
              "557"
            ]
          },
          "execution_count": 52,
          "metadata": {},
          "output_type": "execute_result"
        }
      ],
      "source": [
        "del users,\\\n",
        "    books,\\\n",
        "    data\n",
        "gc.collect()"
      ]
    },
    {
      "cell_type": "markdown",
      "metadata": {
        "id": "NRgwg5MRbbAw"
      },
      "source": [
        "**References:**\n",
        "- https://pixelfridge.digital/the-paradox-of-choice-why-more-isnt-always-better/"
      ]
    }
  ],
  "metadata": {
    "accelerator": "GPU",
    "colab": {
      "collapsed_sections": [],
      "machine_shape": "hm",
      "name": "P7_02_notebookmodelisation.ipynb",
      "provenance": []
    },
    "interpreter": {
      "hash": "ee493cea8a9059eddf8f922ba27d7b6585c0a98c31cf1c0366dab9037c7fbdac"
    },
    "kernelspec": {
      "display_name": "Python 3",
      "language": "python",
      "name": "python3"
    },
    "language_info": {
      "codemirror_mode": {
        "name": "ipython",
        "version": 3
      },
      "file_extension": ".py",
      "mimetype": "text/x-python",
      "name": "python",
      "nbconvert_exporter": "python",
      "pygments_lexer": "ipython3",
      "version": "3.9.7"
    },
    "widgets": {
      "application/vnd.jupyter.widget-state+json": {
        "00640bf342224d60ad61b872abf8f82b": {
          "model_module": "@jupyter-widgets/controls",
          "model_module_version": "1.5.0",
          "model_name": "HTMLModel",
          "state": {
            "_dom_classes": [],
            "_model_module": "@jupyter-widgets/controls",
            "_model_module_version": "1.5.0",
            "_model_name": "HTMLModel",
            "_view_count": null,
            "_view_module": "@jupyter-widgets/controls",
            "_view_module_version": "1.5.0",
            "_view_name": "HTMLView",
            "description": "",
            "description_tooltip": null,
            "layout": "IPY_MODEL_1f1881cfc7c94bbdb6e3a3432b96b1d4",
            "placeholder": "​",
            "style": "IPY_MODEL_f96346822a2641e3bab0ace6a8c5fad3",
            "value": " 1122/1122 [01:11&lt;00:00, 56.08it/s]"
          }
        },
        "1f1881cfc7c94bbdb6e3a3432b96b1d4": {
          "model_module": "@jupyter-widgets/base",
          "model_module_version": "1.2.0",
          "model_name": "LayoutModel",
          "state": {
            "_model_module": "@jupyter-widgets/base",
            "_model_module_version": "1.2.0",
            "_model_name": "LayoutModel",
            "_view_count": null,
            "_view_module": "@jupyter-widgets/base",
            "_view_module_version": "1.2.0",
            "_view_name": "LayoutView",
            "align_content": null,
            "align_items": null,
            "align_self": null,
            "border": null,
            "bottom": null,
            "display": null,
            "flex": null,
            "flex_flow": null,
            "grid_area": null,
            "grid_auto_columns": null,
            "grid_auto_flow": null,
            "grid_auto_rows": null,
            "grid_column": null,
            "grid_gap": null,
            "grid_row": null,
            "grid_template_areas": null,
            "grid_template_columns": null,
            "grid_template_rows": null,
            "height": null,
            "justify_content": null,
            "justify_items": null,
            "left": null,
            "margin": null,
            "max_height": null,
            "max_width": null,
            "min_height": null,
            "min_width": null,
            "object_fit": null,
            "object_position": null,
            "order": null,
            "overflow": null,
            "overflow_x": null,
            "overflow_y": null,
            "padding": null,
            "right": null,
            "top": null,
            "visibility": null,
            "width": null
          }
        },
        "45e21e9892fd4fe387e4b4ca191034c2": {
          "model_module": "@jupyter-widgets/controls",
          "model_module_version": "1.5.0",
          "model_name": "FloatProgressModel",
          "state": {
            "_dom_classes": [],
            "_model_module": "@jupyter-widgets/controls",
            "_model_module_version": "1.5.0",
            "_model_name": "FloatProgressModel",
            "_view_count": null,
            "_view_module": "@jupyter-widgets/controls",
            "_view_module_version": "1.5.0",
            "_view_name": "ProgressView",
            "bar_style": "success",
            "description": "",
            "description_tooltip": null,
            "layout": "IPY_MODEL_49df73ca9c444642a52b063a089c5707",
            "max": 1122,
            "min": 0,
            "orientation": "horizontal",
            "style": "IPY_MODEL_be2ab15f0d7b4a61805390297ad894ba",
            "value": 1122
          }
        },
        "49df73ca9c444642a52b063a089c5707": {
          "model_module": "@jupyter-widgets/base",
          "model_module_version": "1.2.0",
          "model_name": "LayoutModel",
          "state": {
            "_model_module": "@jupyter-widgets/base",
            "_model_module_version": "1.2.0",
            "_model_name": "LayoutModel",
            "_view_count": null,
            "_view_module": "@jupyter-widgets/base",
            "_view_module_version": "1.2.0",
            "_view_name": "LayoutView",
            "align_content": null,
            "align_items": null,
            "align_self": null,
            "border": null,
            "bottom": null,
            "display": null,
            "flex": null,
            "flex_flow": null,
            "grid_area": null,
            "grid_auto_columns": null,
            "grid_auto_flow": null,
            "grid_auto_rows": null,
            "grid_column": null,
            "grid_gap": null,
            "grid_row": null,
            "grid_template_areas": null,
            "grid_template_columns": null,
            "grid_template_rows": null,
            "height": null,
            "justify_content": null,
            "justify_items": null,
            "left": null,
            "margin": null,
            "max_height": null,
            "max_width": null,
            "min_height": null,
            "min_width": null,
            "object_fit": null,
            "object_position": null,
            "order": null,
            "overflow": null,
            "overflow_x": null,
            "overflow_y": null,
            "padding": null,
            "right": null,
            "top": null,
            "visibility": null,
            "width": null
          }
        },
        "7b25a80ad1e448b8bcee3c66f25e6b35": {
          "model_module": "@jupyter-widgets/base",
          "model_module_version": "1.2.0",
          "model_name": "LayoutModel",
          "state": {
            "_model_module": "@jupyter-widgets/base",
            "_model_module_version": "1.2.0",
            "_model_name": "LayoutModel",
            "_view_count": null,
            "_view_module": "@jupyter-widgets/base",
            "_view_module_version": "1.2.0",
            "_view_name": "LayoutView",
            "align_content": null,
            "align_items": null,
            "align_self": null,
            "border": null,
            "bottom": null,
            "display": null,
            "flex": null,
            "flex_flow": null,
            "grid_area": null,
            "grid_auto_columns": null,
            "grid_auto_flow": null,
            "grid_auto_rows": null,
            "grid_column": null,
            "grid_gap": null,
            "grid_row": null,
            "grid_template_areas": null,
            "grid_template_columns": null,
            "grid_template_rows": null,
            "height": null,
            "justify_content": null,
            "justify_items": null,
            "left": null,
            "margin": null,
            "max_height": null,
            "max_width": null,
            "min_height": null,
            "min_width": null,
            "object_fit": null,
            "object_position": null,
            "order": null,
            "overflow": null,
            "overflow_x": null,
            "overflow_y": null,
            "padding": null,
            "right": null,
            "top": null,
            "visibility": null,
            "width": null
          }
        },
        "7d6349ee2121451b95af9023ff4e2543": {
          "model_module": "@jupyter-widgets/controls",
          "model_module_version": "1.5.0",
          "model_name": "HTMLModel",
          "state": {
            "_dom_classes": [],
            "_model_module": "@jupyter-widgets/controls",
            "_model_module_version": "1.5.0",
            "_model_name": "HTMLModel",
            "_view_count": null,
            "_view_module": "@jupyter-widgets/controls",
            "_view_module_version": "1.5.0",
            "_view_name": "HTMLView",
            "description": "",
            "description_tooltip": null,
            "layout": "IPY_MODEL_a06a88d18d38498db17a2acdb6cf8de0",
            "placeholder": "​",
            "style": "IPY_MODEL_7fde2f1f26d645dd8f978652c2237e6a",
            "value": "Batches: 100%"
          }
        },
        "7fde2f1f26d645dd8f978652c2237e6a": {
          "model_module": "@jupyter-widgets/controls",
          "model_module_version": "1.5.0",
          "model_name": "DescriptionStyleModel",
          "state": {
            "_model_module": "@jupyter-widgets/controls",
            "_model_module_version": "1.5.0",
            "_model_name": "DescriptionStyleModel",
            "_view_count": null,
            "_view_module": "@jupyter-widgets/base",
            "_view_module_version": "1.2.0",
            "_view_name": "StyleView",
            "description_width": ""
          }
        },
        "a06a88d18d38498db17a2acdb6cf8de0": {
          "model_module": "@jupyter-widgets/base",
          "model_module_version": "1.2.0",
          "model_name": "LayoutModel",
          "state": {
            "_model_module": "@jupyter-widgets/base",
            "_model_module_version": "1.2.0",
            "_model_name": "LayoutModel",
            "_view_count": null,
            "_view_module": "@jupyter-widgets/base",
            "_view_module_version": "1.2.0",
            "_view_name": "LayoutView",
            "align_content": null,
            "align_items": null,
            "align_self": null,
            "border": null,
            "bottom": null,
            "display": null,
            "flex": null,
            "flex_flow": null,
            "grid_area": null,
            "grid_auto_columns": null,
            "grid_auto_flow": null,
            "grid_auto_rows": null,
            "grid_column": null,
            "grid_gap": null,
            "grid_row": null,
            "grid_template_areas": null,
            "grid_template_columns": null,
            "grid_template_rows": null,
            "height": null,
            "justify_content": null,
            "justify_items": null,
            "left": null,
            "margin": null,
            "max_height": null,
            "max_width": null,
            "min_height": null,
            "min_width": null,
            "object_fit": null,
            "object_position": null,
            "order": null,
            "overflow": null,
            "overflow_x": null,
            "overflow_y": null,
            "padding": null,
            "right": null,
            "top": null,
            "visibility": null,
            "width": null
          }
        },
        "bd4836a616854edca05b7f65c9b3f472": {
          "model_module": "@jupyter-widgets/controls",
          "model_module_version": "1.5.0",
          "model_name": "HBoxModel",
          "state": {
            "_dom_classes": [],
            "_model_module": "@jupyter-widgets/controls",
            "_model_module_version": "1.5.0",
            "_model_name": "HBoxModel",
            "_view_count": null,
            "_view_module": "@jupyter-widgets/controls",
            "_view_module_version": "1.5.0",
            "_view_name": "HBoxView",
            "box_style": "",
            "children": [
              "IPY_MODEL_7d6349ee2121451b95af9023ff4e2543",
              "IPY_MODEL_45e21e9892fd4fe387e4b4ca191034c2",
              "IPY_MODEL_00640bf342224d60ad61b872abf8f82b"
            ],
            "layout": "IPY_MODEL_7b25a80ad1e448b8bcee3c66f25e6b35"
          }
        },
        "be2ab15f0d7b4a61805390297ad894ba": {
          "model_module": "@jupyter-widgets/controls",
          "model_module_version": "1.5.0",
          "model_name": "ProgressStyleModel",
          "state": {
            "_model_module": "@jupyter-widgets/controls",
            "_model_module_version": "1.5.0",
            "_model_name": "ProgressStyleModel",
            "_view_count": null,
            "_view_module": "@jupyter-widgets/base",
            "_view_module_version": "1.2.0",
            "_view_name": "StyleView",
            "bar_color": null,
            "description_width": ""
          }
        },
        "f96346822a2641e3bab0ace6a8c5fad3": {
          "model_module": "@jupyter-widgets/controls",
          "model_module_version": "1.5.0",
          "model_name": "DescriptionStyleModel",
          "state": {
            "_model_module": "@jupyter-widgets/controls",
            "_model_module_version": "1.5.0",
            "_model_name": "DescriptionStyleModel",
            "_view_count": null,
            "_view_module": "@jupyter-widgets/base",
            "_view_module_version": "1.2.0",
            "_view_name": "StyleView",
            "description_width": ""
          }
        }
      }
    }
  },
  "nbformat": 4,
  "nbformat_minor": 0
}
